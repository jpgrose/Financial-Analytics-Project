{
 "cells": [
  {
   "cell_type": "markdown",
   "metadata": {
    "id": "9dsG_C4-QGHm"
   },
   "source": [
    "# Financial and Accounting Analytics of Stock Returns during 2020 Covid-19 Pandemic \n",
    "BA870 - Financial Analytics - Final Project\n",
    "\n",
    "Jordan Grose"
   ]
  },
  {
   "cell_type": "markdown",
   "metadata": {
    "id": "mJttwlyS0l3K"
   },
   "source": [
    "## Project Introduction\n",
    "\n",
    "The purpose of this project is to explain variation in stock returns during early and late fiscal 2020, which includes the beginning of the Covid-19 pandemic lockdown, for a group of about 2,800 publicly traded companies in the Russell 3000 Index. The variables we will use to explain returns variation include industry/sector categories (GIC Sectors and Industry Groups, SIC codes and NAICS codes), as well as various 2019 fiscal year financial ratios to control for the state of each company at the end of fiscal 2019 (beginning of 2020). The goal is to interpret how different industries performed and were affected by the covid-19 shock during 2020. Below are the financial variables used in this analysis:\n",
    "- Price/Book = (PRCC_C * CSHO ) / CEQ\n",
    "- P/E = (PRCC_C * CSHO ) / NI\n",
    "- P/EBIT = (PRCC_C * CSHO ) / EBIT\n",
    "- P/SALES = (PRCC_C * CSHO ) / SALE\n",
    "\n",
    "The purpose for including financial ratios in our analysis is to control for various financial states and well-beings of companies across industries/sectors, as well as control for each individual company's state at the beginning of the fiscal 2020 year in explaining both early and late 2020 returns performance. Including industry/sector information as a fixed effect allows us to control for and understand the effects of the covid-19 shock across various industries. We will be using Ordinary Least Squares regressions to perform our analysis."
   ]
  },
  {
   "cell_type": "markdown",
   "metadata": {
    "id": "Eu7WwLMK0WFh"
   },
   "source": [
    "## Imports and OS setup"
   ]
  },
  {
   "cell_type": "code",
   "execution_count": 1,
   "metadata": {
    "colab": {
     "base_uri": "https://localhost:8080/"
    },
    "id": "x-Im_hZFWaQP",
    "outputId": "736d18b2-a8d5-4083-fc11-b8ccb8c31155"
   },
   "outputs": [
    {
     "name": "stderr",
     "output_type": "stream",
     "text": [
      "/usr/local/lib/python3.7/dist-packages/statsmodels/tools/_testing.py:19: FutureWarning: pandas.util.testing is deprecated. Use the functions in the public API at pandas.testing instead.\n",
      "  import pandas.util.testing as tm\n"
     ]
    }
   ],
   "source": [
    "import os\n",
    "from google.colab import drive\n",
    "import numpy as np\n",
    "import pandas as pd\n",
    "import seaborn as sns\n",
    "import statsmodels.api as sm\n",
    "from scipy.stats.mstats import winsorize\n",
    "import matplotlib.pyplot as plt\n",
    "from matplotlib.pyplot import figure"
   ]
  },
  {
   "cell_type": "code",
   "execution_count": 2,
   "metadata": {
    "colab": {
     "base_uri": "https://localhost:8080/"
    },
    "id": "9Hw1kzVKPq2A",
    "outputId": "239bc38b-645c-4ffb-b624-2f17e630bd45"
   },
   "outputs": [
    {
     "name": "stdout",
     "output_type": "stream",
     "text": [
      "Drive already mounted at /content/gdrive/; to attempt to forcibly remount, call drive.mount(\"/content/gdrive/\", force_remount=True).\n"
     ]
    }
   ],
   "source": [
    "# Mount Google drive\n",
    "drive.mount('/content/gdrive/')"
   ]
  },
  {
   "cell_type": "code",
   "execution_count": 3,
   "metadata": {
    "id": "UsyA_MkhQEbM"
   },
   "outputs": [],
   "source": [
    "root_dir = \"/content/gdrive/MyDrive/BA870 - Financial Analytics/Lecture 10/\"\n",
    "project_folder = \"final_project/\"\n",
    "\n",
    "def create_and_set_working_directory(project_folder):\n",
    "  if os.path.isdir(root_dir + project_folder) == False:\n",
    "    os.mkdir(root_dir + project_folder)\n",
    "    print(root_dir + project_folder + ' did not exist but was created.')\n",
    "  os.chdir(root_dir + project_folder)\n",
    "\n",
    "create_and_set_working_directory(project_folder)"
   ]
  },
  {
   "cell_type": "markdown",
   "metadata": {
    "id": "S-ws_Mjv0fgh"
   },
   "source": [
    "## Data\n",
    "\n",
    "The data we'll be using for this analysis comes from the WRDS Compustat database. Fiscal 2019 financial ratios for the roughly 2,800 companies were previously calculated using 2019 Compustat data on Stock Price, Common Shares Outstanding, Common Equity, Net Income (Loss), Sales, and EBIT. Returns are downloaded similarly from Compustat, but using monthly stock return data for 2020. Early returns are calculated by using returns data, including returns from the months January through March 2020, and late returns are calculated from April through December 2020. Also downloaded from WRDS are the industry & sector codes for each of the companies (GICS, SIC, NAICS). The datasets will be loaded into pandas dataframes through existing CSVs used to download the data. Below are the formulas used to calculate early and late 2020 returns:\n",
    "\n",
    "RetEarly2020 = {(1+Ret[Jan 2020]) * (1+Ret[Feb 2020]) * (1+Ret[Mar 2020])} - 1\n",
    "\n",
    "RetLate2020 = {(1+Ret[Apr 2020]) * (1+Ret[May 2020]) * (1+Ret[Jun 2020]) * (1+Ret[Jul 2020]) * (1+Ret[JAug 2020]) * (1+Ret[JSep 2020])*(1+Ret[Oct 2020]) * (1+Ret[Nov 2020]) * (1+Ret[Dec 2020])} - 1"
   ]
  },
  {
   "cell_type": "markdown",
   "metadata": {
    "id": "Rg7ic3xQeIqY"
   },
   "source": [
    "## Loading the datasets"
   ]
  },
  {
   "cell_type": "code",
   "execution_count": 4,
   "metadata": {
    "id": "42CBb9AoQEik"
   },
   "outputs": [],
   "source": [
    "temp1 = pd.read_csv('temp1.csv') # fiscal 2020 early and late returns\n",
    "temp2 = pd.read_csv('temp2.csv') # company financials for the fiscal year 2019\n",
    "temp_industry = pd.read_csv('temp_industries.csv') # GICS (Industry Group & Sector), SIC, and NAICS codes"
   ]
  },
  {
   "cell_type": "code",
   "execution_count": 5,
   "metadata": {
    "colab": {
     "base_uri": "https://localhost:8080/",
     "height": 143
    },
    "id": "dk0A9hhMXbak",
    "outputId": "788d5e5e-a788-474c-fdd0-93d0061fc36c"
   },
   "outputs": [
    {
     "data": {
      "text/html": [
       "<div>\n",
       "<style scoped>\n",
       "    .dataframe tbody tr th:only-of-type {\n",
       "        vertical-align: middle;\n",
       "    }\n",
       "\n",
       "    .dataframe tbody tr th {\n",
       "        vertical-align: top;\n",
       "    }\n",
       "\n",
       "    .dataframe thead th {\n",
       "        text-align: right;\n",
       "    }\n",
       "</style>\n",
       "<table border=\"1\" class=\"dataframe\">\n",
       "  <thead>\n",
       "    <tr style=\"text-align: right;\">\n",
       "      <th></th>\n",
       "      <th>TICKER</th>\n",
       "      <th>RET_EARLY_2020</th>\n",
       "      <th>RET_LATE_2020</th>\n",
       "    </tr>\n",
       "  </thead>\n",
       "  <tbody>\n",
       "    <tr>\n",
       "      <th>0</th>\n",
       "      <td>JJSF</td>\n",
       "      <td>-0.340234</td>\n",
       "      <td>0.300340</td>\n",
       "    </tr>\n",
       "    <tr>\n",
       "      <th>1</th>\n",
       "      <td>PLXS</td>\n",
       "      <td>-0.290876</td>\n",
       "      <td>0.433469</td>\n",
       "    </tr>\n",
       "    <tr>\n",
       "      <th>2</th>\n",
       "      <td>HNGR</td>\n",
       "      <td>-0.435712</td>\n",
       "      <td>0.411425</td>\n",
       "    </tr>\n",
       "  </tbody>\n",
       "</table>\n",
       "</div>"
      ],
      "text/plain": [
       "  TICKER  RET_EARLY_2020  RET_LATE_2020\n",
       "0   JJSF       -0.340234       0.300340\n",
       "1   PLXS       -0.290876       0.433469\n",
       "2   HNGR       -0.435712       0.411425"
      ]
     },
     "execution_count": 5,
     "metadata": {
      "tags": []
     },
     "output_type": "execute_result"
    }
   ],
   "source": [
    "temp1.head(3)"
   ]
  },
  {
   "cell_type": "code",
   "execution_count": 6,
   "metadata": {
    "colab": {
     "base_uri": "https://localhost:8080/"
    },
    "id": "XleOqwkJXbdp",
    "outputId": "96903d5a-f296-43dd-c66f-54d270cc32e3"
   },
   "outputs": [
    {
     "name": "stdout",
     "output_type": "stream",
     "text": [
      "<class 'pandas.core.frame.DataFrame'>\n",
      "RangeIndex: 2711 entries, 0 to 2710\n",
      "Data columns (total 3 columns):\n",
      " #   Column          Non-Null Count  Dtype  \n",
      "---  ------          --------------  -----  \n",
      " 0   TICKER          2711 non-null   object \n",
      " 1   RET_EARLY_2020  2711 non-null   float64\n",
      " 2   RET_LATE_2020   2711 non-null   float64\n",
      "dtypes: float64(2), object(1)\n",
      "memory usage: 63.7+ KB\n"
     ]
    }
   ],
   "source": [
    "temp1.info()"
   ]
  },
  {
   "cell_type": "code",
   "execution_count": 7,
   "metadata": {
    "colab": {
     "base_uri": "https://localhost:8080/",
     "height": 143
    },
    "id": "QeqBiE76ZQcY",
    "outputId": "576fb821-faff-4211-9186-83521d691767"
   },
   "outputs": [
    {
     "data": {
      "text/html": [
       "<div>\n",
       "<style scoped>\n",
       "    .dataframe tbody tr th:only-of-type {\n",
       "        vertical-align: middle;\n",
       "    }\n",
       "\n",
       "    .dataframe tbody tr th {\n",
       "        vertical-align: top;\n",
       "    }\n",
       "\n",
       "    .dataframe thead th {\n",
       "        text-align: right;\n",
       "    }\n",
       "</style>\n",
       "<table border=\"1\" class=\"dataframe\">\n",
       "  <thead>\n",
       "    <tr style=\"text-align: right;\">\n",
       "      <th></th>\n",
       "      <th>datadate</th>\n",
       "      <th>TICKER</th>\n",
       "      <th>CEQ</th>\n",
       "      <th>CSHO</th>\n",
       "      <th>EBIT</th>\n",
       "      <th>NI</th>\n",
       "      <th>SALE</th>\n",
       "      <th>PRCC_C</th>\n",
       "    </tr>\n",
       "  </thead>\n",
       "  <tbody>\n",
       "    <tr>\n",
       "      <th>0</th>\n",
       "      <td>20200531</td>\n",
       "      <td>AIR</td>\n",
       "      <td>902.600</td>\n",
       "      <td>35.097</td>\n",
       "      <td>108.400</td>\n",
       "      <td>4.400</td>\n",
       "      <td>2089.300</td>\n",
       "      <td>45.10</td>\n",
       "    </tr>\n",
       "    <tr>\n",
       "      <th>1</th>\n",
       "      <td>20191231</td>\n",
       "      <td>AAL</td>\n",
       "      <td>-118.000</td>\n",
       "      <td>428.203</td>\n",
       "      <td>3706.000</td>\n",
       "      <td>1686.000</td>\n",
       "      <td>45768.000</td>\n",
       "      <td>28.68</td>\n",
       "    </tr>\n",
       "    <tr>\n",
       "      <th>2</th>\n",
       "      <td>20191231</td>\n",
       "      <td>CECE</td>\n",
       "      <td>193.017</td>\n",
       "      <td>35.137</td>\n",
       "      <td>19.622</td>\n",
       "      <td>17.707</td>\n",
       "      <td>341.869</td>\n",
       "      <td>7.66</td>\n",
       "    </tr>\n",
       "  </tbody>\n",
       "</table>\n",
       "</div>"
      ],
      "text/plain": [
       "   datadate TICKER      CEQ     CSHO      EBIT        NI       SALE  PRCC_C\n",
       "0  20200531    AIR  902.600   35.097   108.400     4.400   2089.300   45.10\n",
       "1  20191231    AAL -118.000  428.203  3706.000  1686.000  45768.000   28.68\n",
       "2  20191231   CECE  193.017   35.137    19.622    17.707    341.869    7.66"
      ]
     },
     "execution_count": 7,
     "metadata": {
      "tags": []
     },
     "output_type": "execute_result"
    }
   ],
   "source": [
    "temp2.head(3)"
   ]
  },
  {
   "cell_type": "code",
   "execution_count": 8,
   "metadata": {
    "colab": {
     "base_uri": "https://localhost:8080/"
    },
    "id": "7AWUZMDyZQfm",
    "outputId": "c87a7760-49b4-4a28-cada-e2b2557da785"
   },
   "outputs": [
    {
     "name": "stdout",
     "output_type": "stream",
     "text": [
      "<class 'pandas.core.frame.DataFrame'>\n",
      "RangeIndex: 2682 entries, 0 to 2681\n",
      "Data columns (total 8 columns):\n",
      " #   Column    Non-Null Count  Dtype  \n",
      "---  ------    --------------  -----  \n",
      " 0   datadate  2682 non-null   int64  \n",
      " 1   TICKER    2682 non-null   object \n",
      " 2   CEQ       2679 non-null   float64\n",
      " 3   CSHO      2679 non-null   float64\n",
      " 4   EBIT      2679 non-null   float64\n",
      " 5   NI        2679 non-null   float64\n",
      " 6   SALE      2679 non-null   float64\n",
      " 7   PRCC_C    2677 non-null   float64\n",
      "dtypes: float64(6), int64(1), object(1)\n",
      "memory usage: 167.8+ KB\n"
     ]
    }
   ],
   "source": [
    "temp2.info()"
   ]
  },
  {
   "cell_type": "code",
   "execution_count": 9,
   "metadata": {
    "colab": {
     "base_uri": "https://localhost:8080/",
     "height": 143
    },
    "id": "IOdmIDPtZQii",
    "outputId": "ee3113a1-a470-48f3-a1a8-ec7850ead584"
   },
   "outputs": [
    {
     "data": {
      "text/html": [
       "<div>\n",
       "<style scoped>\n",
       "    .dataframe tbody tr th:only-of-type {\n",
       "        vertical-align: middle;\n",
       "    }\n",
       "\n",
       "    .dataframe tbody tr th {\n",
       "        vertical-align: top;\n",
       "    }\n",
       "\n",
       "    .dataframe thead th {\n",
       "        text-align: right;\n",
       "    }\n",
       "</style>\n",
       "<table border=\"1\" class=\"dataframe\">\n",
       "  <thead>\n",
       "    <tr style=\"text-align: right;\">\n",
       "      <th></th>\n",
       "      <th>TICKER</th>\n",
       "      <th>GGROUP</th>\n",
       "      <th>GSECTOR</th>\n",
       "      <th>NAICS</th>\n",
       "      <th>SIC</th>\n",
       "    </tr>\n",
       "  </thead>\n",
       "  <tbody>\n",
       "    <tr>\n",
       "      <th>0</th>\n",
       "      <td>AIR</td>\n",
       "      <td>2010</td>\n",
       "      <td>20</td>\n",
       "      <td>423860</td>\n",
       "      <td>5080</td>\n",
       "    </tr>\n",
       "    <tr>\n",
       "      <th>1</th>\n",
       "      <td>AAL</td>\n",
       "      <td>2030</td>\n",
       "      <td>20</td>\n",
       "      <td>481111</td>\n",
       "      <td>4512</td>\n",
       "    </tr>\n",
       "    <tr>\n",
       "      <th>2</th>\n",
       "      <td>CECE</td>\n",
       "      <td>2020</td>\n",
       "      <td>20</td>\n",
       "      <td>333413</td>\n",
       "      <td>3564</td>\n",
       "    </tr>\n",
       "  </tbody>\n",
       "</table>\n",
       "</div>"
      ],
      "text/plain": [
       "  TICKER  GGROUP  GSECTOR   NAICS   SIC\n",
       "0    AIR    2010       20  423860  5080\n",
       "1    AAL    2030       20  481111  4512\n",
       "2   CECE    2020       20  333413  3564"
      ]
     },
     "execution_count": 9,
     "metadata": {
      "tags": []
     },
     "output_type": "execute_result"
    }
   ],
   "source": [
    "temp_industry.head(3)"
   ]
  },
  {
   "cell_type": "code",
   "execution_count": 10,
   "metadata": {
    "colab": {
     "base_uri": "https://localhost:8080/"
    },
    "id": "z2bpYwbmZQlp",
    "outputId": "f2b45d8c-b74a-4567-9340-4df96ddf1aa4"
   },
   "outputs": [
    {
     "name": "stdout",
     "output_type": "stream",
     "text": [
      "<class 'pandas.core.frame.DataFrame'>\n",
      "RangeIndex: 2838 entries, 0 to 2837\n",
      "Data columns (total 5 columns):\n",
      " #   Column   Non-Null Count  Dtype \n",
      "---  ------   --------------  ----- \n",
      " 0   TICKER   2838 non-null   object\n",
      " 1   GGROUP   2838 non-null   int64 \n",
      " 2   GSECTOR  2838 non-null   int64 \n",
      " 3   NAICS    2838 non-null   int64 \n",
      " 4   SIC      2838 non-null   int64 \n",
      "dtypes: int64(4), object(1)\n",
      "memory usage: 111.0+ KB\n"
     ]
    }
   ],
   "source": [
    "temp_industry.info()"
   ]
  },
  {
   "cell_type": "markdown",
   "metadata": {
    "id": "PMwYGbW-eM6J"
   },
   "source": [
    "## Merging and cleaning the datasets\n",
    "Below we will merge the datasets and clean the data to account for missing values. We will also create our financial ratios mentioned above and winsorize the data to account for outliers. Additionally for SIC codes, we will only use the first two characters (numbers) of the code. Using the entire SIC code would provide us with too many industries to create fixed effect groups."
   ]
  },
  {
   "cell_type": "code",
   "execution_count": 11,
   "metadata": {
    "colab": {
     "base_uri": "https://localhost:8080/"
    },
    "id": "cV8OocjpZQo5",
    "outputId": "4ad28320-349a-4e78-8d79-f85ff29fc853"
   },
   "outputs": [
    {
     "name": "stdout",
     "output_type": "stream",
     "text": [
      "<class 'pandas.core.frame.DataFrame'>\n",
      "Int64Index: 2676 entries, 0 to 2681\n",
      "Data columns (total 7 columns):\n",
      " #   Column  Non-Null Count  Dtype  \n",
      "---  ------  --------------  -----  \n",
      " 0   TICKER  2676 non-null   object \n",
      " 1   CEQ     2676 non-null   float64\n",
      " 2   CSHO    2676 non-null   float64\n",
      " 3   EBIT    2676 non-null   float64\n",
      " 4   NI      2676 non-null   float64\n",
      " 5   SALE    2676 non-null   float64\n",
      " 6   PRCC_C  2676 non-null   float64\n",
      "dtypes: float64(6), object(1)\n",
      "memory usage: 167.2+ KB\n"
     ]
    }
   ],
   "source": [
    "# dropping missing values from temp2, and dropping the date column from temp2\n",
    "temp2 = temp2.drop(columns='datadate', axis=1)\n",
    "temp2 = temp2.dropna(axis=0)\n",
    "temp2.info()"
   ]
  },
  {
   "cell_type": "code",
   "execution_count": 12,
   "metadata": {
    "colab": {
     "base_uri": "https://localhost:8080/"
    },
    "id": "e6EzfQXReEyX",
    "outputId": "fe5f451c-5588-4abd-e99d-40481ee9fc5a"
   },
   "outputs": [
    {
     "name": "stdout",
     "output_type": "stream",
     "text": [
      "<class 'pandas.core.frame.DataFrame'>\n",
      "Int64Index: 2687 entries, 0 to 2686\n",
      "Data columns (total 9 columns):\n",
      " #   Column          Non-Null Count  Dtype  \n",
      "---  ------          --------------  -----  \n",
      " 0   TICKER          2687 non-null   object \n",
      " 1   CEQ             2687 non-null   float64\n",
      " 2   CSHO            2687 non-null   float64\n",
      " 3   EBIT            2687 non-null   float64\n",
      " 4   NI              2687 non-null   float64\n",
      " 5   SALE            2687 non-null   float64\n",
      " 6   PRCC_C          2687 non-null   float64\n",
      " 7   RET_EARLY_2020  2687 non-null   float64\n",
      " 8   RET_LATE_2020   2687 non-null   float64\n",
      "dtypes: float64(8), object(1)\n",
      "memory usage: 209.9+ KB\n"
     ]
    }
   ],
   "source": [
    "# INNER JOIN merge the datasets temp1 and temp2\n",
    "df = temp2.merge(temp1, how='inner', on='TICKER')\n",
    "df.info()"
   ]
  },
  {
   "cell_type": "code",
   "execution_count": 13,
   "metadata": {
    "colab": {
     "base_uri": "https://localhost:8080/"
    },
    "id": "uwjVd2eNeE6E",
    "outputId": "e154df4b-eb4d-4f68-e27a-1d0071718e3a"
   },
   "outputs": [
    {
     "name": "stdout",
     "output_type": "stream",
     "text": [
      "<class 'pandas.core.frame.DataFrame'>\n",
      "Int64Index: 2687 entries, 0 to 2686\n",
      "Data columns (total 13 columns):\n",
      " #   Column          Non-Null Count  Dtype  \n",
      "---  ------          --------------  -----  \n",
      " 0   TICKER          2687 non-null   object \n",
      " 1   CEQ             2687 non-null   float64\n",
      " 2   CSHO            2687 non-null   float64\n",
      " 3   EBIT            2687 non-null   float64\n",
      " 4   NI              2687 non-null   float64\n",
      " 5   SALE            2687 non-null   float64\n",
      " 6   PRCC_C          2687 non-null   float64\n",
      " 7   RET_EARLY_2020  2687 non-null   float64\n",
      " 8   RET_LATE_2020   2687 non-null   float64\n",
      " 9   PRICE__BOOK     2687 non-null   float64\n",
      " 10  P__E            2687 non-null   float64\n",
      " 11  P__EBIT         2687 non-null   float64\n",
      " 12  P__SALES        2687 non-null   float64\n",
      "dtypes: float64(12), object(1)\n",
      "memory usage: 293.9+ KB\n"
     ]
    }
   ],
   "source": [
    "# Creating our financial ratios\n",
    "# We will be using the inverse of the ratios in our feature engineering to account for dividing by 0, which would result in NaN values in our dataset\n",
    "\n",
    "df['PRICE__BOOK'] = df['CEQ'] / (df['PRCC_C'] * df['CSHO'])\n",
    "df['P__E'] = df['NI'] / (df['PRCC_C'] * df['CSHO'])\n",
    "df['P__EBIT'] = df['EBIT'] / (df['PRCC_C'] * df['CSHO'])\n",
    "df['P__SALES'] = df['SALE'] / (df['PRCC_C'] * df['CSHO'])\n",
    "df.info()"
   ]
  },
  {
   "cell_type": "code",
   "execution_count": 14,
   "metadata": {
    "id": "TUoJ8CdU8P0x"
   },
   "outputs": [],
   "source": [
    "# dropping financial values from the dataframe since we only needed them to create the financial ratios\n",
    "df = df.drop(columns=['CEQ', 'CSHO', 'EBIT', 'NI', 'SALE', 'PRCC_C'], axis=1)"
   ]
  },
  {
   "cell_type": "markdown",
   "metadata": {
    "id": "AcrK2yye9_C7"
   },
   "source": [
    "### Winsorizing Financial Ratios"
   ]
  },
  {
   "cell_type": "code",
   "execution_count": 15,
   "metadata": {
    "colab": {
     "base_uri": "https://localhost:8080/"
    },
    "id": "cyrvI7khCRLK",
    "outputId": "77c6b5d1-56b0-45f9-9544-bfdb5ba3bbf5"
   },
   "outputs": [
    {
     "name": "stdout",
     "output_type": "stream",
     "text": [
      "<class 'pandas.core.frame.DataFrame'>\n",
      "Int64Index: 2687 entries, 0 to 2686\n",
      "Data columns (total 7 columns):\n",
      " #   Column          Non-Null Count  Dtype  \n",
      "---  ------          --------------  -----  \n",
      " 0   TICKER          2687 non-null   object \n",
      " 1   RET_EARLY_2020  2687 non-null   float64\n",
      " 2   RET_LATE_2020   2687 non-null   float64\n",
      " 3   PRICE__BOOK     2687 non-null   float64\n",
      " 4   P__E            2687 non-null   float64\n",
      " 5   P__EBIT         2687 non-null   float64\n",
      " 6   P__SALES        2687 non-null   float64\n",
      "dtypes: float64(6), object(1)\n",
      "memory usage: 167.9+ KB\n"
     ]
    }
   ],
   "source": [
    "# checking for null values\n",
    "df.info()"
   ]
  },
  {
   "cell_type": "code",
   "execution_count": 16,
   "metadata": {
    "colab": {
     "base_uri": "https://localhost:8080/",
     "height": 299
    },
    "id": "DrLwEeAd-a37",
    "outputId": "a3e9d562-ba81-45f5-feb8-a710726fbfec"
   },
   "outputs": [
    {
     "data": {
      "text/html": [
       "<div>\n",
       "<style scoped>\n",
       "    .dataframe tbody tr th:only-of-type {\n",
       "        vertical-align: middle;\n",
       "    }\n",
       "\n",
       "    .dataframe tbody tr th {\n",
       "        vertical-align: top;\n",
       "    }\n",
       "\n",
       "    .dataframe thead th {\n",
       "        text-align: right;\n",
       "    }\n",
       "</style>\n",
       "<table border=\"1\" class=\"dataframe\">\n",
       "  <thead>\n",
       "    <tr style=\"text-align: right;\">\n",
       "      <th></th>\n",
       "      <th>PRICE__BOOK</th>\n",
       "      <th>P__E</th>\n",
       "      <th>P__EBIT</th>\n",
       "      <th>P__SALES</th>\n",
       "    </tr>\n",
       "  </thead>\n",
       "  <tbody>\n",
       "    <tr>\n",
       "      <th>count</th>\n",
       "      <td>2687.000000</td>\n",
       "      <td>2687.000000</td>\n",
       "      <td>2687.000000</td>\n",
       "      <td>2687.000000</td>\n",
       "    </tr>\n",
       "    <tr>\n",
       "      <th>mean</th>\n",
       "      <td>0.482029</td>\n",
       "      <td>-0.002549</td>\n",
       "      <td>0.050287</td>\n",
       "      <td>0.886040</td>\n",
       "    </tr>\n",
       "    <tr>\n",
       "      <th>std</th>\n",
       "      <td>0.549539</td>\n",
       "      <td>0.352338</td>\n",
       "      <td>0.176190</td>\n",
       "      <td>1.968859</td>\n",
       "    </tr>\n",
       "    <tr>\n",
       "      <th>min</th>\n",
       "      <td>-6.491327</td>\n",
       "      <td>-11.813644</td>\n",
       "      <td>-3.217884</td>\n",
       "      <td>0.000000</td>\n",
       "    </tr>\n",
       "    <tr>\n",
       "      <th>25%</th>\n",
       "      <td>0.181664</td>\n",
       "      <td>-0.008351</td>\n",
       "      <td>0.018600</td>\n",
       "      <td>0.186029</td>\n",
       "    </tr>\n",
       "    <tr>\n",
       "      <th>50%</th>\n",
       "      <td>0.388718</td>\n",
       "      <td>0.034161</td>\n",
       "      <td>0.059929</td>\n",
       "      <td>0.386208</td>\n",
       "    </tr>\n",
       "    <tr>\n",
       "      <th>75%</th>\n",
       "      <td>0.701733</td>\n",
       "      <td>0.065474</td>\n",
       "      <td>0.112065</td>\n",
       "      <td>0.884378</td>\n",
       "    </tr>\n",
       "    <tr>\n",
       "      <th>max</th>\n",
       "      <td>8.673557</td>\n",
       "      <td>10.354951</td>\n",
       "      <td>2.645699</td>\n",
       "      <td>46.164318</td>\n",
       "    </tr>\n",
       "  </tbody>\n",
       "</table>\n",
       "</div>"
      ],
      "text/plain": [
       "       PRICE__BOOK         P__E      P__EBIT     P__SALES\n",
       "count  2687.000000  2687.000000  2687.000000  2687.000000\n",
       "mean      0.482029    -0.002549     0.050287     0.886040\n",
       "std       0.549539     0.352338     0.176190     1.968859\n",
       "min      -6.491327   -11.813644    -3.217884     0.000000\n",
       "25%       0.181664    -0.008351     0.018600     0.186029\n",
       "50%       0.388718     0.034161     0.059929     0.386208\n",
       "75%       0.701733     0.065474     0.112065     0.884378\n",
       "max       8.673557    10.354951     2.645699    46.164318"
      ]
     },
     "execution_count": 16,
     "metadata": {
      "tags": []
     },
     "output_type": "execute_result"
    }
   ],
   "source": [
    "# observing the financial ratio statistics so we can identify outliers that might hurt our regression performance\n",
    "df[['PRICE__BOOK', 'P__E', 'P__EBIT', 'P__SALES']].describe()"
   ]
  },
  {
   "cell_type": "code",
   "execution_count": 17,
   "metadata": {
    "colab": {
     "base_uri": "https://localhost:8080/",
     "height": 432
    },
    "id": "z1bGgCoY-L8i",
    "outputId": "155c1473-fba1-4b10-8f3b-af70d274ef2f"
   },
   "outputs": [
    {
     "data": {
      "text/plain": [
       "<matplotlib.axes._subplots.AxesSubplot at 0x7f44e55d1790>"
      ]
     },
     "execution_count": 17,
     "metadata": {
      "tags": []
     },
     "output_type": "execute_result"
    },
    {
     "data": {
      "image/png": "[encoded data removed]",
      "text/plain": [
       "<Figure size 1040x480 with 1 Axes>"
      ]
     },
     "metadata": {
      "needs_background": "light",
      "tags": []
     },
     "output_type": "display_data"
    }
   ],
   "source": [
    "# boxplot to visualize any outliers\n",
    "figure(figsize=(13, 6), dpi=80)\n",
    "df[['PRICE__BOOK', 'P__E', 'P__EBIT', 'P__SALES']].boxplot()"
   ]
  },
  {
   "cell_type": "markdown",
   "metadata": {
    "id": "bTX6cThCDKPJ"
   },
   "source": [
    "All four ratios have some outliers that we'll want to winsorize at the 1% and 99% percentiles, especially P__SALES."
   ]
  },
  {
   "cell_type": "code",
   "execution_count": 18,
   "metadata": {
    "id": "epRBWBl4Xbgb"
   },
   "outputs": [],
   "source": [
    "# winszoring the ratios to account for outliers at the 1% and 99% percentiles\n",
    "df['PRICE__BOOK'] = winsorize(df['PRICE__BOOK'], limits=[0.01, 0.01])\n",
    "df['P__E'] = winsorize(df['P__E'], limits=[0.01, 0.01])\n",
    "df['P__EBIT'] = winsorize(df['P__EBIT'], limits=[0.01, 0.01])\n",
    "df['P__SALES'] = winsorize(df['P__SALES'], limits=[0.01, 0.01])"
   ]
  },
  {
   "cell_type": "code",
   "execution_count": 19,
   "metadata": {
    "colab": {
     "base_uri": "https://localhost:8080/",
     "height": 432
    },
    "id": "1aEJIsRmDr5m",
    "outputId": "f798bd18-0591-4cf8-ae2b-15ddbfa74587"
   },
   "outputs": [
    {
     "data": {
      "text/plain": [
       "<matplotlib.axes._subplots.AxesSubplot at 0x7f44e54cfed0>"
      ]
     },
     "execution_count": 19,
     "metadata": {
      "tags": []
     },
     "output_type": "execute_result"
    },
    {
     "data": {
      "image/png": "[encoded data removed]",
      "text/plain": [
       "<Figure size 1040x480 with 1 Axes>"
      ]
     },
     "metadata": {
      "needs_background": "light",
      "tags": []
     },
     "output_type": "display_data"
    }
   ],
   "source": [
    "# Post-winsorizing boxplot\n",
    "figure(figsize=(13, 6), dpi=80)\n",
    "df[['PRICE__BOOK', 'P__E', 'P__EBIT', 'P__SALES']].boxplot()"
   ]
  },
  {
   "cell_type": "markdown",
   "metadata": {
    "id": "symAJEAzD3pM"
   },
   "source": [
    "### Cleaning and merging Industry and Sector data with our stocks data"
   ]
  },
  {
   "cell_type": "code",
   "execution_count": 20,
   "metadata": {
    "colab": {
     "base_uri": "https://localhost:8080/"
    },
    "id": "78t_8xsiEVTG",
    "outputId": "22a368a5-6141-4e35-97a1-ab987cf610eb"
   },
   "outputs": [
    {
     "name": "stdout",
     "output_type": "stream",
     "text": [
      "<class 'pandas.core.frame.DataFrame'>\n",
      "RangeIndex: 2838 entries, 0 to 2837\n",
      "Data columns (total 5 columns):\n",
      " #   Column   Non-Null Count  Dtype \n",
      "---  ------   --------------  ----- \n",
      " 0   TICKER   2838 non-null   object\n",
      " 1   GGROUP   2838 non-null   object\n",
      " 2   GSECTOR  2838 non-null   object\n",
      " 3   NAICS    2838 non-null   object\n",
      " 4   SIC      2838 non-null   object\n",
      "dtypes: object(5)\n",
      "memory usage: 111.0+ KB\n"
     ]
    }
   ],
   "source": [
    "# converting call industry codes to strings as their numeric value is meaningless\n",
    "# this also allows us to clean the SIC strip the last digits of the SIC codes\n",
    "temp_industry = temp_industry.astype('str')\n",
    "temp_industry.info()"
   ]
  },
  {
   "cell_type": "code",
   "execution_count": 21,
   "metadata": {
    "id": "8ZXp6En3Fk3v"
   },
   "outputs": [],
   "source": [
    "sic_stripped = []\n",
    "for x in temp_industry['SIC']:\n",
    "  x = x.strip()\n",
    "  x = x[:-2]\n",
    "  sic_stripped.append(x)\n",
    "temp_industry['SIC'] = sic_stripped"
   ]
  },
  {
   "cell_type": "code",
   "execution_count": 22,
   "metadata": {
    "colab": {
     "base_uri": "https://localhost:8080/",
     "height": 205
    },
    "id": "n8fXDqFqIKi1",
    "outputId": "fcde789a-ab34-4451-ac9f-3a48f7962dec"
   },
   "outputs": [
    {
     "data": {
      "text/html": [
       "<div>\n",
       "<style scoped>\n",
       "    .dataframe tbody tr th:only-of-type {\n",
       "        vertical-align: middle;\n",
       "    }\n",
       "\n",
       "    .dataframe tbody tr th {\n",
       "        vertical-align: top;\n",
       "    }\n",
       "\n",
       "    .dataframe thead th {\n",
       "        text-align: right;\n",
       "    }\n",
       "</style>\n",
       "<table border=\"1\" class=\"dataframe\">\n",
       "  <thead>\n",
       "    <tr style=\"text-align: right;\">\n",
       "      <th></th>\n",
       "      <th>TICKER</th>\n",
       "      <th>GGROUP</th>\n",
       "      <th>GSECTOR</th>\n",
       "      <th>NAICS</th>\n",
       "      <th>SIC</th>\n",
       "    </tr>\n",
       "  </thead>\n",
       "  <tbody>\n",
       "    <tr>\n",
       "      <th>0</th>\n",
       "      <td>AIR</td>\n",
       "      <td>2010</td>\n",
       "      <td>20</td>\n",
       "      <td>423860</td>\n",
       "      <td>50</td>\n",
       "    </tr>\n",
       "    <tr>\n",
       "      <th>1</th>\n",
       "      <td>AAL</td>\n",
       "      <td>2030</td>\n",
       "      <td>20</td>\n",
       "      <td>481111</td>\n",
       "      <td>45</td>\n",
       "    </tr>\n",
       "    <tr>\n",
       "      <th>2</th>\n",
       "      <td>CECE</td>\n",
       "      <td>2020</td>\n",
       "      <td>20</td>\n",
       "      <td>333413</td>\n",
       "      <td>35</td>\n",
       "    </tr>\n",
       "    <tr>\n",
       "      <th>3</th>\n",
       "      <td>PNW</td>\n",
       "      <td>5510</td>\n",
       "      <td>55</td>\n",
       "      <td>2211</td>\n",
       "      <td>49</td>\n",
       "    </tr>\n",
       "    <tr>\n",
       "      <th>4</th>\n",
       "      <td>PRG</td>\n",
       "      <td>4020</td>\n",
       "      <td>40</td>\n",
       "      <td>522220</td>\n",
       "      <td>61</td>\n",
       "    </tr>\n",
       "  </tbody>\n",
       "</table>\n",
       "</div>"
      ],
      "text/plain": [
       "  TICKER GGROUP GSECTOR   NAICS SIC\n",
       "0    AIR   2010      20  423860  50\n",
       "1    AAL   2030      20  481111  45\n",
       "2   CECE   2020      20  333413  35\n",
       "3    PNW   5510      55    2211  49\n",
       "4    PRG   4020      40  522220  61"
      ]
     },
     "execution_count": 22,
     "metadata": {
      "tags": []
     },
     "output_type": "execute_result"
    }
   ],
   "source": [
    "temp_industry.head()"
   ]
  },
  {
   "cell_type": "code",
   "execution_count": 23,
   "metadata": {
    "colab": {
     "base_uri": "https://localhost:8080/"
    },
    "id": "28XVPBq6QElp",
    "outputId": "8fc0c7a3-ee87-430a-a27e-fd11bc782afd"
   },
   "outputs": [
    {
     "name": "stdout",
     "output_type": "stream",
     "text": [
      "<class 'pandas.core.frame.DataFrame'>\n",
      "Int64Index: 2661 entries, 0 to 2660\n",
      "Data columns (total 11 columns):\n",
      " #   Column          Non-Null Count  Dtype  \n",
      "---  ------          --------------  -----  \n",
      " 0   TICKER          2661 non-null   object \n",
      " 1   RET_EARLY_2020  2661 non-null   float64\n",
      " 2   RET_LATE_2020   2661 non-null   float64\n",
      " 3   PRICE__BOOK     2661 non-null   float64\n",
      " 4   P__E            2661 non-null   float64\n",
      " 5   P__EBIT         2661 non-null   float64\n",
      " 6   P__SALES        2661 non-null   float64\n",
      " 7   GGROUP          2661 non-null   object \n",
      " 8   GSECTOR         2661 non-null   object \n",
      " 9   NAICS           2661 non-null   object \n",
      " 10  SIC             2661 non-null   object \n",
      "dtypes: float64(6), object(5)\n",
      "memory usage: 249.5+ KB\n"
     ]
    }
   ],
   "source": [
    "# merge data with temp_industry dataframe to include industry categories in the dataframe\n",
    "df = df.merge(temp_industry, how='inner', on='TICKER')\n",
    "df.info()"
   ]
  },
  {
   "cell_type": "code",
   "execution_count": 24,
   "metadata": {
    "id": "MC4LpgzAugez"
   },
   "outputs": [],
   "source": [
    "# Saving the dataframe to a CSV: financial_project.csv\n",
    "df_tmp = df.copy()\n",
    "df_tmp.to_csv(path_or_buf=root_dir + project_folder + '/final_proj_data.csv', index = False, header=True)"
   ]
  },
  {
   "cell_type": "code",
   "execution_count": 25,
   "metadata": {
    "colab": {
     "base_uri": "https://localhost:8080/"
    },
    "id": "tB7yJVSnfc5N",
    "outputId": "afbd486a-93e9-49a4-929f-3df76530998f"
   },
   "outputs": [
    {
     "name": "stdout",
     "output_type": "stream",
     "text": [
      "24\n",
      "11\n",
      "516\n",
      "67\n"
     ]
    }
   ],
   "source": [
    "# Checking how many unique industry codes there are for each type of industry code\n",
    "print(len(df.GGROUP.unique()))\n",
    "print(len(df.GSECTOR.unique()))\n",
    "print(len(df.NAICS.unique()))\n",
    "print(len(df.SIC.unique()))"
   ]
  },
  {
   "cell_type": "code",
   "execution_count": 26,
   "metadata": {
    "id": "Dj2zsFJrikos"
   },
   "outputs": [],
   "source": [
    "# creating a copy of the industry columns so we have a backup to group by industry before creating dummies.\n",
    "df['GGROUP_CODE'] = df['GGROUP']\n",
    "df['GSECTOR_CODE'] = df['GSECTOR']\n",
    "df['SIC_CODE'] = df['SIC']"
   ]
  },
  {
   "cell_type": "code",
   "execution_count": 27,
   "metadata": {
    "id": "18PjuaXUfc8m"
   },
   "outputs": [],
   "source": [
    "# Create Industry Categorical Dummies in separate dataframes\n",
    "df_ggroup_dum = pd.get_dummies(df, columns=['GGROUP'])\n",
    "df_gsector_dum = pd.get_dummies(df, columns=['GSECTOR'])\n",
    "df_sic_dum = pd.get_dummies(df, columns=['SIC'])\n",
    "df_naics_dum = pd.get_dummies(df, columns=['NAICS'])"
   ]
  },
  {
   "cell_type": "markdown",
   "metadata": {
    "id": "VErMa9luKm5A"
   },
   "source": [
    "## Financial Ratio's correlation\n",
    "Next we'll look at correlations between our four financial ratios and early/late returns to see if we can identify any trends in 2020 returns performance based on the financial states of companies at the beginning of 2020."
   ]
  },
  {
   "cell_type": "code",
   "execution_count": 28,
   "metadata": {
    "colab": {
     "base_uri": "https://localhost:8080/",
     "height": 344
    },
    "id": "r35vyjHxN5GZ",
    "outputId": "d87907b1-127b-4add-ec63-6c53f6bd7404"
   },
   "outputs": [
    {
     "data": {
      "image/png": "[encoded data removed]",
      "text/plain": [
       "<Figure size 432x288 with 2 Axes>"
      ]
     },
     "metadata": {
      "needs_background": "light",
      "tags": []
     },
     "output_type": "display_data"
    }
   ],
   "source": [
    "corr_mat = sns.heatmap(df.corr(), vmin=-1, vmax=1, annot=True)\n",
    "plt.figsize = (15,12)"
   ]
  },
  {
   "cell_type": "markdown",
   "metadata": {
    "id": "W9Zhww8OAz5x"
   },
   "source": [
    "The highest correlation is between  P/E and P/EBIT. EBIT is closely related to Earnings so a high correlation is expected. We also observe small, negative correlations between both returns variables and all financial ratios. It's important to note the negative correlation as we think about regressions downstream -- we may expect to see negative coefficients on our financial ratios, although the significance of these relationships is still to be determined through regression analysis.\n"
   ]
  },
  {
   "cell_type": "markdown",
   "metadata": {
    "id": "75V0BWkkjzeG"
   },
   "source": [
    "## Average returns by industry code\n",
    "Before we begin our regression analysis, let's look at average returns for both early and late 2020 returns by segmenting by both a sector category and an industry category. We will use GSECTOR codes for our sector groups (of which there are 11 sectors) and SIC codes for our industry groups (of which there are 67). It's worth noting that our downstream regression analysis will also be done using GSECTOR and SIC codes. Due to a high number of NAICS codes (516), analyzing fixed effects on 516 different industries would realistically be difficult to interpret any signal."
   ]
  },
  {
   "cell_type": "code",
   "execution_count": 29,
   "metadata": {
    "id": "ZJaxRlUKfc_z"
   },
   "outputs": [],
   "source": [
    "# Average returns for GSECTORs\n",
    "gsector_ret_early_df = df.groupby('GSECTOR')[['RET_EARLY_2020']].mean()\n",
    "gsector_ret_late_df = df.groupby('GSECTOR')[['RET_LATE_2020']].mean()\n",
    "gsector_ret_early_df.sort_values('RET_EARLY_2020', inplace=True)\n",
    "gsector_ret_late_df.sort_values('RET_LATE_2020', inplace=True)\n",
    "\n",
    "# Average returns for SICs\n",
    "sic_ret_early_df = df.groupby('SIC')[['RET_EARLY_2020']].mean()\n",
    "sic_ret_late_df = df.groupby('SIC')[['RET_LATE_2020']].mean()\n",
    "sic_ret_early_df.sort_values('RET_EARLY_2020', inplace=True)\n",
    "sic_ret_late_df.sort_values('RET_LATE_2020', inplace=True)"
   ]
  },
  {
   "cell_type": "markdown",
   "metadata": {
    "id": "bcsS7674EXOY"
   },
   "source": [
    "**GSECTOR: Min and Max for Average Early and Late 2020 Returns**"
   ]
  },
  {
   "cell_type": "code",
   "execution_count": 30,
   "metadata": {
    "colab": {
     "base_uri": "https://localhost:8080/"
    },
    "id": "-CUmN9ulfdK9",
    "outputId": "d6e1372f-e227-4acd-e2aa-725fdb092777"
   },
   "outputs": [
    {
     "name": "stdout",
     "output_type": "stream",
     "text": [
      "Minimum average early 2020 return is in GSECTOR: 10\n",
      "Maximum average early 2020 return is in GSECTOR: 35\n",
      "Minimum average late 2020 return is in GSECTOR: 55\n",
      "Maximum average late 2020 return is in GSECTOR: 25\n"
     ]
    }
   ],
   "source": [
    "print(f'Minimum average early 2020 return is in GSECTOR: {gsector_ret_early_df[gsector_ret_early_df.RET_EARLY_2020==gsector_ret_early_df.RET_EARLY_2020.min()].index[0]}')\n",
    "print(f'Maximum average early 2020 return is in GSECTOR: {gsector_ret_early_df[gsector_ret_early_df.RET_EARLY_2020==gsector_ret_early_df.RET_EARLY_2020.max()].index[0]}')\n",
    "print(f'Minimum average late 2020 return is in GSECTOR: {gsector_ret_late_df[gsector_ret_late_df.RET_LATE_2020==gsector_ret_late_df.RET_LATE_2020.min()].index[0]}')\n",
    "print(f'Maximum average late 2020 return is in GSECTOR: {gsector_ret_late_df[gsector_ret_late_df.RET_LATE_2020==gsector_ret_late_df.RET_LATE_2020.max()].index[0]}')"
   ]
  },
  {
   "cell_type": "markdown",
   "metadata": {
    "id": "k5H96aKeIet-"
   },
   "source": [
    "The sector with the minimum average early 2020 returns is GICS sector code 10, or the Energy Sector. Early 2020 returns (Jan - March) captures the beginning of the COVID shock period. At the beginning of 2020, Energy services and equipment providers experienced the lowest average stock returns. This could be due to the fact that during lockdown, many employees were in a stay at home format. The energy sector likely requires more physical labor for large energy and infrastructure projects, which would have been difficult during the beginning of quarantine, possibly hurting returns for this industry.\n",
    "\n",
    "The sector with the maximum average early 2020 returns is GICS sector code 35, or the Healthcare Sector. This sector includes healthcare equipment and services providers as well as biotech and pharmaceutical companies. This makes sense as there was likely a rise in healthcare-related demand in the early parts of the pandemic (Jan - March 2020).\n",
    "\n",
    "The sector with the minimum average late 2020 returns is GICS sector code 55, or the Utilities Sector (gas, water, electricity providers). Although consumers were in their homes and consuming utility services more in 2020 than other years, this could have hurt utility returns due to such a shock increase in demand for services, and thus an increase in expenses to supply utility services. Supplying utility services requires hands on work from employees. With many employees restricted during lockdown to come to work, the rise in utility demand combined with a lack of workforce and physical maintenance on utility service infrastructures, the cost to provide utilities may have been higher for these business, hurting their returns. Even if their revenue was higher during the year, costs likely increased more rapidly given the lockdown circumstances.\n",
    "\n",
    "The sector with the maximum average late 2020 returns is GICS sector code 25, or the Consumer Discretionary sector. This sector includes business that provide consumer products and services (automobiles, apparel, home products, retail, as well as hotels). During late 2020, when we reached past the midpoint of the COVID-19 pandemic, it's likely that as society started to open back up, consumers were eager to by consumer products, boosting returns for businesses in this sector."
   ]
  },
  {
   "cell_type": "markdown",
   "metadata": {
    "id": "DhSXzOnDMAM7"
   },
   "source": [
    "**SIC: Min and Max for Average Early and Late 2020 Returns**"
   ]
  },
  {
   "cell_type": "code",
   "execution_count": 31,
   "metadata": {
    "colab": {
     "base_uri": "https://localhost:8080/"
    },
    "id": "OleAV7kNL6qZ",
    "outputId": "ecf836aa-aae7-4c89-ed76-f65e5826b861"
   },
   "outputs": [
    {
     "name": "stdout",
     "output_type": "stream",
     "text": [
      "Minimum average early 2020 return is in SIC: 13\n",
      "Maximum average early 2020 return is in SIC: 2\n",
      "Minimum average late 2020 return is in SIC: 2\n",
      "Maximum average late 2020 return is in SIC: 52\n"
     ]
    }
   ],
   "source": [
    "print(f'Minimum average early 2020 return is in SIC: {sic_ret_early_df[sic_ret_early_df.RET_EARLY_2020==sic_ret_early_df.RET_EARLY_2020.min()].index[0]}')\n",
    "print(f'Maximum average early 2020 return is in SIC: {sic_ret_early_df[sic_ret_early_df.RET_EARLY_2020==sic_ret_early_df.RET_EARLY_2020.max()].index[0]}')\n",
    "print(f'Minimum average late 2020 return is in SIC: {sic_ret_late_df[sic_ret_late_df.RET_LATE_2020==sic_ret_late_df.RET_LATE_2020.min()].index[0]}')\n",
    "print(f'Maximum average late 2020 return is in SIC: {sic_ret_late_df[sic_ret_late_df.RET_LATE_2020==sic_ret_late_df.RET_LATE_2020.max()].index[0]}')"
   ]
  },
  {
   "cell_type": "markdown",
   "metadata": {
    "id": "0E0_IkFDMn9q"
   },
   "source": [
    "The industry with the minimum average early 2020 returns is SIC code 13xx, or Energy industries specifically in oil and gas extraction. This is similar to our previous result with GICS Energy Sector having the minimum early 2020 average return and these SIC code 13xx companies are likely captured in the GICS Energy sector.\n",
    "\n",
    "The industries with the maximum average late 2020 returns is SIC code 2xx. This code captures many industries from manufacturing to food & beverage producing and chemical manufacturing. Since SIC code 2xx contains many different industries, it's difficult to pinpoint exactly where the trends in max returns are.\n",
    "\n",
    "Similarly to max early returns, minimum late returns in 2020 are also conatined in SIC code 2xx.\n",
    "\n",
    "The industries with the maximum average late 2020 returns is SIC code 52xx, or home building materials and services (hardware stores, wallpaper, garden supplies). Perhaps after spending months inside their homes, consumers were eager to renovate or improve their homes. Once the pandemic mid-point was reached and society started opening back up, consumers may have taken this opportunity to improve their living situations for any future lockdowns."
   ]
  },
  {
   "cell_type": "markdown",
   "metadata": {
    "id": "i-J36tWutbHb"
   },
   "source": [
    "## Fixed Effect Regressions on Early and Late 2020 Returns\n",
    "Now we'll conduct regression analysis on early and late 2020 returns only using GICS Sector and SIC industry codes as fixed effects."
   ]
  },
  {
   "cell_type": "markdown",
   "metadata": {
    "id": "HiSfEaLZuNeJ"
   },
   "source": [
    "**Early Returns Regression: GICS Sectors as Fixed Effect**"
   ]
  },
  {
   "cell_type": "code",
   "execution_count": 32,
   "metadata": {
    "colab": {
     "base_uri": "https://localhost:8080/",
     "height": 635
    },
    "id": "LPcpvxTfotJD",
    "outputId": "eb7b27c3-5efd-470f-9c27-95cd78ff842f"
   },
   "outputs": [
    {
     "data": {
      "text/html": [
       "<table class=\"simpletable\">\n",
       "<caption>OLS Regression Results</caption>\n",
       "<tr>\n",
       "  <th>Dep. Variable:</th>     <td>RET_EARLY_2020</td>  <th>  R-squared:         </th> <td>   0.120</td>\n",
       "</tr>\n",
       "<tr>\n",
       "  <th>Model:</th>                   <td>OLS</td>       <th>  Adj. R-squared:    </th> <td>   0.116</td>\n",
       "</tr>\n",
       "<tr>\n",
       "  <th>Method:</th>             <td>Least Squares</td>  <th>  F-statistic:       </th> <td>   36.03</td>\n",
       "</tr>\n",
       "<tr>\n",
       "  <th>Date:</th>             <td>Thu, 08 Jul 2021</td> <th>  Prob (F-statistic):</th> <td>1.18e-66</td>\n",
       "</tr>\n",
       "<tr>\n",
       "  <th>Time:</th>                 <td>00:52:32</td>     <th>  Log-Likelihood:    </th> <td> -517.13</td>\n",
       "</tr>\n",
       "<tr>\n",
       "  <th>No. Observations:</th>      <td>  2661</td>      <th>  AIC:               </th> <td>   1056.</td>\n",
       "</tr>\n",
       "<tr>\n",
       "  <th>Df Residuals:</th>          <td>  2650</td>      <th>  BIC:               </th> <td>   1121.</td>\n",
       "</tr>\n",
       "<tr>\n",
       "  <th>Df Model:</th>              <td>    10</td>      <th>                     </th>     <td> </td>   \n",
       "</tr>\n",
       "<tr>\n",
       "  <th>Covariance Type:</th>      <td>nonrobust</td>    <th>                     </th>     <td> </td>   \n",
       "</tr>\n",
       "</table>\n",
       "<table class=\"simpletable\">\n",
       "<tr>\n",
       "       <td></td>         <th>coef</th>     <th>std err</th>      <th>t</th>      <th>P>|t|</th>  <th>[0.025</th>    <th>0.975]</th>  \n",
       "</tr>\n",
       "<tr>\n",
       "  <th>GSECTOR_10</th> <td>   -0.5807</td> <td>    0.029</td> <td>  -20.111</td> <td> 0.000</td> <td>   -0.637</td> <td>   -0.524</td>\n",
       "</tr>\n",
       "<tr>\n",
       "  <th>GSECTOR_15</th> <td>   -0.3509</td> <td>    0.027</td> <td>  -13.108</td> <td> 0.000</td> <td>   -0.403</td> <td>   -0.298</td>\n",
       "</tr>\n",
       "<tr>\n",
       "  <th>GSECTOR_20</th> <td>   -0.3218</td> <td>    0.015</td> <td>  -20.935</td> <td> 0.000</td> <td>   -0.352</td> <td>   -0.292</td>\n",
       "</tr>\n",
       "<tr>\n",
       "  <th>GSECTOR_25</th> <td>   -0.4130</td> <td>    0.017</td> <td>  -24.293</td> <td> 0.000</td> <td>   -0.446</td> <td>   -0.380</td>\n",
       "</tr>\n",
       "<tr>\n",
       "  <th>GSECTOR_30</th> <td>   -0.1912</td> <td>    0.029</td> <td>   -6.653</td> <td> 0.000</td> <td>   -0.248</td> <td>   -0.135</td>\n",
       "</tr>\n",
       "<tr>\n",
       "  <th>GSECTOR_35</th> <td>   -0.1386</td> <td>    0.013</td> <td>  -10.311</td> <td> 0.000</td> <td>   -0.165</td> <td>   -0.112</td>\n",
       "</tr>\n",
       "<tr>\n",
       "  <th>GSECTOR_40</th> <td>   -0.3464</td> <td>    0.013</td> <td>  -26.411</td> <td> 0.000</td> <td>   -0.372</td> <td>   -0.321</td>\n",
       "</tr>\n",
       "<tr>\n",
       "  <th>GSECTOR_45</th> <td>   -0.2170</td> <td>    0.016</td> <td>  -13.609</td> <td> 0.000</td> <td>   -0.248</td> <td>   -0.186</td>\n",
       "</tr>\n",
       "<tr>\n",
       "  <th>GSECTOR_50</th> <td>   -0.2884</td> <td>    0.030</td> <td>   -9.494</td> <td> 0.000</td> <td>   -0.348</td> <td>   -0.229</td>\n",
       "</tr>\n",
       "<tr>\n",
       "  <th>GSECTOR_55</th> <td>   -0.1479</td> <td>    0.035</td> <td>   -4.172</td> <td> 0.000</td> <td>   -0.217</td> <td>   -0.078</td>\n",
       "</tr>\n",
       "<tr>\n",
       "  <th>GSECTOR_60</th> <td>   -0.3281</td> <td>    0.022</td> <td>  -14.782</td> <td> 0.000</td> <td>   -0.372</td> <td>   -0.285</td>\n",
       "</tr>\n",
       "</table>\n",
       "<table class=\"simpletable\">\n",
       "<tr>\n",
       "  <th>Omnibus:</th>       <td>4236.797</td> <th>  Durbin-Watson:     </th>  <td>   1.940</td>  \n",
       "</tr>\n",
       "<tr>\n",
       "  <th>Prob(Omnibus):</th>  <td> 0.000</td>  <th>  Jarque-Bera (JB):  </th> <td>4720750.568</td>\n",
       "</tr>\n",
       "<tr>\n",
       "  <th>Skew:</th>           <td> 9.816</td>  <th>  Prob(JB):          </th>  <td>    0.00</td>  \n",
       "</tr>\n",
       "<tr>\n",
       "  <th>Kurtosis:</th>       <td>208.406</td> <th>  Cond. No.          </th>  <td>    2.70</td>  \n",
       "</tr>\n",
       "</table><br/><br/>Warnings:<br/>[1] Standard Errors assume that the covariance matrix of the errors is correctly specified."
      ],
      "text/plain": [
       "<class 'statsmodels.iolib.summary.Summary'>\n",
       "\"\"\"\n",
       "                            OLS Regression Results                            \n",
       "==============================================================================\n",
       "Dep. Variable:         RET_EARLY_2020   R-squared:                       0.120\n",
       "Model:                            OLS   Adj. R-squared:                  0.116\n",
       "Method:                 Least Squares   F-statistic:                     36.03\n",
       "Date:                Thu, 08 Jul 2021   Prob (F-statistic):           1.18e-66\n",
       "Time:                        00:52:32   Log-Likelihood:                -517.13\n",
       "No. Observations:                2661   AIC:                             1056.\n",
       "Df Residuals:                    2650   BIC:                             1121.\n",
       "Df Model:                          10                                         \n",
       "Covariance Type:            nonrobust                                         \n",
       "==============================================================================\n",
       "                 coef    std err          t      P>|t|      [0.025      0.975]\n",
       "------------------------------------------------------------------------------\n",
       "GSECTOR_10    -0.5807      0.029    -20.111      0.000      -0.637      -0.524\n",
       "GSECTOR_15    -0.3509      0.027    -13.108      0.000      -0.403      -0.298\n",
       "GSECTOR_20    -0.3218      0.015    -20.935      0.000      -0.352      -0.292\n",
       "GSECTOR_25    -0.4130      0.017    -24.293      0.000      -0.446      -0.380\n",
       "GSECTOR_30    -0.1912      0.029     -6.653      0.000      -0.248      -0.135\n",
       "GSECTOR_35    -0.1386      0.013    -10.311      0.000      -0.165      -0.112\n",
       "GSECTOR_40    -0.3464      0.013    -26.411      0.000      -0.372      -0.321\n",
       "GSECTOR_45    -0.2170      0.016    -13.609      0.000      -0.248      -0.186\n",
       "GSECTOR_50    -0.2884      0.030     -9.494      0.000      -0.348      -0.229\n",
       "GSECTOR_55    -0.1479      0.035     -4.172      0.000      -0.217      -0.078\n",
       "GSECTOR_60    -0.3281      0.022    -14.782      0.000      -0.372      -0.285\n",
       "==============================================================================\n",
       "Omnibus:                     4236.797   Durbin-Watson:                   1.940\n",
       "Prob(Omnibus):                  0.000   Jarque-Bera (JB):          4720750.568\n",
       "Skew:                           9.816   Prob(JB):                         0.00\n",
       "Kurtosis:                     208.406   Cond. No.                         2.70\n",
       "==============================================================================\n",
       "\n",
       "Warnings:\n",
       "[1] Standard Errors assume that the covariance matrix of the errors is correctly specified.\n",
       "\"\"\""
      ]
     },
     "execution_count": 32,
     "metadata": {
      "tags": []
     },
     "output_type": "execute_result"
    }
   ],
   "source": [
    "x = df_gsector_dum.drop(columns=['TICKER', 'RET_EARLY_2020', 'RET_LATE_2020', 'PRICE__BOOK', 'P__E', 'P__EBIT', 'P__SALES', 'GGROUP', 'NAICS', 'SIC', 'GGROUP_CODE', 'GSECTOR_CODE', 'SIC_CODE'])\n",
    "y = df_gsector_dum['RET_EARLY_2020']\n",
    "sm.OLS(y, x).fit().summary()"
   ]
  },
  {
   "cell_type": "markdown",
   "metadata": {
    "id": "H1vCi1ycRzrF"
   },
   "source": [
    "**Late Returns Regression: GICS Sectors as Fixed Effect**"
   ]
  },
  {
   "cell_type": "code",
   "execution_count": 33,
   "metadata": {
    "colab": {
     "base_uri": "https://localhost:8080/",
     "height": 635
    },
    "id": "tywPk0iiRy-O",
    "outputId": "d8c921f7-871c-4aa8-8fa6-5f59a4a54ec7"
   },
   "outputs": [
    {
     "data": {
      "text/html": [
       "<table class=\"simpletable\">\n",
       "<caption>OLS Regression Results</caption>\n",
       "<tr>\n",
       "  <th>Dep. Variable:</th>      <td>RET_LATE_2020</td>  <th>  R-squared:         </th> <td>   0.093</td>\n",
       "</tr>\n",
       "<tr>\n",
       "  <th>Model:</th>                   <td>OLS</td>       <th>  Adj. R-squared:    </th> <td>   0.089</td>\n",
       "</tr>\n",
       "<tr>\n",
       "  <th>Method:</th>             <td>Least Squares</td>  <th>  F-statistic:       </th> <td>   27.13</td>\n",
       "</tr>\n",
       "<tr>\n",
       "  <th>Date:</th>             <td>Thu, 08 Jul 2021</td> <th>  Prob (F-statistic):</th> <td>7.99e-50</td>\n",
       "</tr>\n",
       "<tr>\n",
       "  <th>Time:</th>                 <td>00:52:32</td>     <th>  Log-Likelihood:    </th> <td> -3829.0</td>\n",
       "</tr>\n",
       "<tr>\n",
       "  <th>No. Observations:</th>      <td>  2661</td>      <th>  AIC:               </th> <td>   7680.</td>\n",
       "</tr>\n",
       "<tr>\n",
       "  <th>Df Residuals:</th>          <td>  2650</td>      <th>  BIC:               </th> <td>   7745.</td>\n",
       "</tr>\n",
       "<tr>\n",
       "  <th>Df Model:</th>              <td>    10</td>      <th>                     </th>     <td> </td>   \n",
       "</tr>\n",
       "<tr>\n",
       "  <th>Covariance Type:</th>      <td>nonrobust</td>    <th>                     </th>     <td> </td>   \n",
       "</tr>\n",
       "</table>\n",
       "<table class=\"simpletable\">\n",
       "<tr>\n",
       "       <td></td>         <th>coef</th>     <th>std err</th>      <th>t</th>      <th>P>|t|</th>  <th>[0.025</th>    <th>0.975]</th>  \n",
       "</tr>\n",
       "<tr>\n",
       "  <th>GSECTOR_10</th> <td>    1.0175</td> <td>    0.100</td> <td>   10.150</td> <td> 0.000</td> <td>    0.821</td> <td>    1.214</td>\n",
       "</tr>\n",
       "<tr>\n",
       "  <th>GSECTOR_15</th> <td>    0.8732</td> <td>    0.093</td> <td>    9.396</td> <td> 0.000</td> <td>    0.691</td> <td>    1.055</td>\n",
       "</tr>\n",
       "<tr>\n",
       "  <th>GSECTOR_20</th> <td>    0.8052</td> <td>    0.053</td> <td>   15.090</td> <td> 0.000</td> <td>    0.701</td> <td>    0.910</td>\n",
       "</tr>\n",
       "<tr>\n",
       "  <th>GSECTOR_25</th> <td>    1.5339</td> <td>    0.059</td> <td>   25.988</td> <td> 0.000</td> <td>    1.418</td> <td>    1.650</td>\n",
       "</tr>\n",
       "<tr>\n",
       "  <th>GSECTOR_30</th> <td>    0.5252</td> <td>    0.100</td> <td>    5.265</td> <td> 0.000</td> <td>    0.330</td> <td>    0.721</td>\n",
       "</tr>\n",
       "<tr>\n",
       "  <th>GSECTOR_35</th> <td>    0.7397</td> <td>    0.047</td> <td>   15.853</td> <td> 0.000</td> <td>    0.648</td> <td>    0.831</td>\n",
       "</tr>\n",
       "<tr>\n",
       "  <th>GSECTOR_40</th> <td>    0.4980</td> <td>    0.046</td> <td>   10.935</td> <td> 0.000</td> <td>    0.409</td> <td>    0.587</td>\n",
       "</tr>\n",
       "<tr>\n",
       "  <th>GSECTOR_45</th> <td>    0.9988</td> <td>    0.055</td> <td>   18.042</td> <td> 0.000</td> <td>    0.890</td> <td>    1.107</td>\n",
       "</tr>\n",
       "<tr>\n",
       "  <th>GSECTOR_50</th> <td>    0.7616</td> <td>    0.105</td> <td>    7.223</td> <td> 0.000</td> <td>    0.555</td> <td>    0.968</td>\n",
       "</tr>\n",
       "<tr>\n",
       "  <th>GSECTOR_55</th> <td>    0.1812</td> <td>    0.123</td> <td>    1.472</td> <td> 0.141</td> <td>   -0.060</td> <td>    0.423</td>\n",
       "</tr>\n",
       "<tr>\n",
       "  <th>GSECTOR_60</th> <td>    0.4567</td> <td>    0.077</td> <td>    5.926</td> <td> 0.000</td> <td>    0.306</td> <td>    0.608</td>\n",
       "</tr>\n",
       "</table>\n",
       "<table class=\"simpletable\">\n",
       "<tr>\n",
       "  <th>Omnibus:</th>       <td>2895.651</td> <th>  Durbin-Watson:     </th>  <td>   1.951</td> \n",
       "</tr>\n",
       "<tr>\n",
       "  <th>Prob(Omnibus):</th>  <td> 0.000</td>  <th>  Jarque-Bera (JB):  </th> <td>346833.045</td>\n",
       "</tr>\n",
       "<tr>\n",
       "  <th>Skew:</th>           <td> 5.283</td>  <th>  Prob(JB):          </th>  <td>    0.00</td> \n",
       "</tr>\n",
       "<tr>\n",
       "  <th>Kurtosis:</th>       <td>57.923</td>  <th>  Cond. No.          </th>  <td>    2.70</td> \n",
       "</tr>\n",
       "</table><br/><br/>Warnings:<br/>[1] Standard Errors assume that the covariance matrix of the errors is correctly specified."
      ],
      "text/plain": [
       "<class 'statsmodels.iolib.summary.Summary'>\n",
       "\"\"\"\n",
       "                            OLS Regression Results                            \n",
       "==============================================================================\n",
       "Dep. Variable:          RET_LATE_2020   R-squared:                       0.093\n",
       "Model:                            OLS   Adj. R-squared:                  0.089\n",
       "Method:                 Least Squares   F-statistic:                     27.13\n",
       "Date:                Thu, 08 Jul 2021   Prob (F-statistic):           7.99e-50\n",
       "Time:                        00:52:32   Log-Likelihood:                -3829.0\n",
       "No. Observations:                2661   AIC:                             7680.\n",
       "Df Residuals:                    2650   BIC:                             7745.\n",
       "Df Model:                          10                                         \n",
       "Covariance Type:            nonrobust                                         \n",
       "==============================================================================\n",
       "                 coef    std err          t      P>|t|      [0.025      0.975]\n",
       "------------------------------------------------------------------------------\n",
       "GSECTOR_10     1.0175      0.100     10.150      0.000       0.821       1.214\n",
       "GSECTOR_15     0.8732      0.093      9.396      0.000       0.691       1.055\n",
       "GSECTOR_20     0.8052      0.053     15.090      0.000       0.701       0.910\n",
       "GSECTOR_25     1.5339      0.059     25.988      0.000       1.418       1.650\n",
       "GSECTOR_30     0.5252      0.100      5.265      0.000       0.330       0.721\n",
       "GSECTOR_35     0.7397      0.047     15.853      0.000       0.648       0.831\n",
       "GSECTOR_40     0.4980      0.046     10.935      0.000       0.409       0.587\n",
       "GSECTOR_45     0.9988      0.055     18.042      0.000       0.890       1.107\n",
       "GSECTOR_50     0.7616      0.105      7.223      0.000       0.555       0.968\n",
       "GSECTOR_55     0.1812      0.123      1.472      0.141      -0.060       0.423\n",
       "GSECTOR_60     0.4567      0.077      5.926      0.000       0.306       0.608\n",
       "==============================================================================\n",
       "Omnibus:                     2895.651   Durbin-Watson:                   1.951\n",
       "Prob(Omnibus):                  0.000   Jarque-Bera (JB):           346833.045\n",
       "Skew:                           5.283   Prob(JB):                         0.00\n",
       "Kurtosis:                      57.923   Cond. No.                         2.70\n",
       "==============================================================================\n",
       "\n",
       "Warnings:\n",
       "[1] Standard Errors assume that the covariance matrix of the errors is correctly specified.\n",
       "\"\"\""
      ]
     },
     "execution_count": 33,
     "metadata": {
      "tags": []
     },
     "output_type": "execute_result"
    }
   ],
   "source": [
    "x = df_gsector_dum.drop(columns=['TICKER', 'RET_EARLY_2020', 'RET_LATE_2020', 'PRICE__BOOK', 'P__E', 'P__EBIT', 'P__SALES', 'GGROUP', 'NAICS', 'SIC', 'GGROUP_CODE', 'GSECTOR_CODE', 'SIC_CODE'])\n",
    "y = df_gsector_dum['RET_LATE_2020']\n",
    "sm.OLS(y, x).fit().summary()"
   ]
  },
  {
   "cell_type": "markdown",
   "metadata": {
    "id": "nzQe1MSySIQP"
   },
   "source": [
    "**Early Returns Regression: SIC Industries as Fixed Effect**"
   ]
  },
  {
   "cell_type": "code",
   "execution_count": 34,
   "metadata": {
    "colab": {
     "base_uri": "https://localhost:8080/",
     "height": 1000
    },
    "id": "GIW8xb7_SQg-",
    "outputId": "0d0f6f4c-b687-4aeb-894b-8c343c2e47cd"
   },
   "outputs": [
    {
     "data": {
      "text/html": [
       "<table class=\"simpletable\">\n",
       "<caption>OLS Regression Results</caption>\n",
       "<tr>\n",
       "  <th>Dep. Variable:</th>     <td>RET_EARLY_2020</td>  <th>  R-squared:         </th> <td>   0.127</td>\n",
       "</tr>\n",
       "<tr>\n",
       "  <th>Model:</th>                   <td>OLS</td>       <th>  Adj. R-squared:    </th> <td>   0.105</td>\n",
       "</tr>\n",
       "<tr>\n",
       "  <th>Method:</th>             <td>Least Squares</td>  <th>  F-statistic:       </th> <td>   5.727</td>\n",
       "</tr>\n",
       "<tr>\n",
       "  <th>Date:</th>             <td>Thu, 08 Jul 2021</td> <th>  Prob (F-statistic):</th> <td>1.46e-41</td>\n",
       "</tr>\n",
       "<tr>\n",
       "  <th>Time:</th>                 <td>00:52:32</td>     <th>  Log-Likelihood:    </th> <td> -505.76</td>\n",
       "</tr>\n",
       "<tr>\n",
       "  <th>No. Observations:</th>      <td>  2661</td>      <th>  AIC:               </th> <td>   1146.</td>\n",
       "</tr>\n",
       "<tr>\n",
       "  <th>Df Residuals:</th>          <td>  2594</td>      <th>  BIC:               </th> <td>   1540.</td>\n",
       "</tr>\n",
       "<tr>\n",
       "  <th>Df Model:</th>              <td>    66</td>      <th>                     </th>     <td> </td>   \n",
       "</tr>\n",
       "<tr>\n",
       "  <th>Covariance Type:</th>      <td>nonrobust</td>    <th>                     </th>     <td> </td>   \n",
       "</tr>\n",
       "</table>\n",
       "<table class=\"simpletable\">\n",
       "<tr>\n",
       "     <td></td>       <th>coef</th>     <th>std err</th>      <th>t</th>      <th>P>|t|</th>  <th>[0.025</th>    <th>0.975]</th>  \n",
       "</tr>\n",
       "<tr>\n",
       "  <th>SIC_1</th>  <td>   -0.1957</td> <td>    0.133</td> <td>   -1.477</td> <td> 0.140</td> <td>   -0.456</td> <td>    0.064</td>\n",
       "</tr>\n",
       "<tr>\n",
       "  <th>SIC_10</th> <td>   -0.3647</td> <td>    0.099</td> <td>   -3.692</td> <td> 0.000</td> <td>   -0.558</td> <td>   -0.171</td>\n",
       "</tr>\n",
       "<tr>\n",
       "  <th>SIC_12</th> <td>   -0.5827</td> <td>    0.133</td> <td>   -4.397</td> <td> 0.000</td> <td>   -0.843</td> <td>   -0.323</td>\n",
       "</tr>\n",
       "<tr>\n",
       "  <th>SIC_13</th> <td>   -0.6772</td> <td>    0.041</td> <td>  -16.634</td> <td> 0.000</td> <td>   -0.757</td> <td>   -0.597</td>\n",
       "</tr>\n",
       "<tr>\n",
       "  <th>SIC_14</th> <td>   -0.4077</td> <td>    0.105</td> <td>   -3.891</td> <td> 0.000</td> <td>   -0.613</td> <td>   -0.202</td>\n",
       "</tr>\n",
       "<tr>\n",
       "  <th>SIC_15</th> <td>   -0.4149</td> <td>    0.070</td> <td>   -5.940</td> <td> 0.000</td> <td>   -0.552</td> <td>   -0.278</td>\n",
       "</tr>\n",
       "<tr>\n",
       "  <th>SIC_16</th> <td>   -0.3185</td> <td>    0.086</td> <td>   -3.722</td> <td> 0.000</td> <td>   -0.486</td> <td>   -0.151</td>\n",
       "</tr>\n",
       "<tr>\n",
       "  <th>SIC_17</th> <td>   -0.3020</td> <td>    0.121</td> <td>   -2.496</td> <td> 0.013</td> <td>   -0.539</td> <td>   -0.065</td>\n",
       "</tr>\n",
       "<tr>\n",
       "  <th>SIC_2</th>  <td>    0.0288</td> <td>    0.296</td> <td>    0.097</td> <td> 0.923</td> <td>   -0.552</td> <td>    0.610</td>\n",
       "</tr>\n",
       "<tr>\n",
       "  <th>SIC_20</th> <td>   -0.1763</td> <td>    0.042</td> <td>   -4.248</td> <td> 0.000</td> <td>   -0.258</td> <td>   -0.095</td>\n",
       "</tr>\n",
       "<tr>\n",
       "  <th>SIC_21</th> <td>   -0.1991</td> <td>    0.171</td> <td>   -1.164</td> <td> 0.245</td> <td>   -0.535</td> <td>    0.136</td>\n",
       "</tr>\n",
       "<tr>\n",
       "  <th>SIC_22</th> <td>   -0.4745</td> <td>    0.148</td> <td>   -3.202</td> <td> 0.001</td> <td>   -0.765</td> <td>   -0.184</td>\n",
       "</tr>\n",
       "<tr>\n",
       "  <th>SIC_23</th> <td>   -0.4856</td> <td>    0.077</td> <td>   -6.346</td> <td> 0.000</td> <td>   -0.636</td> <td>   -0.336</td>\n",
       "</tr>\n",
       "<tr>\n",
       "  <th>SIC_24</th> <td>   -0.3789</td> <td>    0.086</td> <td>   -4.428</td> <td> 0.000</td> <td>   -0.547</td> <td>   -0.211</td>\n",
       "</tr>\n",
       "<tr>\n",
       "  <th>SIC_25</th> <td>   -0.4464</td> <td>    0.074</td> <td>   -6.024</td> <td> 0.000</td> <td>   -0.592</td> <td>   -0.301</td>\n",
       "</tr>\n",
       "<tr>\n",
       "  <th>SIC_26</th> <td>   -0.2591</td> <td>    0.070</td> <td>   -3.709</td> <td> 0.000</td> <td>   -0.396</td> <td>   -0.122</td>\n",
       "</tr>\n",
       "<tr>\n",
       "  <th>SIC_27</th> <td>   -0.3945</td> <td>    0.082</td> <td>   -4.799</td> <td> 0.000</td> <td>   -0.556</td> <td>   -0.233</td>\n",
       "</tr>\n",
       "<tr>\n",
       "  <th>SIC_28</th> <td>   -0.1568</td> <td>    0.016</td> <td>  -10.091</td> <td> 0.000</td> <td>   -0.187</td> <td>   -0.126</td>\n",
       "</tr>\n",
       "<tr>\n",
       "  <th>SIC_29</th> <td>   -0.4523</td> <td>    0.077</td> <td>   -5.910</td> <td> 0.000</td> <td>   -0.602</td> <td>   -0.302</td>\n",
       "</tr>\n",
       "<tr>\n",
       "  <th>SIC_30</th> <td>   -0.1687</td> <td>    0.070</td> <td>   -2.416</td> <td> 0.016</td> <td>   -0.306</td> <td>   -0.032</td>\n",
       "</tr>\n",
       "<tr>\n",
       "  <th>SIC_31</th> <td>   -0.4918</td> <td>    0.105</td> <td>   -4.694</td> <td> 0.000</td> <td>   -0.697</td> <td>   -0.286</td>\n",
       "</tr>\n",
       "<tr>\n",
       "  <th>SIC_32</th> <td>   -0.3404</td> <td>    0.105</td> <td>   -3.249</td> <td> 0.001</td> <td>   -0.546</td> <td>   -0.135</td>\n",
       "</tr>\n",
       "<tr>\n",
       "  <th>SIC_33</th> <td>   -0.4184</td> <td>    0.063</td> <td>   -6.622</td> <td> 0.000</td> <td>   -0.542</td> <td>   -0.295</td>\n",
       "</tr>\n",
       "<tr>\n",
       "  <th>SIC_34</th> <td>   -0.2722</td> <td>    0.050</td> <td>   -5.434</td> <td> 0.000</td> <td>   -0.370</td> <td>   -0.174</td>\n",
       "</tr>\n",
       "<tr>\n",
       "  <th>SIC_35</th> <td>   -0.3300</td> <td>    0.030</td> <td>  -10.965</td> <td> 0.000</td> <td>   -0.389</td> <td>   -0.271</td>\n",
       "</tr>\n",
       "<tr>\n",
       "  <th>SIC_36</th> <td>   -0.2729</td> <td>    0.026</td> <td>  -10.538</td> <td> 0.000</td> <td>   -0.324</td> <td>   -0.222</td>\n",
       "</tr>\n",
       "<tr>\n",
       "  <th>SIC_37</th> <td>   -0.4021</td> <td>    0.040</td> <td>  -10.152</td> <td> 0.000</td> <td>   -0.480</td> <td>   -0.324</td>\n",
       "</tr>\n",
       "<tr>\n",
       "  <th>SIC_38</th> <td>   -0.2022</td> <td>    0.026</td> <td>   -7.807</td> <td> 0.000</td> <td>   -0.253</td> <td>   -0.151</td>\n",
       "</tr>\n",
       "<tr>\n",
       "  <th>SIC_39</th> <td>   -0.3161</td> <td>    0.079</td> <td>   -3.991</td> <td> 0.000</td> <td>   -0.471</td> <td>   -0.161</td>\n",
       "</tr>\n",
       "<tr>\n",
       "  <th>SIC_40</th> <td>   -0.2079</td> <td>    0.148</td> <td>   -1.403</td> <td> 0.161</td> <td>   -0.498</td> <td>    0.083</td>\n",
       "</tr>\n",
       "<tr>\n",
       "  <th>SIC_41</th> <td>   -0.2185</td> <td>    0.210</td> <td>   -1.043</td> <td> 0.297</td> <td>   -0.629</td> <td>    0.192</td>\n",
       "</tr>\n",
       "<tr>\n",
       "  <th>SIC_42</th> <td>   -0.1906</td> <td>    0.074</td> <td>   -2.572</td> <td> 0.010</td> <td>   -0.336</td> <td>   -0.045</td>\n",
       "</tr>\n",
       "<tr>\n",
       "  <th>SIC_44</th> <td>   -0.4014</td> <td>    0.065</td> <td>   -6.206</td> <td> 0.000</td> <td>   -0.528</td> <td>   -0.275</td>\n",
       "</tr>\n",
       "<tr>\n",
       "  <th>SIC_45</th> <td>   -0.4800</td> <td>    0.074</td> <td>   -6.478</td> <td> 0.000</td> <td>   -0.625</td> <td>   -0.335</td>\n",
       "</tr>\n",
       "<tr>\n",
       "  <th>SIC_47</th> <td>   -0.2565</td> <td>    0.099</td> <td>   -2.596</td> <td> 0.009</td> <td>   -0.450</td> <td>   -0.063</td>\n",
       "</tr>\n",
       "<tr>\n",
       "  <th>SIC_48</th> <td>   -0.2420</td> <td>    0.043</td> <td>   -5.656</td> <td> 0.000</td> <td>   -0.326</td> <td>   -0.158</td>\n",
       "</tr>\n",
       "<tr>\n",
       "  <th>SIC_49</th> <td>   -0.1864</td> <td>    0.032</td> <td>   -5.832</td> <td> 0.000</td> <td>   -0.249</td> <td>   -0.124</td>\n",
       "</tr>\n",
       "<tr>\n",
       "  <th>SIC_50</th> <td>   -0.3317</td> <td>    0.047</td> <td>   -7.079</td> <td> 0.000</td> <td>   -0.424</td> <td>   -0.240</td>\n",
       "</tr>\n",
       "<tr>\n",
       "  <th>SIC_51</th> <td>   -0.3006</td> <td>    0.060</td> <td>   -4.970</td> <td> 0.000</td> <td>   -0.419</td> <td>   -0.182</td>\n",
       "</tr>\n",
       "<tr>\n",
       "  <th>SIC_52</th> <td>   -0.2445</td> <td>    0.121</td> <td>   -2.021</td> <td> 0.043</td> <td>   -0.482</td> <td>   -0.007</td>\n",
       "</tr>\n",
       "<tr>\n",
       "  <th>SIC_53</th> <td>   -0.3188</td> <td>    0.079</td> <td>   -4.025</td> <td> 0.000</td> <td>   -0.474</td> <td>   -0.164</td>\n",
       "</tr>\n",
       "<tr>\n",
       "  <th>SIC_54</th> <td>   -0.0461</td> <td>    0.105</td> <td>   -0.440</td> <td> 0.660</td> <td>   -0.252</td> <td>    0.159</td>\n",
       "</tr>\n",
       "<tr>\n",
       "  <th>SIC_55</th> <td>   -0.4115</td> <td>    0.070</td> <td>   -5.891</td> <td> 0.000</td> <td>   -0.548</td> <td>   -0.275</td>\n",
       "</tr>\n",
       "<tr>\n",
       "  <th>SIC_56</th> <td>   -0.5130</td> <td>    0.063</td> <td>   -8.119</td> <td> 0.000</td> <td>   -0.637</td> <td>   -0.389</td>\n",
       "</tr>\n",
       "<tr>\n",
       "  <th>SIC_57</th> <td>   -0.5099</td> <td>    0.099</td> <td>   -5.162</td> <td> 0.000</td> <td>   -0.704</td> <td>   -0.316</td>\n",
       "</tr>\n",
       "<tr>\n",
       "  <th>SIC_58</th> <td>   -0.4304</td> <td>    0.052</td> <td>   -8.342</td> <td> 0.000</td> <td>   -0.532</td> <td>   -0.329</td>\n",
       "</tr>\n",
       "<tr>\n",
       "  <th>SIC_59</th> <td>   -0.3288</td> <td>    0.056</td> <td>   -5.871</td> <td> 0.000</td> <td>   -0.439</td> <td>   -0.219</td>\n",
       "</tr>\n",
       "<tr>\n",
       "  <th>SIC_60</th> <td>   -0.3643</td> <td>    0.017</td> <td>  -21.149</td> <td> 0.000</td> <td>   -0.398</td> <td>   -0.331</td>\n",
       "</tr>\n",
       "<tr>\n",
       "  <th>SIC_61</th> <td>   -0.4167</td> <td>    0.057</td> <td>   -7.306</td> <td> 0.000</td> <td>   -0.529</td> <td>   -0.305</td>\n",
       "</tr>\n",
       "<tr>\n",
       "  <th>SIC_62</th> <td>   -0.2751</td> <td>    0.040</td> <td>   -6.883</td> <td> 0.000</td> <td>   -0.353</td> <td>   -0.197</td>\n",
       "</tr>\n",
       "<tr>\n",
       "  <th>SIC_63</th> <td>   -0.2718</td> <td>    0.032</td> <td>   -8.555</td> <td> 0.000</td> <td>   -0.334</td> <td>   -0.210</td>\n",
       "</tr>\n",
       "<tr>\n",
       "  <th>SIC_64</th> <td>   -0.1063</td> <td>    0.089</td> <td>   -1.190</td> <td> 0.234</td> <td>   -0.282</td> <td>    0.069</td>\n",
       "</tr>\n",
       "<tr>\n",
       "  <th>SIC_65</th> <td>   -0.4018</td> <td>    0.068</td> <td>   -5.910</td> <td> 0.000</td> <td>   -0.535</td> <td>   -0.269</td>\n",
       "</tr>\n",
       "<tr>\n",
       "  <th>SIC_67</th> <td>   -0.3557</td> <td>    0.021</td> <td>  -16.801</td> <td> 0.000</td> <td>   -0.397</td> <td>   -0.314</td>\n",
       "</tr>\n",
       "<tr>\n",
       "  <th>SIC_7</th>  <td>   -0.3444</td> <td>    0.296</td> <td>   -1.162</td> <td> 0.245</td> <td>   -0.926</td> <td>    0.237</td>\n",
       "</tr>\n",
       "<tr>\n",
       "  <th>SIC_70</th> <td>   -0.4584</td> <td>    0.099</td> <td>   -4.640</td> <td> 0.000</td> <td>   -0.652</td> <td>   -0.265</td>\n",
       "</tr>\n",
       "<tr>\n",
       "  <th>SIC_72</th> <td>   -0.4634</td> <td>    0.112</td> <td>   -4.137</td> <td> 0.000</td> <td>   -0.683</td> <td>   -0.244</td>\n",
       "</tr>\n",
       "<tr>\n",
       "  <th>SIC_73</th> <td>   -0.2033</td> <td>    0.017</td> <td>  -11.641</td> <td> 0.000</td> <td>   -0.238</td> <td>   -0.169</td>\n",
       "</tr>\n",
       "<tr>\n",
       "  <th>SIC_75</th> <td>   -0.4499</td> <td>    0.133</td> <td>   -3.395</td> <td> 0.001</td> <td>   -0.710</td> <td>   -0.190</td>\n",
       "</tr>\n",
       "<tr>\n",
       "  <th>SIC_78</th> <td>   -0.4344</td> <td>    0.133</td> <td>   -3.278</td> <td> 0.001</td> <td>   -0.694</td> <td>   -0.175</td>\n",
       "</tr>\n",
       "<tr>\n",
       "  <th>SIC_79</th> <td>   -0.4907</td> <td>    0.070</td> <td>   -7.024</td> <td> 0.000</td> <td>   -0.628</td> <td>   -0.354</td>\n",
       "</tr>\n",
       "<tr>\n",
       "  <th>SIC_80</th> <td>   -0.2293</td> <td>    0.050</td> <td>   -4.577</td> <td> 0.000</td> <td>   -0.328</td> <td>   -0.131</td>\n",
       "</tr>\n",
       "<tr>\n",
       "  <th>SIC_81</th> <td>   -0.3824</td> <td>    0.296</td> <td>   -1.290</td> <td> 0.197</td> <td>   -0.964</td> <td>    0.199</td>\n",
       "</tr>\n",
       "<tr>\n",
       "  <th>SIC_82</th> <td>   -0.2648</td> <td>    0.086</td> <td>   -3.095</td> <td> 0.002</td> <td>   -0.433</td> <td>   -0.097</td>\n",
       "</tr>\n",
       "<tr>\n",
       "  <th>SIC_83</th> <td>   -0.3213</td> <td>    0.296</td> <td>   -1.084</td> <td> 0.278</td> <td>   -0.902</td> <td>    0.260</td>\n",
       "</tr>\n",
       "<tr>\n",
       "  <th>SIC_87</th> <td>   -0.2884</td> <td>    0.052</td> <td>   -5.591</td> <td> 0.000</td> <td>   -0.390</td> <td>   -0.187</td>\n",
       "</tr>\n",
       "<tr>\n",
       "  <th>SIC_99</th> <td>   -0.2885</td> <td>    0.171</td> <td>   -1.686</td> <td> 0.092</td> <td>   -0.624</td> <td>    0.047</td>\n",
       "</tr>\n",
       "</table>\n",
       "<table class=\"simpletable\">\n",
       "<tr>\n",
       "  <th>Omnibus:</th>       <td>4250.391</td> <th>  Durbin-Watson:     </th>  <td>   1.937</td>  \n",
       "</tr>\n",
       "<tr>\n",
       "  <th>Prob(Omnibus):</th>  <td> 0.000</td>  <th>  Jarque-Bera (JB):  </th> <td>4902225.214</td>\n",
       "</tr>\n",
       "<tr>\n",
       "  <th>Skew:</th>           <td> 9.868</td>  <th>  Prob(JB):          </th>  <td>    0.00</td>  \n",
       "</tr>\n",
       "<tr>\n",
       "  <th>Kurtosis:</th>       <td>212.343</td> <th>  Cond. No.          </th>  <td>    19.1</td>  \n",
       "</tr>\n",
       "</table><br/><br/>Warnings:<br/>[1] Standard Errors assume that the covariance matrix of the errors is correctly specified."
      ],
      "text/plain": [
       "<class 'statsmodels.iolib.summary.Summary'>\n",
       "\"\"\"\n",
       "                            OLS Regression Results                            \n",
       "==============================================================================\n",
       "Dep. Variable:         RET_EARLY_2020   R-squared:                       0.127\n",
       "Model:                            OLS   Adj. R-squared:                  0.105\n",
       "Method:                 Least Squares   F-statistic:                     5.727\n",
       "Date:                Thu, 08 Jul 2021   Prob (F-statistic):           1.46e-41\n",
       "Time:                        00:52:32   Log-Likelihood:                -505.76\n",
       "No. Observations:                2661   AIC:                             1146.\n",
       "Df Residuals:                    2594   BIC:                             1540.\n",
       "Df Model:                          66                                         \n",
       "Covariance Type:            nonrobust                                         \n",
       "==============================================================================\n",
       "                 coef    std err          t      P>|t|      [0.025      0.975]\n",
       "------------------------------------------------------------------------------\n",
       "SIC_1         -0.1957      0.133     -1.477      0.140      -0.456       0.064\n",
       "SIC_10        -0.3647      0.099     -3.692      0.000      -0.558      -0.171\n",
       "SIC_12        -0.5827      0.133     -4.397      0.000      -0.843      -0.323\n",
       "SIC_13        -0.6772      0.041    -16.634      0.000      -0.757      -0.597\n",
       "SIC_14        -0.4077      0.105     -3.891      0.000      -0.613      -0.202\n",
       "SIC_15        -0.4149      0.070     -5.940      0.000      -0.552      -0.278\n",
       "SIC_16        -0.3185      0.086     -3.722      0.000      -0.486      -0.151\n",
       "SIC_17        -0.3020      0.121     -2.496      0.013      -0.539      -0.065\n",
       "SIC_2          0.0288      0.296      0.097      0.923      -0.552       0.610\n",
       "SIC_20        -0.1763      0.042     -4.248      0.000      -0.258      -0.095\n",
       "SIC_21        -0.1991      0.171     -1.164      0.245      -0.535       0.136\n",
       "SIC_22        -0.4745      0.148     -3.202      0.001      -0.765      -0.184\n",
       "SIC_23        -0.4856      0.077     -6.346      0.000      -0.636      -0.336\n",
       "SIC_24        -0.3789      0.086     -4.428      0.000      -0.547      -0.211\n",
       "SIC_25        -0.4464      0.074     -6.024      0.000      -0.592      -0.301\n",
       "SIC_26        -0.2591      0.070     -3.709      0.000      -0.396      -0.122\n",
       "SIC_27        -0.3945      0.082     -4.799      0.000      -0.556      -0.233\n",
       "SIC_28        -0.1568      0.016    -10.091      0.000      -0.187      -0.126\n",
       "SIC_29        -0.4523      0.077     -5.910      0.000      -0.602      -0.302\n",
       "SIC_30        -0.1687      0.070     -2.416      0.016      -0.306      -0.032\n",
       "SIC_31        -0.4918      0.105     -4.694      0.000      -0.697      -0.286\n",
       "SIC_32        -0.3404      0.105     -3.249      0.001      -0.546      -0.135\n",
       "SIC_33        -0.4184      0.063     -6.622      0.000      -0.542      -0.295\n",
       "SIC_34        -0.2722      0.050     -5.434      0.000      -0.370      -0.174\n",
       "SIC_35        -0.3300      0.030    -10.965      0.000      -0.389      -0.271\n",
       "SIC_36        -0.2729      0.026    -10.538      0.000      -0.324      -0.222\n",
       "SIC_37        -0.4021      0.040    -10.152      0.000      -0.480      -0.324\n",
       "SIC_38        -0.2022      0.026     -7.807      0.000      -0.253      -0.151\n",
       "SIC_39        -0.3161      0.079     -3.991      0.000      -0.471      -0.161\n",
       "SIC_40        -0.2079      0.148     -1.403      0.161      -0.498       0.083\n",
       "SIC_41        -0.2185      0.210     -1.043      0.297      -0.629       0.192\n",
       "SIC_42        -0.1906      0.074     -2.572      0.010      -0.336      -0.045\n",
       "SIC_44        -0.4014      0.065     -6.206      0.000      -0.528      -0.275\n",
       "SIC_45        -0.4800      0.074     -6.478      0.000      -0.625      -0.335\n",
       "SIC_47        -0.2565      0.099     -2.596      0.009      -0.450      -0.063\n",
       "SIC_48        -0.2420      0.043     -5.656      0.000      -0.326      -0.158\n",
       "SIC_49        -0.1864      0.032     -5.832      0.000      -0.249      -0.124\n",
       "SIC_50        -0.3317      0.047     -7.079      0.000      -0.424      -0.240\n",
       "SIC_51        -0.3006      0.060     -4.970      0.000      -0.419      -0.182\n",
       "SIC_52        -0.2445      0.121     -2.021      0.043      -0.482      -0.007\n",
       "SIC_53        -0.3188      0.079     -4.025      0.000      -0.474      -0.164\n",
       "SIC_54        -0.0461      0.105     -0.440      0.660      -0.252       0.159\n",
       "SIC_55        -0.4115      0.070     -5.891      0.000      -0.548      -0.275\n",
       "SIC_56        -0.5130      0.063     -8.119      0.000      -0.637      -0.389\n",
       "SIC_57        -0.5099      0.099     -5.162      0.000      -0.704      -0.316\n",
       "SIC_58        -0.4304      0.052     -8.342      0.000      -0.532      -0.329\n",
       "SIC_59        -0.3288      0.056     -5.871      0.000      -0.439      -0.219\n",
       "SIC_60        -0.3643      0.017    -21.149      0.000      -0.398      -0.331\n",
       "SIC_61        -0.4167      0.057     -7.306      0.000      -0.529      -0.305\n",
       "SIC_62        -0.2751      0.040     -6.883      0.000      -0.353      -0.197\n",
       "SIC_63        -0.2718      0.032     -8.555      0.000      -0.334      -0.210\n",
       "SIC_64        -0.1063      0.089     -1.190      0.234      -0.282       0.069\n",
       "SIC_65        -0.4018      0.068     -5.910      0.000      -0.535      -0.269\n",
       "SIC_67        -0.3557      0.021    -16.801      0.000      -0.397      -0.314\n",
       "SIC_7         -0.3444      0.296     -1.162      0.245      -0.926       0.237\n",
       "SIC_70        -0.4584      0.099     -4.640      0.000      -0.652      -0.265\n",
       "SIC_72        -0.4634      0.112     -4.137      0.000      -0.683      -0.244\n",
       "SIC_73        -0.2033      0.017    -11.641      0.000      -0.238      -0.169\n",
       "SIC_75        -0.4499      0.133     -3.395      0.001      -0.710      -0.190\n",
       "SIC_78        -0.4344      0.133     -3.278      0.001      -0.694      -0.175\n",
       "SIC_79        -0.4907      0.070     -7.024      0.000      -0.628      -0.354\n",
       "SIC_80        -0.2293      0.050     -4.577      0.000      -0.328      -0.131\n",
       "SIC_81        -0.3824      0.296     -1.290      0.197      -0.964       0.199\n",
       "SIC_82        -0.2648      0.086     -3.095      0.002      -0.433      -0.097\n",
       "SIC_83        -0.3213      0.296     -1.084      0.278      -0.902       0.260\n",
       "SIC_87        -0.2884      0.052     -5.591      0.000      -0.390      -0.187\n",
       "SIC_99        -0.2885      0.171     -1.686      0.092      -0.624       0.047\n",
       "==============================================================================\n",
       "Omnibus:                     4250.391   Durbin-Watson:                   1.937\n",
       "Prob(Omnibus):                  0.000   Jarque-Bera (JB):          4902225.214\n",
       "Skew:                           9.868   Prob(JB):                         0.00\n",
       "Kurtosis:                     212.343   Cond. No.                         19.1\n",
       "==============================================================================\n",
       "\n",
       "Warnings:\n",
       "[1] Standard Errors assume that the covariance matrix of the errors is correctly specified.\n",
       "\"\"\""
      ]
     },
     "execution_count": 34,
     "metadata": {
      "tags": []
     },
     "output_type": "execute_result"
    }
   ],
   "source": [
    "x = df_sic_dum.drop(columns=['TICKER', 'RET_EARLY_2020', 'RET_LATE_2020', 'PRICE__BOOK', 'P__E', 'P__EBIT', 'P__SALES', 'GGROUP', 'NAICS', 'GGROUP_CODE', 'GSECTOR_CODE', 'SIC_CODE', 'GSECTOR'])\n",
    "y = df_sic_dum['RET_EARLY_2020']\n",
    "sm.OLS(y, x).fit().summary()"
   ]
  },
  {
   "cell_type": "markdown",
   "metadata": {
    "id": "hANIjk1eTnoW"
   },
   "source": [
    "**Late Returns Regression: SIC Industries as Fixed Effect**"
   ]
  },
  {
   "cell_type": "code",
   "execution_count": 35,
   "metadata": {
    "colab": {
     "base_uri": "https://localhost:8080/",
     "height": 1000
    },
    "id": "9nUdByIyToO9",
    "outputId": "f64b0379-c9cf-490f-957d-5ef34bd4cbf7"
   },
   "outputs": [
    {
     "data": {
      "text/html": [
       "<table class=\"simpletable\">\n",
       "<caption>OLS Regression Results</caption>\n",
       "<tr>\n",
       "  <th>Dep. Variable:</th>      <td>RET_LATE_2020</td>  <th>  R-squared:         </th> <td>   0.131</td>\n",
       "</tr>\n",
       "<tr>\n",
       "  <th>Model:</th>                   <td>OLS</td>       <th>  Adj. R-squared:    </th> <td>   0.109</td>\n",
       "</tr>\n",
       "<tr>\n",
       "  <th>Method:</th>             <td>Least Squares</td>  <th>  F-statistic:       </th> <td>   5.951</td>\n",
       "</tr>\n",
       "<tr>\n",
       "  <th>Date:</th>             <td>Thu, 08 Jul 2021</td> <th>  Prob (F-statistic):</th> <td>6.91e-44</td>\n",
       "</tr>\n",
       "<tr>\n",
       "  <th>Time:</th>                 <td>00:52:32</td>     <th>  Log-Likelihood:    </th> <td> -3771.1</td>\n",
       "</tr>\n",
       "<tr>\n",
       "  <th>No. Observations:</th>      <td>  2661</td>      <th>  AIC:               </th> <td>   7676.</td>\n",
       "</tr>\n",
       "<tr>\n",
       "  <th>Df Residuals:</th>          <td>  2594</td>      <th>  BIC:               </th> <td>   8071.</td>\n",
       "</tr>\n",
       "<tr>\n",
       "  <th>Df Model:</th>              <td>    66</td>      <th>                     </th>     <td> </td>   \n",
       "</tr>\n",
       "<tr>\n",
       "  <th>Covariance Type:</th>      <td>nonrobust</td>    <th>                     </th>     <td> </td>   \n",
       "</tr>\n",
       "</table>\n",
       "<table class=\"simpletable\">\n",
       "<tr>\n",
       "     <td></td>       <th>coef</th>     <th>std err</th>      <th>t</th>      <th>P>|t|</th>  <th>[0.025</th>    <th>0.975]</th>  \n",
       "</tr>\n",
       "<tr>\n",
       "  <th>SIC_1</th>  <td>    0.1769</td> <td>    0.452</td> <td>    0.391</td> <td> 0.696</td> <td>   -0.710</td> <td>    1.064</td>\n",
       "</tr>\n",
       "<tr>\n",
       "  <th>SIC_10</th> <td>    1.6097</td> <td>    0.337</td> <td>    4.776</td> <td> 0.000</td> <td>    0.949</td> <td>    2.271</td>\n",
       "</tr>\n",
       "<tr>\n",
       "  <th>SIC_12</th> <td>    0.4580</td> <td>    0.452</td> <td>    1.013</td> <td> 0.311</td> <td>   -0.429</td> <td>    1.345</td>\n",
       "</tr>\n",
       "<tr>\n",
       "  <th>SIC_13</th> <td>    1.2905</td> <td>    0.139</td> <td>    9.292</td> <td> 0.000</td> <td>    1.018</td> <td>    1.563</td>\n",
       "</tr>\n",
       "<tr>\n",
       "  <th>SIC_14</th> <td>    1.0115</td> <td>    0.357</td> <td>    2.830</td> <td> 0.005</td> <td>    0.311</td> <td>    1.712</td>\n",
       "</tr>\n",
       "<tr>\n",
       "  <th>SIC_15</th> <td>    1.1786</td> <td>    0.238</td> <td>    4.946</td> <td> 0.000</td> <td>    0.711</td> <td>    1.646</td>\n",
       "</tr>\n",
       "<tr>\n",
       "  <th>SIC_16</th> <td>    1.0052</td> <td>    0.292</td> <td>    3.444</td> <td> 0.001</td> <td>    0.433</td> <td>    1.578</td>\n",
       "</tr>\n",
       "<tr>\n",
       "  <th>SIC_17</th> <td>    1.1604</td> <td>    0.413</td> <td>    2.811</td> <td> 0.005</td> <td>    0.351</td> <td>    1.970</td>\n",
       "</tr>\n",
       "<tr>\n",
       "  <th>SIC_2</th>  <td>   -0.1464</td> <td>    1.011</td> <td>   -0.145</td> <td> 0.885</td> <td>   -2.129</td> <td>    1.836</td>\n",
       "</tr>\n",
       "<tr>\n",
       "  <th>SIC_20</th> <td>    0.6252</td> <td>    0.142</td> <td>    4.416</td> <td> 0.000</td> <td>    0.348</td> <td>    0.903</td>\n",
       "</tr>\n",
       "<tr>\n",
       "  <th>SIC_21</th> <td>    0.4802</td> <td>    0.584</td> <td>    0.823</td> <td> 0.411</td> <td>   -0.664</td> <td>    1.625</td>\n",
       "</tr>\n",
       "<tr>\n",
       "  <th>SIC_22</th> <td>    0.5863</td> <td>    0.506</td> <td>    1.160</td> <td> 0.246</td> <td>   -0.405</td> <td>    1.578</td>\n",
       "</tr>\n",
       "<tr>\n",
       "  <th>SIC_23</th> <td>    1.1662</td> <td>    0.261</td> <td>    4.467</td> <td> 0.000</td> <td>    0.654</td> <td>    1.678</td>\n",
       "</tr>\n",
       "<tr>\n",
       "  <th>SIC_24</th> <td>    1.0564</td> <td>    0.292</td> <td>    3.619</td> <td> 0.000</td> <td>    0.484</td> <td>    1.629</td>\n",
       "</tr>\n",
       "<tr>\n",
       "  <th>SIC_25</th> <td>    1.5839</td> <td>    0.253</td> <td>    6.266</td> <td> 0.000</td> <td>    1.088</td> <td>    2.080</td>\n",
       "</tr>\n",
       "<tr>\n",
       "  <th>SIC_26</th> <td>    0.4729</td> <td>    0.238</td> <td>    1.984</td> <td> 0.047</td> <td>    0.006</td> <td>    0.940</td>\n",
       "</tr>\n",
       "<tr>\n",
       "  <th>SIC_27</th> <td>    0.5121</td> <td>    0.280</td> <td>    1.826</td> <td> 0.068</td> <td>   -0.038</td> <td>    1.062</td>\n",
       "</tr>\n",
       "<tr>\n",
       "  <th>SIC_28</th> <td>    0.7320</td> <td>    0.053</td> <td>   13.812</td> <td> 0.000</td> <td>    0.628</td> <td>    0.836</td>\n",
       "</tr>\n",
       "<tr>\n",
       "  <th>SIC_29</th> <td>    0.5087</td> <td>    0.261</td> <td>    1.949</td> <td> 0.051</td> <td>   -0.003</td> <td>    1.021</td>\n",
       "</tr>\n",
       "<tr>\n",
       "  <th>SIC_30</th> <td>    1.9957</td> <td>    0.238</td> <td>    8.374</td> <td> 0.000</td> <td>    1.528</td> <td>    2.463</td>\n",
       "</tr>\n",
       "<tr>\n",
       "  <th>SIC_31</th> <td>    1.0166</td> <td>    0.357</td> <td>    2.844</td> <td> 0.004</td> <td>    0.316</td> <td>    1.718</td>\n",
       "</tr>\n",
       "<tr>\n",
       "  <th>SIC_32</th> <td>    0.7096</td> <td>    0.357</td> <td>    1.985</td> <td> 0.047</td> <td>    0.009</td> <td>    1.411</td>\n",
       "</tr>\n",
       "<tr>\n",
       "  <th>SIC_33</th> <td>    0.8994</td> <td>    0.216</td> <td>    4.172</td> <td> 0.000</td> <td>    0.477</td> <td>    1.322</td>\n",
       "</tr>\n",
       "<tr>\n",
       "  <th>SIC_34</th> <td>    0.7537</td> <td>    0.171</td> <td>    4.410</td> <td> 0.000</td> <td>    0.419</td> <td>    1.089</td>\n",
       "</tr>\n",
       "<tr>\n",
       "  <th>SIC_35</th> <td>    0.8900</td> <td>    0.103</td> <td>    8.670</td> <td> 0.000</td> <td>    0.689</td> <td>    1.091</td>\n",
       "</tr>\n",
       "<tr>\n",
       "  <th>SIC_36</th> <td>    1.2162</td> <td>    0.088</td> <td>   13.768</td> <td> 0.000</td> <td>    1.043</td> <td>    1.389</td>\n",
       "</tr>\n",
       "<tr>\n",
       "  <th>SIC_37</th> <td>    1.2985</td> <td>    0.135</td> <td>    9.611</td> <td> 0.000</td> <td>    1.034</td> <td>    1.563</td>\n",
       "</tr>\n",
       "<tr>\n",
       "  <th>SIC_38</th> <td>    0.7594</td> <td>    0.088</td> <td>    8.597</td> <td> 0.000</td> <td>    0.586</td> <td>    0.933</td>\n",
       "</tr>\n",
       "<tr>\n",
       "  <th>SIC_39</th> <td>    1.4322</td> <td>    0.270</td> <td>    5.300</td> <td> 0.000</td> <td>    0.902</td> <td>    1.962</td>\n",
       "</tr>\n",
       "<tr>\n",
       "  <th>SIC_40</th> <td>    0.5913</td> <td>    0.506</td> <td>    1.170</td> <td> 0.242</td> <td>   -0.400</td> <td>    1.583</td>\n",
       "</tr>\n",
       "<tr>\n",
       "  <th>SIC_41</th> <td>    0.8282</td> <td>    0.715</td> <td>    1.158</td> <td> 0.247</td> <td>   -0.574</td> <td>    2.230</td>\n",
       "</tr>\n",
       "<tr>\n",
       "  <th>SIC_42</th> <td>    0.7337</td> <td>    0.253</td> <td>    2.903</td> <td> 0.004</td> <td>    0.238</td> <td>    1.229</td>\n",
       "</tr>\n",
       "<tr>\n",
       "  <th>SIC_44</th> <td>    0.2054</td> <td>    0.221</td> <td>    0.931</td> <td> 0.352</td> <td>   -0.227</td> <td>    0.638</td>\n",
       "</tr>\n",
       "<tr>\n",
       "  <th>SIC_45</th> <td>    0.7191</td> <td>    0.253</td> <td>    2.845</td> <td> 0.004</td> <td>    0.223</td> <td>    1.215</td>\n",
       "</tr>\n",
       "<tr>\n",
       "  <th>SIC_47</th> <td>    0.9592</td> <td>    0.337</td> <td>    2.846</td> <td> 0.004</td> <td>    0.298</td> <td>    1.620</td>\n",
       "</tr>\n",
       "<tr>\n",
       "  <th>SIC_48</th> <td>    0.5319</td> <td>    0.146</td> <td>    3.645</td> <td> 0.000</td> <td>    0.246</td> <td>    0.818</td>\n",
       "</tr>\n",
       "<tr>\n",
       "  <th>SIC_49</th> <td>    0.3001</td> <td>    0.109</td> <td>    2.753</td> <td> 0.006</td> <td>    0.086</td> <td>    0.514</td>\n",
       "</tr>\n",
       "<tr>\n",
       "  <th>SIC_50</th> <td>    0.9224</td> <td>    0.160</td> <td>    5.770</td> <td> 0.000</td> <td>    0.609</td> <td>    1.236</td>\n",
       "</tr>\n",
       "<tr>\n",
       "  <th>SIC_51</th> <td>    0.4780</td> <td>    0.206</td> <td>    2.316</td> <td> 0.021</td> <td>    0.073</td> <td>    0.883</td>\n",
       "</tr>\n",
       "<tr>\n",
       "  <th>SIC_52</th> <td>    3.1695</td> <td>    0.413</td> <td>    7.679</td> <td> 0.000</td> <td>    2.360</td> <td>    3.979</td>\n",
       "</tr>\n",
       "<tr>\n",
       "  <th>SIC_53</th> <td>    1.0332</td> <td>    0.270</td> <td>    3.824</td> <td> 0.000</td> <td>    0.503</td> <td>    1.563</td>\n",
       "</tr>\n",
       "<tr>\n",
       "  <th>SIC_54</th> <td>    0.2268</td> <td>    0.357</td> <td>    0.635</td> <td> 0.526</td> <td>   -0.474</td> <td>    0.928</td>\n",
       "</tr>\n",
       "<tr>\n",
       "  <th>SIC_55</th> <td>    1.5326</td> <td>    0.238</td> <td>    6.431</td> <td> 0.000</td> <td>    1.065</td> <td>    2.000</td>\n",
       "</tr>\n",
       "<tr>\n",
       "  <th>SIC_56</th> <td>    1.1614</td> <td>    0.216</td> <td>    5.388</td> <td> 0.000</td> <td>    0.739</td> <td>    1.584</td>\n",
       "</tr>\n",
       "<tr>\n",
       "  <th>SIC_57</th> <td>    2.9489</td> <td>    0.337</td> <td>    8.750</td> <td> 0.000</td> <td>    2.288</td> <td>    3.610</td>\n",
       "</tr>\n",
       "<tr>\n",
       "  <th>SIC_58</th> <td>    1.2090</td> <td>    0.176</td> <td>    6.869</td> <td> 0.000</td> <td>    0.864</td> <td>    1.554</td>\n",
       "</tr>\n",
       "<tr>\n",
       "  <th>SIC_59</th> <td>    1.9875</td> <td>    0.191</td> <td>   10.402</td> <td> 0.000</td> <td>    1.613</td> <td>    2.362</td>\n",
       "</tr>\n",
       "<tr>\n",
       "  <th>SIC_60</th> <td>    0.4205</td> <td>    0.059</td> <td>    7.156</td> <td> 0.000</td> <td>    0.305</td> <td>    0.536</td>\n",
       "</tr>\n",
       "<tr>\n",
       "  <th>SIC_61</th> <td>    0.9645</td> <td>    0.195</td> <td>    4.957</td> <td> 0.000</td> <td>    0.583</td> <td>    1.346</td>\n",
       "</tr>\n",
       "<tr>\n",
       "  <th>SIC_62</th> <td>    0.6967</td> <td>    0.136</td> <td>    5.111</td> <td> 0.000</td> <td>    0.429</td> <td>    0.964</td>\n",
       "</tr>\n",
       "<tr>\n",
       "  <th>SIC_63</th> <td>    0.3531</td> <td>    0.108</td> <td>    3.258</td> <td> 0.001</td> <td>    0.141</td> <td>    0.566</td>\n",
       "</tr>\n",
       "<tr>\n",
       "  <th>SIC_64</th> <td>    0.6428</td> <td>    0.305</td> <td>    2.108</td> <td> 0.035</td> <td>    0.045</td> <td>    1.241</td>\n",
       "</tr>\n",
       "<tr>\n",
       "  <th>SIC_65</th> <td>    1.1407</td> <td>    0.232</td> <td>    4.918</td> <td> 0.000</td> <td>    0.686</td> <td>    1.596</td>\n",
       "</tr>\n",
       "<tr>\n",
       "  <th>SIC_67</th> <td>    0.4518</td> <td>    0.072</td> <td>    6.256</td> <td> 0.000</td> <td>    0.310</td> <td>    0.593</td>\n",
       "</tr>\n",
       "<tr>\n",
       "  <th>SIC_7</th>  <td>    0.3671</td> <td>    1.011</td> <td>    0.363</td> <td> 0.717</td> <td>   -1.615</td> <td>    2.350</td>\n",
       "</tr>\n",
       "<tr>\n",
       "  <th>SIC_70</th> <td>    1.0272</td> <td>    0.337</td> <td>    3.048</td> <td> 0.002</td> <td>    0.366</td> <td>    1.688</td>\n",
       "</tr>\n",
       "<tr>\n",
       "  <th>SIC_72</th> <td>    0.7129</td> <td>    0.382</td> <td>    1.866</td> <td> 0.062</td> <td>   -0.036</td> <td>    1.462</td>\n",
       "</tr>\n",
       "<tr>\n",
       "  <th>SIC_73</th> <td>    0.9849</td> <td>    0.060</td> <td>   16.532</td> <td> 0.000</td> <td>    0.868</td> <td>    1.102</td>\n",
       "</tr>\n",
       "<tr>\n",
       "  <th>SIC_75</th> <td>    0.8612</td> <td>    0.452</td> <td>    1.905</td> <td> 0.057</td> <td>   -0.025</td> <td>    1.748</td>\n",
       "</tr>\n",
       "<tr>\n",
       "  <th>SIC_78</th> <td>    0.2683</td> <td>    0.452</td> <td>    0.593</td> <td> 0.553</td> <td>   -0.618</td> <td>    1.155</td>\n",
       "</tr>\n",
       "<tr>\n",
       "  <th>SIC_79</th> <td>    1.4023</td> <td>    0.238</td> <td>    5.884</td> <td> 0.000</td> <td>    0.935</td> <td>    1.870</td>\n",
       "</tr>\n",
       "<tr>\n",
       "  <th>SIC_80</th> <td>    1.1045</td> <td>    0.171</td> <td>    6.463</td> <td> 0.000</td> <td>    0.769</td> <td>    1.440</td>\n",
       "</tr>\n",
       "<tr>\n",
       "  <th>SIC_81</th> <td>    0.5501</td> <td>    1.011</td> <td>    0.544</td> <td> 0.586</td> <td>   -1.432</td> <td>    2.533</td>\n",
       "</tr>\n",
       "<tr>\n",
       "  <th>SIC_82</th> <td>    0.3542</td> <td>    0.292</td> <td>    1.214</td> <td> 0.225</td> <td>   -0.218</td> <td>    0.927</td>\n",
       "</tr>\n",
       "<tr>\n",
       "  <th>SIC_83</th> <td>    0.6960</td> <td>    1.011</td> <td>    0.688</td> <td> 0.491</td> <td>   -1.287</td> <td>    2.679</td>\n",
       "</tr>\n",
       "<tr>\n",
       "  <th>SIC_87</th> <td>    0.7061</td> <td>    0.176</td> <td>    4.012</td> <td> 0.000</td> <td>    0.361</td> <td>    1.051</td>\n",
       "</tr>\n",
       "<tr>\n",
       "  <th>SIC_99</th> <td>    0.3538</td> <td>    0.584</td> <td>    0.606</td> <td> 0.545</td> <td>   -0.791</td> <td>    1.498</td>\n",
       "</tr>\n",
       "</table>\n",
       "<table class=\"simpletable\">\n",
       "<tr>\n",
       "  <th>Omnibus:</th>       <td>2851.932</td> <th>  Durbin-Watson:     </th>  <td>   1.932</td> \n",
       "</tr>\n",
       "<tr>\n",
       "  <th>Prob(Omnibus):</th>  <td> 0.000</td>  <th>  Jarque-Bera (JB):  </th> <td>339931.602</td>\n",
       "</tr>\n",
       "<tr>\n",
       "  <th>Skew:</th>           <td> 5.140</td>  <th>  Prob(JB):          </th>  <td>    0.00</td> \n",
       "</tr>\n",
       "<tr>\n",
       "  <th>Kurtosis:</th>       <td>57.408</td>  <th>  Cond. No.          </th>  <td>    19.1</td> \n",
       "</tr>\n",
       "</table><br/><br/>Warnings:<br/>[1] Standard Errors assume that the covariance matrix of the errors is correctly specified."
      ],
      "text/plain": [
       "<class 'statsmodels.iolib.summary.Summary'>\n",
       "\"\"\"\n",
       "                            OLS Regression Results                            \n",
       "==============================================================================\n",
       "Dep. Variable:          RET_LATE_2020   R-squared:                       0.131\n",
       "Model:                            OLS   Adj. R-squared:                  0.109\n",
       "Method:                 Least Squares   F-statistic:                     5.951\n",
       "Date:                Thu, 08 Jul 2021   Prob (F-statistic):           6.91e-44\n",
       "Time:                        00:52:32   Log-Likelihood:                -3771.1\n",
       "No. Observations:                2661   AIC:                             7676.\n",
       "Df Residuals:                    2594   BIC:                             8071.\n",
       "Df Model:                          66                                         \n",
       "Covariance Type:            nonrobust                                         \n",
       "==============================================================================\n",
       "                 coef    std err          t      P>|t|      [0.025      0.975]\n",
       "------------------------------------------------------------------------------\n",
       "SIC_1          0.1769      0.452      0.391      0.696      -0.710       1.064\n",
       "SIC_10         1.6097      0.337      4.776      0.000       0.949       2.271\n",
       "SIC_12         0.4580      0.452      1.013      0.311      -0.429       1.345\n",
       "SIC_13         1.2905      0.139      9.292      0.000       1.018       1.563\n",
       "SIC_14         1.0115      0.357      2.830      0.005       0.311       1.712\n",
       "SIC_15         1.1786      0.238      4.946      0.000       0.711       1.646\n",
       "SIC_16         1.0052      0.292      3.444      0.001       0.433       1.578\n",
       "SIC_17         1.1604      0.413      2.811      0.005       0.351       1.970\n",
       "SIC_2         -0.1464      1.011     -0.145      0.885      -2.129       1.836\n",
       "SIC_20         0.6252      0.142      4.416      0.000       0.348       0.903\n",
       "SIC_21         0.4802      0.584      0.823      0.411      -0.664       1.625\n",
       "SIC_22         0.5863      0.506      1.160      0.246      -0.405       1.578\n",
       "SIC_23         1.1662      0.261      4.467      0.000       0.654       1.678\n",
       "SIC_24         1.0564      0.292      3.619      0.000       0.484       1.629\n",
       "SIC_25         1.5839      0.253      6.266      0.000       1.088       2.080\n",
       "SIC_26         0.4729      0.238      1.984      0.047       0.006       0.940\n",
       "SIC_27         0.5121      0.280      1.826      0.068      -0.038       1.062\n",
       "SIC_28         0.7320      0.053     13.812      0.000       0.628       0.836\n",
       "SIC_29         0.5087      0.261      1.949      0.051      -0.003       1.021\n",
       "SIC_30         1.9957      0.238      8.374      0.000       1.528       2.463\n",
       "SIC_31         1.0166      0.357      2.844      0.004       0.316       1.718\n",
       "SIC_32         0.7096      0.357      1.985      0.047       0.009       1.411\n",
       "SIC_33         0.8994      0.216      4.172      0.000       0.477       1.322\n",
       "SIC_34         0.7537      0.171      4.410      0.000       0.419       1.089\n",
       "SIC_35         0.8900      0.103      8.670      0.000       0.689       1.091\n",
       "SIC_36         1.2162      0.088     13.768      0.000       1.043       1.389\n",
       "SIC_37         1.2985      0.135      9.611      0.000       1.034       1.563\n",
       "SIC_38         0.7594      0.088      8.597      0.000       0.586       0.933\n",
       "SIC_39         1.4322      0.270      5.300      0.000       0.902       1.962\n",
       "SIC_40         0.5913      0.506      1.170      0.242      -0.400       1.583\n",
       "SIC_41         0.8282      0.715      1.158      0.247      -0.574       2.230\n",
       "SIC_42         0.7337      0.253      2.903      0.004       0.238       1.229\n",
       "SIC_44         0.2054      0.221      0.931      0.352      -0.227       0.638\n",
       "SIC_45         0.7191      0.253      2.845      0.004       0.223       1.215\n",
       "SIC_47         0.9592      0.337      2.846      0.004       0.298       1.620\n",
       "SIC_48         0.5319      0.146      3.645      0.000       0.246       0.818\n",
       "SIC_49         0.3001      0.109      2.753      0.006       0.086       0.514\n",
       "SIC_50         0.9224      0.160      5.770      0.000       0.609       1.236\n",
       "SIC_51         0.4780      0.206      2.316      0.021       0.073       0.883\n",
       "SIC_52         3.1695      0.413      7.679      0.000       2.360       3.979\n",
       "SIC_53         1.0332      0.270      3.824      0.000       0.503       1.563\n",
       "SIC_54         0.2268      0.357      0.635      0.526      -0.474       0.928\n",
       "SIC_55         1.5326      0.238      6.431      0.000       1.065       2.000\n",
       "SIC_56         1.1614      0.216      5.388      0.000       0.739       1.584\n",
       "SIC_57         2.9489      0.337      8.750      0.000       2.288       3.610\n",
       "SIC_58         1.2090      0.176      6.869      0.000       0.864       1.554\n",
       "SIC_59         1.9875      0.191     10.402      0.000       1.613       2.362\n",
       "SIC_60         0.4205      0.059      7.156      0.000       0.305       0.536\n",
       "SIC_61         0.9645      0.195      4.957      0.000       0.583       1.346\n",
       "SIC_62         0.6967      0.136      5.111      0.000       0.429       0.964\n",
       "SIC_63         0.3531      0.108      3.258      0.001       0.141       0.566\n",
       "SIC_64         0.6428      0.305      2.108      0.035       0.045       1.241\n",
       "SIC_65         1.1407      0.232      4.918      0.000       0.686       1.596\n",
       "SIC_67         0.4518      0.072      6.256      0.000       0.310       0.593\n",
       "SIC_7          0.3671      1.011      0.363      0.717      -1.615       2.350\n",
       "SIC_70         1.0272      0.337      3.048      0.002       0.366       1.688\n",
       "SIC_72         0.7129      0.382      1.866      0.062      -0.036       1.462\n",
       "SIC_73         0.9849      0.060     16.532      0.000       0.868       1.102\n",
       "SIC_75         0.8612      0.452      1.905      0.057      -0.025       1.748\n",
       "SIC_78         0.2683      0.452      0.593      0.553      -0.618       1.155\n",
       "SIC_79         1.4023      0.238      5.884      0.000       0.935       1.870\n",
       "SIC_80         1.1045      0.171      6.463      0.000       0.769       1.440\n",
       "SIC_81         0.5501      1.011      0.544      0.586      -1.432       2.533\n",
       "SIC_82         0.3542      0.292      1.214      0.225      -0.218       0.927\n",
       "SIC_83         0.6960      1.011      0.688      0.491      -1.287       2.679\n",
       "SIC_87         0.7061      0.176      4.012      0.000       0.361       1.051\n",
       "SIC_99         0.3538      0.584      0.606      0.545      -0.791       1.498\n",
       "==============================================================================\n",
       "Omnibus:                     2851.932   Durbin-Watson:                   1.932\n",
       "Prob(Omnibus):                  0.000   Jarque-Bera (JB):           339931.602\n",
       "Skew:                           5.140   Prob(JB):                         0.00\n",
       "Kurtosis:                      57.408   Cond. No.                         19.1\n",
       "==============================================================================\n",
       "\n",
       "Warnings:\n",
       "[1] Standard Errors assume that the covariance matrix of the errors is correctly specified.\n",
       "\"\"\""
      ]
     },
     "execution_count": 35,
     "metadata": {
      "tags": []
     },
     "output_type": "execute_result"
    }
   ],
   "source": [
    "x = df_sic_dum.drop(columns=['TICKER', 'RET_EARLY_2020', 'RET_LATE_2020', 'PRICE__BOOK', 'P__E', 'P__EBIT', 'P__SALES', 'GGROUP', 'NAICS', 'GGROUP_CODE', 'GSECTOR_CODE', 'SIC_CODE', 'GSECTOR'])\n",
    "y = df_sic_dum['RET_LATE_2020']\n",
    "sm.OLS(y, x).fit().summary()"
   ]
  },
  {
   "cell_type": "markdown",
   "metadata": {
    "id": "D2t9sc3BVRRK"
   },
   "source": [
    "## Fixed Effect Regressions on Early and Late 2020 Returns Including Financial Ratios\n",
    "Now we'll conduct regression analysis on early and late 2020 returns using GICS Sector and SIC industry codes as fixed effects, while also including our four financial ratios as independent variables to control for each company's, industry's and sector's financial state at the beginning of 2020."
   ]
  },
  {
   "cell_type": "markdown",
   "metadata": {
    "id": "7L4XswZyV-tn"
   },
   "source": [
    "**Early Returns Regression: GICS Sectors as Fixed Effect & Financial Ratios as Covariates**"
   ]
  },
  {
   "cell_type": "code",
   "execution_count": 36,
   "metadata": {
    "colab": {
     "base_uri": "https://localhost:8080/",
     "height": 775
    },
    "id": "ooBp5osfVOvX",
    "outputId": "91bad260-9c3a-4cdb-eeee-4316d6d33152"
   },
   "outputs": [
    {
     "data": {
      "text/html": [
       "<table class=\"simpletable\">\n",
       "<caption>OLS Regression Results</caption>\n",
       "<tr>\n",
       "  <th>Dep. Variable:</th>     <td>RET_EARLY_2020</td>  <th>  R-squared:         </th> <td>   0.167</td>\n",
       "</tr>\n",
       "<tr>\n",
       "  <th>Model:</th>                   <td>OLS</td>       <th>  Adj. R-squared:    </th> <td>   0.163</td>\n",
       "</tr>\n",
       "<tr>\n",
       "  <th>Method:</th>             <td>Least Squares</td>  <th>  F-statistic:       </th> <td>   38.02</td>\n",
       "</tr>\n",
       "<tr>\n",
       "  <th>Date:</th>             <td>Thu, 08 Jul 2021</td> <th>  Prob (F-statistic):</th> <td>8.33e-95</td>\n",
       "</tr>\n",
       "<tr>\n",
       "  <th>Time:</th>                 <td>00:52:33</td>     <th>  Log-Likelihood:    </th> <td> -442.89</td>\n",
       "</tr>\n",
       "<tr>\n",
       "  <th>No. Observations:</th>      <td>  2661</td>      <th>  AIC:               </th> <td>   915.8</td>\n",
       "</tr>\n",
       "<tr>\n",
       "  <th>Df Residuals:</th>          <td>  2646</td>      <th>  BIC:               </th> <td>   1004.</td>\n",
       "</tr>\n",
       "<tr>\n",
       "  <th>Df Model:</th>              <td>    14</td>      <th>                     </th>     <td> </td>   \n",
       "</tr>\n",
       "<tr>\n",
       "  <th>Covariance Type:</th>      <td>nonrobust</td>    <th>                     </th>     <td> </td>   \n",
       "</tr>\n",
       "</table>\n",
       "<table class=\"simpletable\">\n",
       "<tr>\n",
       "       <td></td>          <th>coef</th>     <th>std err</th>      <th>t</th>      <th>P>|t|</th>  <th>[0.025</th>    <th>0.975]</th>  \n",
       "</tr>\n",
       "<tr>\n",
       "  <th>const</th>       <td>   -0.2105</td> <td>    0.010</td> <td>  -21.145</td> <td> 0.000</td> <td>   -0.230</td> <td>   -0.191</td>\n",
       "</tr>\n",
       "<tr>\n",
       "  <th>PRICE__BOOK</th> <td>   -0.0819</td> <td>    0.018</td> <td>   -4.525</td> <td> 0.000</td> <td>   -0.117</td> <td>   -0.046</td>\n",
       "</tr>\n",
       "<tr>\n",
       "  <th>P__E</th>        <td>   -0.0878</td> <td>    0.060</td> <td>   -1.474</td> <td> 0.141</td> <td>   -0.205</td> <td>    0.029</td>\n",
       "</tr>\n",
       "<tr>\n",
       "  <th>P__EBIT</th>     <td>   -0.5679</td> <td>    0.074</td> <td>   -7.659</td> <td> 0.000</td> <td>   -0.713</td> <td>   -0.423</td>\n",
       "</tr>\n",
       "<tr>\n",
       "  <th>P__SALES</th>    <td>    0.0020</td> <td>    0.006</td> <td>    0.317</td> <td> 0.752</td> <td>   -0.010</td> <td>    0.014</td>\n",
       "</tr>\n",
       "<tr>\n",
       "  <th>GSECTOR_10</th>  <td>   -0.2667</td> <td>    0.028</td> <td>   -9.696</td> <td> 0.000</td> <td>   -0.321</td> <td>   -0.213</td>\n",
       "</tr>\n",
       "<tr>\n",
       "  <th>GSECTOR_15</th>  <td>   -0.0519</td> <td>    0.025</td> <td>   -2.094</td> <td> 0.036</td> <td>   -0.100</td> <td>   -0.003</td>\n",
       "</tr>\n",
       "<tr>\n",
       "  <th>GSECTOR_20</th>  <td>   -0.0292</td> <td>    0.015</td> <td>   -1.907</td> <td> 0.057</td> <td>   -0.059</td> <td>    0.001</td>\n",
       "</tr>\n",
       "<tr>\n",
       "  <th>GSECTOR_25</th>  <td>   -0.1236</td> <td>    0.017</td> <td>   -7.203</td> <td> 0.000</td> <td>   -0.157</td> <td>   -0.090</td>\n",
       "</tr>\n",
       "<tr>\n",
       "  <th>GSECTOR_30</th>  <td>    0.0885</td> <td>    0.027</td> <td>    3.328</td> <td> 0.001</td> <td>    0.036</td> <td>    0.141</td>\n",
       "</tr>\n",
       "<tr>\n",
       "  <th>GSECTOR_35</th>  <td>    0.0502</td> <td>    0.015</td> <td>    3.265</td> <td> 0.001</td> <td>    0.020</td> <td>    0.080</td>\n",
       "</tr>\n",
       "<tr>\n",
       "  <th>GSECTOR_40</th>  <td>    0.0083</td> <td>    0.016</td> <td>    0.525</td> <td> 0.600</td> <td>   -0.023</td> <td>    0.039</td>\n",
       "</tr>\n",
       "<tr>\n",
       "  <th>GSECTOR_45</th>  <td>    0.0244</td> <td>    0.016</td> <td>    1.533</td> <td> 0.125</td> <td>   -0.007</td> <td>    0.056</td>\n",
       "</tr>\n",
       "<tr>\n",
       "  <th>GSECTOR_50</th>  <td>   -0.0053</td> <td>    0.028</td> <td>   -0.192</td> <td> 0.847</td> <td>   -0.060</td> <td>    0.049</td>\n",
       "</tr>\n",
       "<tr>\n",
       "  <th>GSECTOR_55</th>  <td>    0.1437</td> <td>    0.032</td> <td>    4.458</td> <td> 0.000</td> <td>    0.081</td> <td>    0.207</td>\n",
       "</tr>\n",
       "<tr>\n",
       "  <th>GSECTOR_60</th>  <td>   -0.0488</td> <td>    0.021</td> <td>   -2.315</td> <td> 0.021</td> <td>   -0.090</td> <td>   -0.007</td>\n",
       "</tr>\n",
       "</table>\n",
       "<table class=\"simpletable\">\n",
       "<tr>\n",
       "  <th>Omnibus:</th>       <td>4151.602</td> <th>  Durbin-Watson:     </th>  <td>   1.923</td>  \n",
       "</tr>\n",
       "<tr>\n",
       "  <th>Prob(Omnibus):</th>  <td> 0.000</td>  <th>  Jarque-Bera (JB):  </th> <td>4475640.701</td>\n",
       "</tr>\n",
       "<tr>\n",
       "  <th>Skew:</th>           <td> 9.407</td>  <th>  Prob(JB):          </th>  <td>    0.00</td>  \n",
       "</tr>\n",
       "<tr>\n",
       "  <th>Kurtosis:</th>       <td>203.031</td> <th>  Cond. No.          </th>  <td>7.49e+15</td>  \n",
       "</tr>\n",
       "</table><br/><br/>Warnings:<br/>[1] Standard Errors assume that the covariance matrix of the errors is correctly specified.<br/>[2] The smallest eigenvalue is 1.31e-28. This might indicate that there are<br/>strong multicollinearity problems or that the design matrix is singular."
      ],
      "text/plain": [
       "<class 'statsmodels.iolib.summary.Summary'>\n",
       "\"\"\"\n",
       "                            OLS Regression Results                            \n",
       "==============================================================================\n",
       "Dep. Variable:         RET_EARLY_2020   R-squared:                       0.167\n",
       "Model:                            OLS   Adj. R-squared:                  0.163\n",
       "Method:                 Least Squares   F-statistic:                     38.02\n",
       "Date:                Thu, 08 Jul 2021   Prob (F-statistic):           8.33e-95\n",
       "Time:                        00:52:33   Log-Likelihood:                -442.89\n",
       "No. Observations:                2661   AIC:                             915.8\n",
       "Df Residuals:                    2646   BIC:                             1004.\n",
       "Df Model:                          14                                         \n",
       "Covariance Type:            nonrobust                                         \n",
       "===============================================================================\n",
       "                  coef    std err          t      P>|t|      [0.025      0.975]\n",
       "-------------------------------------------------------------------------------\n",
       "const          -0.2105      0.010    -21.145      0.000      -0.230      -0.191\n",
       "PRICE__BOOK    -0.0819      0.018     -4.525      0.000      -0.117      -0.046\n",
       "P__E           -0.0878      0.060     -1.474      0.141      -0.205       0.029\n",
       "P__EBIT        -0.5679      0.074     -7.659      0.000      -0.713      -0.423\n",
       "P__SALES        0.0020      0.006      0.317      0.752      -0.010       0.014\n",
       "GSECTOR_10     -0.2667      0.028     -9.696      0.000      -0.321      -0.213\n",
       "GSECTOR_15     -0.0519      0.025     -2.094      0.036      -0.100      -0.003\n",
       "GSECTOR_20     -0.0292      0.015     -1.907      0.057      -0.059       0.001\n",
       "GSECTOR_25     -0.1236      0.017     -7.203      0.000      -0.157      -0.090\n",
       "GSECTOR_30      0.0885      0.027      3.328      0.001       0.036       0.141\n",
       "GSECTOR_35      0.0502      0.015      3.265      0.001       0.020       0.080\n",
       "GSECTOR_40      0.0083      0.016      0.525      0.600      -0.023       0.039\n",
       "GSECTOR_45      0.0244      0.016      1.533      0.125      -0.007       0.056\n",
       "GSECTOR_50     -0.0053      0.028     -0.192      0.847      -0.060       0.049\n",
       "GSECTOR_55      0.1437      0.032      4.458      0.000       0.081       0.207\n",
       "GSECTOR_60     -0.0488      0.021     -2.315      0.021      -0.090      -0.007\n",
       "==============================================================================\n",
       "Omnibus:                     4151.602   Durbin-Watson:                   1.923\n",
       "Prob(Omnibus):                  0.000   Jarque-Bera (JB):          4475640.701\n",
       "Skew:                           9.407   Prob(JB):                         0.00\n",
       "Kurtosis:                     203.031   Cond. No.                     7.49e+15\n",
       "==============================================================================\n",
       "\n",
       "Warnings:\n",
       "[1] Standard Errors assume that the covariance matrix of the errors is correctly specified.\n",
       "[2] The smallest eigenvalue is 1.31e-28. This might indicate that there are\n",
       "strong multicollinearity problems or that the design matrix is singular.\n",
       "\"\"\""
      ]
     },
     "execution_count": 36,
     "metadata": {
      "tags": []
     },
     "output_type": "execute_result"
    }
   ],
   "source": [
    "x = df_gsector_dum.drop(columns=['TICKER', 'RET_EARLY_2020', 'RET_LATE_2020', 'GGROUP', 'NAICS', 'SIC', 'GGROUP_CODE', 'GSECTOR_CODE', 'SIC_CODE'])\n",
    "x = sm.add_constant(x)\n",
    "y = df_gsector_dum['RET_EARLY_2020']\n",
    "sm.OLS(y, x).fit().summary()"
   ]
  },
  {
   "cell_type": "markdown",
   "metadata": {
    "id": "vbYp-E2qWb6g"
   },
   "source": [
    "**Late Returns Regression: GICS Sectors as Fixed Effect & Financial Ratios as Covariates**"
   ]
  },
  {
   "cell_type": "code",
   "execution_count": 37,
   "metadata": {
    "colab": {
     "base_uri": "https://localhost:8080/",
     "height": 775
    },
    "id": "IcxHUXaWVPKc",
    "outputId": "e2252c6d-38c4-4e04-d2f6-e47ab365fa4b"
   },
   "outputs": [
    {
     "data": {
      "text/html": [
       "<table class=\"simpletable\">\n",
       "<caption>OLS Regression Results</caption>\n",
       "<tr>\n",
       "  <th>Dep. Variable:</th>      <td>RET_LATE_2020</td>  <th>  R-squared:         </th> <td>   0.134</td>\n",
       "</tr>\n",
       "<tr>\n",
       "  <th>Model:</th>                   <td>OLS</td>       <th>  Adj. R-squared:    </th> <td>   0.129</td>\n",
       "</tr>\n",
       "<tr>\n",
       "  <th>Method:</th>             <td>Least Squares</td>  <th>  F-statistic:       </th> <td>   29.14</td>\n",
       "</tr>\n",
       "<tr>\n",
       "  <th>Date:</th>             <td>Thu, 08 Jul 2021</td> <th>  Prob (F-statistic):</th> <td>1.80e-72</td>\n",
       "</tr>\n",
       "<tr>\n",
       "  <th>Time:</th>                 <td>00:52:33</td>     <th>  Log-Likelihood:    </th> <td> -3767.9</td>\n",
       "</tr>\n",
       "<tr>\n",
       "  <th>No. Observations:</th>      <td>  2661</td>      <th>  AIC:               </th> <td>   7566.</td>\n",
       "</tr>\n",
       "<tr>\n",
       "  <th>Df Residuals:</th>          <td>  2646</td>      <th>  BIC:               </th> <td>   7654.</td>\n",
       "</tr>\n",
       "<tr>\n",
       "  <th>Df Model:</th>              <td>    14</td>      <th>                     </th>     <td> </td>   \n",
       "</tr>\n",
       "<tr>\n",
       "  <th>Covariance Type:</th>      <td>nonrobust</td>    <th>                     </th>     <td> </td>   \n",
       "</tr>\n",
       "</table>\n",
       "<table class=\"simpletable\">\n",
       "<tr>\n",
       "       <td></td>          <th>coef</th>     <th>std err</th>      <th>t</th>      <th>P>|t|</th>  <th>[0.025</th>    <th>0.975]</th>  \n",
       "</tr>\n",
       "<tr>\n",
       "  <th>const</th>       <td>    0.6912</td> <td>    0.035</td> <td>   19.903</td> <td> 0.000</td> <td>    0.623</td> <td>    0.759</td>\n",
       "</tr>\n",
       "<tr>\n",
       "  <th>PRICE__BOOK</th> <td>   -0.1377</td> <td>    0.063</td> <td>   -2.182</td> <td> 0.029</td> <td>   -0.261</td> <td>   -0.014</td>\n",
       "</tr>\n",
       "<tr>\n",
       "  <th>P__E</th>        <td>   -1.2205</td> <td>    0.208</td> <td>   -5.869</td> <td> 0.000</td> <td>   -1.628</td> <td>   -0.813</td>\n",
       "</tr>\n",
       "<tr>\n",
       "  <th>P__EBIT</th>     <td>   -0.4961</td> <td>    0.259</td> <td>   -1.918</td> <td> 0.055</td> <td>   -1.003</td> <td>    0.011</td>\n",
       "</tr>\n",
       "<tr>\n",
       "  <th>P__SALES</th>    <td>    0.1238</td> <td>    0.022</td> <td>    5.599</td> <td> 0.000</td> <td>    0.080</td> <td>    0.167</td>\n",
       "</tr>\n",
       "<tr>\n",
       "  <th>GSECTOR_10</th>  <td>    0.2755</td> <td>    0.096</td> <td>    2.871</td> <td> 0.004</td> <td>    0.087</td> <td>    0.464</td>\n",
       "</tr>\n",
       "<tr>\n",
       "  <th>GSECTOR_15</th>  <td>    0.1616</td> <td>    0.086</td> <td>    1.869</td> <td> 0.062</td> <td>   -0.008</td> <td>    0.331</td>\n",
       "</tr>\n",
       "<tr>\n",
       "  <th>GSECTOR_20</th>  <td>    0.1042</td> <td>    0.053</td> <td>    1.950</td> <td> 0.051</td> <td>   -0.001</td> <td>    0.209</td>\n",
       "</tr>\n",
       "<tr>\n",
       "  <th>GSECTOR_25</th>  <td>    0.7573</td> <td>    0.060</td> <td>   12.652</td> <td> 0.000</td> <td>    0.640</td> <td>    0.875</td>\n",
       "</tr>\n",
       "<tr>\n",
       "  <th>GSECTOR_30</th>  <td>   -0.2445</td> <td>    0.093</td> <td>   -2.637</td> <td> 0.008</td> <td>   -0.426</td> <td>   -0.063</td>\n",
       "</tr>\n",
       "<tr>\n",
       "  <th>GSECTOR_35</th>  <td>   -0.1061</td> <td>    0.054</td> <td>   -1.980</td> <td> 0.048</td> <td>   -0.211</td> <td>   -0.001</td>\n",
       "</tr>\n",
       "<tr>\n",
       "  <th>GSECTOR_40</th>  <td>    0.0027</td> <td>    0.055</td> <td>    0.049</td> <td> 0.961</td> <td>   -0.106</td> <td>    0.111</td>\n",
       "</tr>\n",
       "<tr>\n",
       "  <th>GSECTOR_45</th>  <td>    0.2785</td> <td>    0.056</td> <td>    5.018</td> <td> 0.000</td> <td>    0.170</td> <td>    0.387</td>\n",
       "</tr>\n",
       "<tr>\n",
       "  <th>GSECTOR_50</th>  <td>    0.0495</td> <td>    0.097</td> <td>    0.512</td> <td> 0.609</td> <td>   -0.140</td> <td>    0.239</td>\n",
       "</tr>\n",
       "<tr>\n",
       "  <th>GSECTOR_55</th>  <td>   -0.4397</td> <td>    0.112</td> <td>   -3.910</td> <td> 0.000</td> <td>   -0.660</td> <td>   -0.219</td>\n",
       "</tr>\n",
       "<tr>\n",
       "  <th>GSECTOR_60</th>  <td>   -0.1478</td> <td>    0.074</td> <td>   -2.009</td> <td> 0.045</td> <td>   -0.292</td> <td>   -0.004</td>\n",
       "</tr>\n",
       "</table>\n",
       "<table class=\"simpletable\">\n",
       "<tr>\n",
       "  <th>Omnibus:</th>       <td>2843.573</td> <th>  Durbin-Watson:     </th>  <td>   1.959</td> \n",
       "</tr>\n",
       "<tr>\n",
       "  <th>Prob(Omnibus):</th>  <td> 0.000</td>  <th>  Jarque-Bera (JB):  </th> <td>347717.943</td>\n",
       "</tr>\n",
       "<tr>\n",
       "  <th>Skew:</th>           <td> 5.102</td>  <th>  Prob(JB):          </th>  <td>    0.00</td> \n",
       "</tr>\n",
       "<tr>\n",
       "  <th>Kurtosis:</th>       <td>58.064</td>  <th>  Cond. No.          </th>  <td>7.49e+15</td> \n",
       "</tr>\n",
       "</table><br/><br/>Warnings:<br/>[1] Standard Errors assume that the covariance matrix of the errors is correctly specified.<br/>[2] The smallest eigenvalue is 1.31e-28. This might indicate that there are<br/>strong multicollinearity problems or that the design matrix is singular."
      ],
      "text/plain": [
       "<class 'statsmodels.iolib.summary.Summary'>\n",
       "\"\"\"\n",
       "                            OLS Regression Results                            \n",
       "==============================================================================\n",
       "Dep. Variable:          RET_LATE_2020   R-squared:                       0.134\n",
       "Model:                            OLS   Adj. R-squared:                  0.129\n",
       "Method:                 Least Squares   F-statistic:                     29.14\n",
       "Date:                Thu, 08 Jul 2021   Prob (F-statistic):           1.80e-72\n",
       "Time:                        00:52:33   Log-Likelihood:                -3767.9\n",
       "No. Observations:                2661   AIC:                             7566.\n",
       "Df Residuals:                    2646   BIC:                             7654.\n",
       "Df Model:                          14                                         \n",
       "Covariance Type:            nonrobust                                         \n",
       "===============================================================================\n",
       "                  coef    std err          t      P>|t|      [0.025      0.975]\n",
       "-------------------------------------------------------------------------------\n",
       "const           0.6912      0.035     19.903      0.000       0.623       0.759\n",
       "PRICE__BOOK    -0.1377      0.063     -2.182      0.029      -0.261      -0.014\n",
       "P__E           -1.2205      0.208     -5.869      0.000      -1.628      -0.813\n",
       "P__EBIT        -0.4961      0.259     -1.918      0.055      -1.003       0.011\n",
       "P__SALES        0.1238      0.022      5.599      0.000       0.080       0.167\n",
       "GSECTOR_10      0.2755      0.096      2.871      0.004       0.087       0.464\n",
       "GSECTOR_15      0.1616      0.086      1.869      0.062      -0.008       0.331\n",
       "GSECTOR_20      0.1042      0.053      1.950      0.051      -0.001       0.209\n",
       "GSECTOR_25      0.7573      0.060     12.652      0.000       0.640       0.875\n",
       "GSECTOR_30     -0.2445      0.093     -2.637      0.008      -0.426      -0.063\n",
       "GSECTOR_35     -0.1061      0.054     -1.980      0.048      -0.211      -0.001\n",
       "GSECTOR_40      0.0027      0.055      0.049      0.961      -0.106       0.111\n",
       "GSECTOR_45      0.2785      0.056      5.018      0.000       0.170       0.387\n",
       "GSECTOR_50      0.0495      0.097      0.512      0.609      -0.140       0.239\n",
       "GSECTOR_55     -0.4397      0.112     -3.910      0.000      -0.660      -0.219\n",
       "GSECTOR_60     -0.1478      0.074     -2.009      0.045      -0.292      -0.004\n",
       "==============================================================================\n",
       "Omnibus:                     2843.573   Durbin-Watson:                   1.959\n",
       "Prob(Omnibus):                  0.000   Jarque-Bera (JB):           347717.943\n",
       "Skew:                           5.102   Prob(JB):                         0.00\n",
       "Kurtosis:                      58.064   Cond. No.                     7.49e+15\n",
       "==============================================================================\n",
       "\n",
       "Warnings:\n",
       "[1] Standard Errors assume that the covariance matrix of the errors is correctly specified.\n",
       "[2] The smallest eigenvalue is 1.31e-28. This might indicate that there are\n",
       "strong multicollinearity problems or that the design matrix is singular.\n",
       "\"\"\""
      ]
     },
     "execution_count": 37,
     "metadata": {
      "tags": []
     },
     "output_type": "execute_result"
    }
   ],
   "source": [
    "x = df_gsector_dum.drop(columns=['TICKER', 'RET_EARLY_2020', 'RET_LATE_2020', 'GGROUP', 'NAICS', 'SIC', 'GGROUP_CODE', 'GSECTOR_CODE', 'SIC_CODE'])\n",
    "x = sm.add_constant(x)\n",
    "y = df_gsector_dum['RET_LATE_2020']\n",
    "sm.OLS(y, x).fit().summary()"
   ]
  },
  {
   "cell_type": "markdown",
   "metadata": {
    "id": "_jGXxY2dWv9G"
   },
   "source": [
    "**Early Returns Regression: SIC Industries as Fixed Effect & Financial Ratios as Covariates**"
   ]
  },
  {
   "cell_type": "code",
   "execution_count": 38,
   "metadata": {
    "colab": {
     "base_uri": "https://localhost:8080/",
     "height": 1000
    },
    "id": "FkV8uKTuWfvq",
    "outputId": "0e1ea7fe-4c66-420a-fdde-80cbb64274b9"
   },
   "outputs": [
    {
     "data": {
      "text/html": [
       "<table class=\"simpletable\">\n",
       "<caption>OLS Regression Results</caption>\n",
       "<tr>\n",
       "  <th>Dep. Variable:</th>     <td>RET_EARLY_2020</td>  <th>  R-squared:         </th> <td>   0.184</td>\n",
       "</tr>\n",
       "<tr>\n",
       "  <th>Model:</th>                   <td>OLS</td>       <th>  Adj. R-squared:    </th> <td>   0.162</td>\n",
       "</tr>\n",
       "<tr>\n",
       "  <th>Method:</th>             <td>Least Squares</td>  <th>  F-statistic:       </th> <td>   8.330</td>\n",
       "</tr>\n",
       "<tr>\n",
       "  <th>Date:</th>             <td>Thu, 08 Jul 2021</td> <th>  Prob (F-statistic):</th> <td>2.40e-72</td>\n",
       "</tr>\n",
       "<tr>\n",
       "  <th>Time:</th>                 <td>00:52:33</td>     <th>  Log-Likelihood:    </th> <td> -416.58</td>\n",
       "</tr>\n",
       "<tr>\n",
       "  <th>No. Observations:</th>      <td>  2661</td>      <th>  AIC:               </th> <td>   975.2</td>\n",
       "</tr>\n",
       "<tr>\n",
       "  <th>Df Residuals:</th>          <td>  2590</td>      <th>  BIC:               </th> <td>   1393.</td>\n",
       "</tr>\n",
       "<tr>\n",
       "  <th>Df Model:</th>              <td>    70</td>      <th>                     </th>     <td> </td>   \n",
       "</tr>\n",
       "<tr>\n",
       "  <th>Covariance Type:</th>      <td>nonrobust</td>    <th>                     </th>     <td> </td>   \n",
       "</tr>\n",
       "</table>\n",
       "<table class=\"simpletable\">\n",
       "<tr>\n",
       "       <td></td>          <th>coef</th>     <th>std err</th>      <th>t</th>      <th>P>|t|</th>  <th>[0.025</th>    <th>0.975]</th>  \n",
       "</tr>\n",
       "<tr>\n",
       "  <th>const</th>       <td>   -0.2331</td> <td>    0.016</td> <td>  -14.438</td> <td> 0.000</td> <td>   -0.265</td> <td>   -0.201</td>\n",
       "</tr>\n",
       "<tr>\n",
       "  <th>PRICE__BOOK</th> <td>   -0.0847</td> <td>    0.019</td> <td>   -4.508</td> <td> 0.000</td> <td>   -0.122</td> <td>   -0.048</td>\n",
       "</tr>\n",
       "<tr>\n",
       "  <th>P__E</th>        <td>   -0.1443</td> <td>    0.061</td> <td>   -2.355</td> <td> 0.019</td> <td>   -0.264</td> <td>   -0.024</td>\n",
       "</tr>\n",
       "<tr>\n",
       "  <th>P__EBIT</th>     <td>   -0.5706</td> <td>    0.076</td> <td>   -7.487</td> <td> 0.000</td> <td>   -0.720</td> <td>   -0.421</td>\n",
       "</tr>\n",
       "<tr>\n",
       "  <th>P__SALES</th>    <td>   -0.0078</td> <td>    0.007</td> <td>   -1.095</td> <td> 0.274</td> <td>   -0.022</td> <td>    0.006</td>\n",
       "</tr>\n",
       "<tr>\n",
       "  <th>SIC_1</th>       <td>    0.1470</td> <td>    0.127</td> <td>    1.154</td> <td> 0.249</td> <td>   -0.103</td> <td>    0.397</td>\n",
       "</tr>\n",
       "<tr>\n",
       "  <th>SIC_10</th>      <td>   -0.1150</td> <td>    0.095</td> <td>   -1.205</td> <td> 0.228</td> <td>   -0.302</td> <td>    0.072</td>\n",
       "</tr>\n",
       "<tr>\n",
       "  <th>SIC_12</th>      <td>   -0.1233</td> <td>    0.128</td> <td>   -0.966</td> <td> 0.334</td> <td>   -0.374</td> <td>    0.127</td>\n",
       "</tr>\n",
       "<tr>\n",
       "  <th>SIC_13</th>      <td>   -0.3409</td> <td>    0.042</td> <td>   -8.080</td> <td> 0.000</td> <td>   -0.424</td> <td>   -0.258</td>\n",
       "</tr>\n",
       "<tr>\n",
       "  <th>SIC_14</th>      <td>   -0.0811</td> <td>    0.101</td> <td>   -0.803</td> <td> 0.422</td> <td>   -0.279</td> <td>    0.117</td>\n",
       "</tr>\n",
       "<tr>\n",
       "  <th>SIC_15</th>      <td>   -0.0256</td> <td>    0.068</td> <td>   -0.375</td> <td> 0.708</td> <td>   -0.159</td> <td>    0.108</td>\n",
       "</tr>\n",
       "<tr>\n",
       "  <th>SIC_16</th>      <td>    0.0106</td> <td>    0.083</td> <td>    0.127</td> <td> 0.899</td> <td>   -0.152</td> <td>    0.173</td>\n",
       "</tr>\n",
       "<tr>\n",
       "  <th>SIC_17</th>      <td>    0.0340</td> <td>    0.116</td> <td>    0.293</td> <td> 0.770</td> <td>   -0.194</td> <td>    0.262</td>\n",
       "</tr>\n",
       "<tr>\n",
       "  <th>SIC_2</th>       <td>    0.3110</td> <td>    0.283</td> <td>    1.099</td> <td> 0.272</td> <td>   -0.244</td> <td>    0.866</td>\n",
       "</tr>\n",
       "<tr>\n",
       "  <th>SIC_20</th>      <td>    0.1292</td> <td>    0.042</td> <td>    3.093</td> <td> 0.002</td> <td>    0.047</td> <td>    0.211</td>\n",
       "</tr>\n",
       "<tr>\n",
       "  <th>SIC_21</th>      <td>    0.0979</td> <td>    0.164</td> <td>    0.597</td> <td> 0.550</td> <td>   -0.223</td> <td>    0.419</td>\n",
       "</tr>\n",
       "<tr>\n",
       "  <th>SIC_22</th>      <td>   -0.1252</td> <td>    0.142</td> <td>   -0.882</td> <td> 0.378</td> <td>   -0.403</td> <td>    0.153</td>\n",
       "</tr>\n",
       "<tr>\n",
       "  <th>SIC_23</th>      <td>   -0.1625</td> <td>    0.074</td> <td>   -2.191</td> <td> 0.029</td> <td>   -0.308</td> <td>   -0.017</td>\n",
       "</tr>\n",
       "<tr>\n",
       "  <th>SIC_24</th>      <td>   -0.0690</td> <td>    0.083</td> <td>   -0.835</td> <td> 0.404</td> <td>   -0.231</td> <td>    0.093</td>\n",
       "</tr>\n",
       "<tr>\n",
       "  <th>SIC_25</th>      <td>   -0.1197</td> <td>    0.072</td> <td>   -1.663</td> <td> 0.097</td> <td>   -0.261</td> <td>    0.021</td>\n",
       "</tr>\n",
       "<tr>\n",
       "  <th>SIC_26</th>      <td>    0.1036</td> <td>    0.068</td> <td>    1.525</td> <td> 0.127</td> <td>   -0.030</td> <td>    0.237</td>\n",
       "</tr>\n",
       "<tr>\n",
       "  <th>SIC_27</th>      <td>   -0.0463</td> <td>    0.080</td> <td>   -0.581</td> <td> 0.561</td> <td>   -0.203</td> <td>    0.110</td>\n",
       "</tr>\n",
       "<tr>\n",
       "  <th>SIC_28</th>      <td>    0.0420</td> <td>    0.022</td> <td>    1.891</td> <td> 0.059</td> <td>   -0.002</td> <td>    0.086</td>\n",
       "</tr>\n",
       "<tr>\n",
       "  <th>SIC_29</th>      <td>   -0.0720</td> <td>    0.074</td> <td>   -0.968</td> <td> 0.333</td> <td>   -0.218</td> <td>    0.074</td>\n",
       "</tr>\n",
       "<tr>\n",
       "  <th>SIC_30</th>      <td>    0.1515</td> <td>    0.068</td> <td>    2.230</td> <td> 0.026</td> <td>    0.018</td> <td>    0.285</td>\n",
       "</tr>\n",
       "<tr>\n",
       "  <th>SIC_31</th>      <td>   -0.1536</td> <td>    0.101</td> <td>   -1.524</td> <td> 0.128</td> <td>   -0.351</td> <td>    0.044</td>\n",
       "</tr>\n",
       "<tr>\n",
       "  <th>SIC_32</th>      <td>    0.0053</td> <td>    0.101</td> <td>    0.053</td> <td> 0.958</td> <td>   -0.192</td> <td>    0.203</td>\n",
       "</tr>\n",
       "<tr>\n",
       "  <th>SIC_33</th>      <td>   -0.0705</td> <td>    0.062</td> <td>   -1.142</td> <td> 0.254</td> <td>   -0.192</td> <td>    0.051</td>\n",
       "</tr>\n",
       "<tr>\n",
       "  <th>SIC_34</th>      <td>    0.0641</td> <td>    0.050</td> <td>    1.293</td> <td> 0.196</td> <td>   -0.033</td> <td>    0.161</td>\n",
       "</tr>\n",
       "<tr>\n",
       "  <th>SIC_35</th>      <td>   -0.0246</td> <td>    0.032</td> <td>   -0.777</td> <td> 0.437</td> <td>   -0.087</td> <td>    0.037</td>\n",
       "</tr>\n",
       "<tr>\n",
       "  <th>SIC_36</th>      <td>    0.0111</td> <td>    0.028</td> <td>    0.393</td> <td> 0.694</td> <td>   -0.044</td> <td>    0.066</td>\n",
       "</tr>\n",
       "<tr>\n",
       "  <th>SIC_37</th>      <td>   -0.0580</td> <td>    0.040</td> <td>   -1.446</td> <td> 0.148</td> <td>   -0.137</td> <td>    0.021</td>\n",
       "</tr>\n",
       "<tr>\n",
       "  <th>SIC_38</th>      <td>    0.0529</td> <td>    0.029</td> <td>    1.845</td> <td> 0.065</td> <td>   -0.003</td> <td>    0.109</td>\n",
       "</tr>\n",
       "<tr>\n",
       "  <th>SIC_39</th>      <td>   -0.0217</td> <td>    0.077</td> <td>   -0.283</td> <td> 0.777</td> <td>   -0.172</td> <td>    0.129</td>\n",
       "</tr>\n",
       "<tr>\n",
       "  <th>SIC_40</th>      <td>    0.0979</td> <td>    0.142</td> <td>    0.689</td> <td> 0.491</td> <td>   -0.181</td> <td>    0.376</td>\n",
       "</tr>\n",
       "<tr>\n",
       "  <th>SIC_41</th>      <td>   -0.0959</td> <td>    0.201</td> <td>   -0.477</td> <td> 0.633</td> <td>   -0.490</td> <td>    0.298</td>\n",
       "</tr>\n",
       "<tr>\n",
       "  <th>SIC_42</th>      <td>    0.1382</td> <td>    0.072</td> <td>    1.919</td> <td> 0.055</td> <td>   -0.003</td> <td>    0.279</td>\n",
       "</tr>\n",
       "<tr>\n",
       "  <th>SIC_44</th>      <td>   -0.0206</td> <td>    0.064</td> <td>   -0.320</td> <td> 0.749</td> <td>   -0.147</td> <td>    0.106</td>\n",
       "</tr>\n",
       "<tr>\n",
       "  <th>SIC_45</th>      <td>   -0.0659</td> <td>    0.072</td> <td>   -0.913</td> <td> 0.361</td> <td>   -0.207</td> <td>    0.076</td>\n",
       "</tr>\n",
       "<tr>\n",
       "  <th>SIC_47</th>      <td>    0.0611</td> <td>    0.095</td> <td>    0.641</td> <td> 0.521</td> <td>   -0.126</td> <td>    0.248</td>\n",
       "</tr>\n",
       "<tr>\n",
       "  <th>SIC_48</th>      <td>    0.1028</td> <td>    0.043</td> <td>    2.393</td> <td> 0.017</td> <td>    0.019</td> <td>    0.187</td>\n",
       "</tr>\n",
       "<tr>\n",
       "  <th>SIC_49</th>      <td>    0.1374</td> <td>    0.034</td> <td>    4.098</td> <td> 0.000</td> <td>    0.072</td> <td>    0.203</td>\n",
       "</tr>\n",
       "<tr>\n",
       "  <th>SIC_50</th>      <td>    0.0320</td> <td>    0.047</td> <td>    0.679</td> <td> 0.497</td> <td>   -0.060</td> <td>    0.125</td>\n",
       "</tr>\n",
       "<tr>\n",
       "  <th>SIC_51</th>      <td>    0.0739</td> <td>    0.061</td> <td>    1.208</td> <td> 0.227</td> <td>   -0.046</td> <td>    0.194</td>\n",
       "</tr>\n",
       "<tr>\n",
       "  <th>SIC_52</th>      <td>    0.0510</td> <td>    0.116</td> <td>    0.439</td> <td> 0.661</td> <td>   -0.177</td> <td>    0.279</td>\n",
       "</tr>\n",
       "<tr>\n",
       "  <th>SIC_53</th>      <td>    0.0147</td> <td>    0.077</td> <td>    0.190</td> <td> 0.849</td> <td>   -0.136</td> <td>    0.166</td>\n",
       "</tr>\n",
       "<tr>\n",
       "  <th>SIC_54</th>      <td>    0.3198</td> <td>    0.102</td> <td>    3.139</td> <td> 0.002</td> <td>    0.120</td> <td>    0.520</td>\n",
       "</tr>\n",
       "<tr>\n",
       "  <th>SIC_55</th>      <td>   -0.0366</td> <td>    0.069</td> <td>   -0.527</td> <td> 0.598</td> <td>   -0.173</td> <td>    0.099</td>\n",
       "</tr>\n",
       "<tr>\n",
       "  <th>SIC_56</th>      <td>   -0.1653</td> <td>    0.062</td> <td>   -2.666</td> <td> 0.008</td> <td>   -0.287</td> <td>   -0.044</td>\n",
       "</tr>\n",
       "<tr>\n",
       "  <th>SIC_57</th>      <td>   -0.1036</td> <td>    0.096</td> <td>   -1.076</td> <td> 0.282</td> <td>   -0.292</td> <td>    0.085</td>\n",
       "</tr>\n",
       "<tr>\n",
       "  <th>SIC_58</th>      <td>   -0.1232</td> <td>    0.051</td> <td>   -2.410</td> <td> 0.016</td> <td>   -0.223</td> <td>   -0.023</td>\n",
       "</tr>\n",
       "<tr>\n",
       "  <th>SIC_59</th>      <td>   -0.0005</td> <td>    0.055</td> <td>   -0.009</td> <td> 0.993</td> <td>   -0.109</td> <td>    0.108</td>\n",
       "</tr>\n",
       "<tr>\n",
       "  <th>SIC_60</th>      <td>    0.0208</td> <td>    0.024</td> <td>    0.881</td> <td> 0.378</td> <td>   -0.025</td> <td>    0.067</td>\n",
       "</tr>\n",
       "<tr>\n",
       "  <th>SIC_61</th>      <td>    0.0476</td> <td>    0.058</td> <td>    0.828</td> <td> 0.408</td> <td>   -0.065</td> <td>    0.160</td>\n",
       "</tr>\n",
       "<tr>\n",
       "  <th>SIC_62</th>      <td>    0.0829</td> <td>    0.041</td> <td>    2.035</td> <td> 0.042</td> <td>    0.003</td> <td>    0.163</td>\n",
       "</tr>\n",
       "<tr>\n",
       "  <th>SIC_63</th>      <td>    0.1149</td> <td>    0.034</td> <td>    3.362</td> <td> 0.001</td> <td>    0.048</td> <td>    0.182</td>\n",
       "</tr>\n",
       "<tr>\n",
       "  <th>SIC_64</th>      <td>    0.1732</td> <td>    0.086</td> <td>    2.003</td> <td> 0.045</td> <td>    0.004</td> <td>    0.343</td>\n",
       "</tr>\n",
       "<tr>\n",
       "  <th>SIC_65</th>      <td>   -0.0849</td> <td>    0.066</td> <td>   -1.284</td> <td> 0.199</td> <td>   -0.215</td> <td>    0.045</td>\n",
       "</tr>\n",
       "<tr>\n",
       "  <th>SIC_67</th>      <td>   -0.0278</td> <td>    0.025</td> <td>   -1.098</td> <td> 0.272</td> <td>   -0.077</td> <td>    0.022</td>\n",
       "</tr>\n",
       "<tr>\n",
       "  <th>SIC_7</th>       <td>    0.0149</td> <td>    0.283</td> <td>    0.053</td> <td> 0.958</td> <td>   -0.540</td> <td>    0.570</td>\n",
       "</tr>\n",
       "<tr>\n",
       "  <th>SIC_70</th>      <td>   -0.1519</td> <td>    0.095</td> <td>   -1.595</td> <td> 0.111</td> <td>   -0.339</td> <td>    0.035</td>\n",
       "</tr>\n",
       "<tr>\n",
       "  <th>SIC_72</th>      <td>   -0.1684</td> <td>    0.108</td> <td>   -1.564</td> <td> 0.118</td> <td>   -0.380</td> <td>    0.043</td>\n",
       "</tr>\n",
       "<tr>\n",
       "  <th>SIC_73</th>      <td>    0.0684</td> <td>    0.022</td> <td>    3.132</td> <td> 0.002</td> <td>    0.026</td> <td>    0.111</td>\n",
       "</tr>\n",
       "<tr>\n",
       "  <th>SIC_75</th>      <td>   -0.0799</td> <td>    0.127</td> <td>   -0.628</td> <td> 0.530</td> <td>   -0.329</td> <td>    0.170</td>\n",
       "</tr>\n",
       "<tr>\n",
       "  <th>SIC_78</th>      <td>   -0.0824</td> <td>    0.127</td> <td>   -0.648</td> <td> 0.517</td> <td>   -0.332</td> <td>    0.167</td>\n",
       "</tr>\n",
       "<tr>\n",
       "  <th>SIC_79</th>      <td>   -0.1827</td> <td>    0.068</td> <td>   -2.685</td> <td> 0.007</td> <td>   -0.316</td> <td>   -0.049</td>\n",
       "</tr>\n",
       "<tr>\n",
       "  <th>SIC_80</th>      <td>    0.0696</td> <td>    0.050</td> <td>    1.397</td> <td> 0.162</td> <td>   -0.028</td> <td>    0.167</td>\n",
       "</tr>\n",
       "<tr>\n",
       "  <th>SIC_81</th>      <td>   -0.0509</td> <td>    0.283</td> <td>   -0.180</td> <td> 0.857</td> <td>   -0.606</td> <td>    0.504</td>\n",
       "</tr>\n",
       "<tr>\n",
       "  <th>SIC_82</th>      <td>    0.0538</td> <td>    0.083</td> <td>    0.651</td> <td> 0.515</td> <td>   -0.108</td> <td>    0.216</td>\n",
       "</tr>\n",
       "<tr>\n",
       "  <th>SIC_83</th>      <td>   -0.0563</td> <td>    0.283</td> <td>   -0.199</td> <td> 0.842</td> <td>   -0.611</td> <td>    0.499</td>\n",
       "</tr>\n",
       "<tr>\n",
       "  <th>SIC_87</th>      <td>    0.0184</td> <td>    0.051</td> <td>    0.360</td> <td> 0.719</td> <td>   -0.082</td> <td>    0.118</td>\n",
       "</tr>\n",
       "<tr>\n",
       "  <th>SIC_99</th>      <td>    0.0191</td> <td>    0.164</td> <td>    0.117</td> <td> 0.907</td> <td>   -0.302</td> <td>    0.340</td>\n",
       "</tr>\n",
       "</table>\n",
       "<table class=\"simpletable\">\n",
       "<tr>\n",
       "  <th>Omnibus:</th>       <td>4191.205</td> <th>  Durbin-Watson:     </th>  <td>   1.919</td>  \n",
       "</tr>\n",
       "<tr>\n",
       "  <th>Prob(Omnibus):</th>  <td> 0.000</td>  <th>  Jarque-Bera (JB):  </th> <td>4812054.993</td>\n",
       "</tr>\n",
       "<tr>\n",
       "  <th>Skew:</th>           <td> 9.573</td>  <th>  Prob(JB):          </th>  <td>    0.00</td>  \n",
       "</tr>\n",
       "<tr>\n",
       "  <th>Kurtosis:</th>       <td>210.447</td> <th>  Cond. No.          </th>  <td>3.20e+16</td>  \n",
       "</tr>\n",
       "</table><br/><br/>Warnings:<br/>[1] Standard Errors assume that the covariance matrix of the errors is correctly specified.<br/>[2] The smallest eigenvalue is 7.04e-30. This might indicate that there are<br/>strong multicollinearity problems or that the design matrix is singular."
      ],
      "text/plain": [
       "<class 'statsmodels.iolib.summary.Summary'>\n",
       "\"\"\"\n",
       "                            OLS Regression Results                            \n",
       "==============================================================================\n",
       "Dep. Variable:         RET_EARLY_2020   R-squared:                       0.184\n",
       "Model:                            OLS   Adj. R-squared:                  0.162\n",
       "Method:                 Least Squares   F-statistic:                     8.330\n",
       "Date:                Thu, 08 Jul 2021   Prob (F-statistic):           2.40e-72\n",
       "Time:                        00:52:33   Log-Likelihood:                -416.58\n",
       "No. Observations:                2661   AIC:                             975.2\n",
       "Df Residuals:                    2590   BIC:                             1393.\n",
       "Df Model:                          70                                         \n",
       "Covariance Type:            nonrobust                                         \n",
       "===============================================================================\n",
       "                  coef    std err          t      P>|t|      [0.025      0.975]\n",
       "-------------------------------------------------------------------------------\n",
       "const          -0.2331      0.016    -14.438      0.000      -0.265      -0.201\n",
       "PRICE__BOOK    -0.0847      0.019     -4.508      0.000      -0.122      -0.048\n",
       "P__E           -0.1443      0.061     -2.355      0.019      -0.264      -0.024\n",
       "P__EBIT        -0.5706      0.076     -7.487      0.000      -0.720      -0.421\n",
       "P__SALES       -0.0078      0.007     -1.095      0.274      -0.022       0.006\n",
       "SIC_1           0.1470      0.127      1.154      0.249      -0.103       0.397\n",
       "SIC_10         -0.1150      0.095     -1.205      0.228      -0.302       0.072\n",
       "SIC_12         -0.1233      0.128     -0.966      0.334      -0.374       0.127\n",
       "SIC_13         -0.3409      0.042     -8.080      0.000      -0.424      -0.258\n",
       "SIC_14         -0.0811      0.101     -0.803      0.422      -0.279       0.117\n",
       "SIC_15         -0.0256      0.068     -0.375      0.708      -0.159       0.108\n",
       "SIC_16          0.0106      0.083      0.127      0.899      -0.152       0.173\n",
       "SIC_17          0.0340      0.116      0.293      0.770      -0.194       0.262\n",
       "SIC_2           0.3110      0.283      1.099      0.272      -0.244       0.866\n",
       "SIC_20          0.1292      0.042      3.093      0.002       0.047       0.211\n",
       "SIC_21          0.0979      0.164      0.597      0.550      -0.223       0.419\n",
       "SIC_22         -0.1252      0.142     -0.882      0.378      -0.403       0.153\n",
       "SIC_23         -0.1625      0.074     -2.191      0.029      -0.308      -0.017\n",
       "SIC_24         -0.0690      0.083     -0.835      0.404      -0.231       0.093\n",
       "SIC_25         -0.1197      0.072     -1.663      0.097      -0.261       0.021\n",
       "SIC_26          0.1036      0.068      1.525      0.127      -0.030       0.237\n",
       "SIC_27         -0.0463      0.080     -0.581      0.561      -0.203       0.110\n",
       "SIC_28          0.0420      0.022      1.891      0.059      -0.002       0.086\n",
       "SIC_29         -0.0720      0.074     -0.968      0.333      -0.218       0.074\n",
       "SIC_30          0.1515      0.068      2.230      0.026       0.018       0.285\n",
       "SIC_31         -0.1536      0.101     -1.524      0.128      -0.351       0.044\n",
       "SIC_32          0.0053      0.101      0.053      0.958      -0.192       0.203\n",
       "SIC_33         -0.0705      0.062     -1.142      0.254      -0.192       0.051\n",
       "SIC_34          0.0641      0.050      1.293      0.196      -0.033       0.161\n",
       "SIC_35         -0.0246      0.032     -0.777      0.437      -0.087       0.037\n",
       "SIC_36          0.0111      0.028      0.393      0.694      -0.044       0.066\n",
       "SIC_37         -0.0580      0.040     -1.446      0.148      -0.137       0.021\n",
       "SIC_38          0.0529      0.029      1.845      0.065      -0.003       0.109\n",
       "SIC_39         -0.0217      0.077     -0.283      0.777      -0.172       0.129\n",
       "SIC_40          0.0979      0.142      0.689      0.491      -0.181       0.376\n",
       "SIC_41         -0.0959      0.201     -0.477      0.633      -0.490       0.298\n",
       "SIC_42          0.1382      0.072      1.919      0.055      -0.003       0.279\n",
       "SIC_44         -0.0206      0.064     -0.320      0.749      -0.147       0.106\n",
       "SIC_45         -0.0659      0.072     -0.913      0.361      -0.207       0.076\n",
       "SIC_47          0.0611      0.095      0.641      0.521      -0.126       0.248\n",
       "SIC_48          0.1028      0.043      2.393      0.017       0.019       0.187\n",
       "SIC_49          0.1374      0.034      4.098      0.000       0.072       0.203\n",
       "SIC_50          0.0320      0.047      0.679      0.497      -0.060       0.125\n",
       "SIC_51          0.0739      0.061      1.208      0.227      -0.046       0.194\n",
       "SIC_52          0.0510      0.116      0.439      0.661      -0.177       0.279\n",
       "SIC_53          0.0147      0.077      0.190      0.849      -0.136       0.166\n",
       "SIC_54          0.3198      0.102      3.139      0.002       0.120       0.520\n",
       "SIC_55         -0.0366      0.069     -0.527      0.598      -0.173       0.099\n",
       "SIC_56         -0.1653      0.062     -2.666      0.008      -0.287      -0.044\n",
       "SIC_57         -0.1036      0.096     -1.076      0.282      -0.292       0.085\n",
       "SIC_58         -0.1232      0.051     -2.410      0.016      -0.223      -0.023\n",
       "SIC_59         -0.0005      0.055     -0.009      0.993      -0.109       0.108\n",
       "SIC_60          0.0208      0.024      0.881      0.378      -0.025       0.067\n",
       "SIC_61          0.0476      0.058      0.828      0.408      -0.065       0.160\n",
       "SIC_62          0.0829      0.041      2.035      0.042       0.003       0.163\n",
       "SIC_63          0.1149      0.034      3.362      0.001       0.048       0.182\n",
       "SIC_64          0.1732      0.086      2.003      0.045       0.004       0.343\n",
       "SIC_65         -0.0849      0.066     -1.284      0.199      -0.215       0.045\n",
       "SIC_67         -0.0278      0.025     -1.098      0.272      -0.077       0.022\n",
       "SIC_7           0.0149      0.283      0.053      0.958      -0.540       0.570\n",
       "SIC_70         -0.1519      0.095     -1.595      0.111      -0.339       0.035\n",
       "SIC_72         -0.1684      0.108     -1.564      0.118      -0.380       0.043\n",
       "SIC_73          0.0684      0.022      3.132      0.002       0.026       0.111\n",
       "SIC_75         -0.0799      0.127     -0.628      0.530      -0.329       0.170\n",
       "SIC_78         -0.0824      0.127     -0.648      0.517      -0.332       0.167\n",
       "SIC_79         -0.1827      0.068     -2.685      0.007      -0.316      -0.049\n",
       "SIC_80          0.0696      0.050      1.397      0.162      -0.028       0.167\n",
       "SIC_81         -0.0509      0.283     -0.180      0.857      -0.606       0.504\n",
       "SIC_82          0.0538      0.083      0.651      0.515      -0.108       0.216\n",
       "SIC_83         -0.0563      0.283     -0.199      0.842      -0.611       0.499\n",
       "SIC_87          0.0184      0.051      0.360      0.719      -0.082       0.118\n",
       "SIC_99          0.0191      0.164      0.117      0.907      -0.302       0.340\n",
       "==============================================================================\n",
       "Omnibus:                     4191.205   Durbin-Watson:                   1.919\n",
       "Prob(Omnibus):                  0.000   Jarque-Bera (JB):          4812054.993\n",
       "Skew:                           9.573   Prob(JB):                         0.00\n",
       "Kurtosis:                     210.447   Cond. No.                     3.20e+16\n",
       "==============================================================================\n",
       "\n",
       "Warnings:\n",
       "[1] Standard Errors assume that the covariance matrix of the errors is correctly specified.\n",
       "[2] The smallest eigenvalue is 7.04e-30. This might indicate that there are\n",
       "strong multicollinearity problems or that the design matrix is singular.\n",
       "\"\"\""
      ]
     },
     "execution_count": 38,
     "metadata": {
      "tags": []
     },
     "output_type": "execute_result"
    }
   ],
   "source": [
    "x = df_sic_dum.drop(columns=['TICKER', 'RET_EARLY_2020', 'RET_LATE_2020', 'GGROUP', 'NAICS', 'GGROUP_CODE', 'GSECTOR_CODE', 'SIC_CODE', 'GSECTOR'])\n",
    "x = sm.add_constant(x)\n",
    "y = df_sic_dum['RET_EARLY_2020']\n",
    "sm.OLS(y, x).fit().summary()"
   ]
  },
  {
   "cell_type": "markdown",
   "metadata": {
    "id": "2MCstcgqXFqE"
   },
   "source": [
    "**Late Returns Regression: SIC Industries as Fixed Effect & Financial Ratios as Covariates**"
   ]
  },
  {
   "cell_type": "code",
   "execution_count": 39,
   "metadata": {
    "colab": {
     "base_uri": "https://localhost:8080/",
     "height": 1000
    },
    "id": "E4zhANQmVPNv",
    "outputId": "cfd781c2-bdc8-4f49-f172-43647558f85b"
   },
   "outputs": [
    {
     "data": {
      "text/html": [
       "<table class=\"simpletable\">\n",
       "<caption>OLS Regression Results</caption>\n",
       "<tr>\n",
       "  <th>Dep. Variable:</th>      <td>RET_LATE_2020</td>  <th>  R-squared:         </th> <td>   0.168</td>\n",
       "</tr>\n",
       "<tr>\n",
       "  <th>Model:</th>                   <td>OLS</td>       <th>  Adj. R-squared:    </th> <td>   0.145</td>\n",
       "</tr>\n",
       "<tr>\n",
       "  <th>Method:</th>             <td>Least Squares</td>  <th>  F-statistic:       </th> <td>   7.468</td>\n",
       "</tr>\n",
       "<tr>\n",
       "  <th>Date:</th>             <td>Thu, 08 Jul 2021</td> <th>  Prob (F-statistic):</th> <td>7.21e-63</td>\n",
       "</tr>\n",
       "<tr>\n",
       "  <th>Time:</th>                 <td>00:52:33</td>     <th>  Log-Likelihood:    </th> <td> -3714.1</td>\n",
       "</tr>\n",
       "<tr>\n",
       "  <th>No. Observations:</th>      <td>  2661</td>      <th>  AIC:               </th> <td>   7570.</td>\n",
       "</tr>\n",
       "<tr>\n",
       "  <th>Df Residuals:</th>          <td>  2590</td>      <th>  BIC:               </th> <td>   7988.</td>\n",
       "</tr>\n",
       "<tr>\n",
       "  <th>Df Model:</th>              <td>    70</td>      <th>                     </th>     <td> </td>   \n",
       "</tr>\n",
       "<tr>\n",
       "  <th>Covariance Type:</th>      <td>nonrobust</td>    <th>                     </th>     <td> </td>   \n",
       "</tr>\n",
       "</table>\n",
       "<table class=\"simpletable\">\n",
       "<tr>\n",
       "       <td></td>          <th>coef</th>     <th>std err</th>      <th>t</th>      <th>P>|t|</th>  <th>[0.025</th>    <th>0.975]</th>  \n",
       "</tr>\n",
       "<tr>\n",
       "  <th>const</th>       <td>    0.7889</td> <td>    0.056</td> <td>   14.149</td> <td> 0.000</td> <td>    0.680</td> <td>    0.898</td>\n",
       "</tr>\n",
       "<tr>\n",
       "  <th>PRICE__BOOK</th> <td>   -0.0555</td> <td>    0.065</td> <td>   -0.856</td> <td> 0.392</td> <td>   -0.183</td> <td>    0.072</td>\n",
       "</tr>\n",
       "<tr>\n",
       "  <th>P__E</th>        <td>   -0.9129</td> <td>    0.212</td> <td>   -4.315</td> <td> 0.000</td> <td>   -1.328</td> <td>   -0.498</td>\n",
       "</tr>\n",
       "<tr>\n",
       "  <th>P__EBIT</th>     <td>   -0.6544</td> <td>    0.263</td> <td>   -2.487</td> <td> 0.013</td> <td>   -1.170</td> <td>   -0.138</td>\n",
       "</tr>\n",
       "<tr>\n",
       "  <th>P__SALES</th>    <td>    0.1469</td> <td>    0.025</td> <td>    5.941</td> <td> 0.000</td> <td>    0.098</td> <td>    0.195</td>\n",
       "</tr>\n",
       "<tr>\n",
       "  <th>SIC_1</th>       <td>   -0.6382</td> <td>    0.440</td> <td>   -1.451</td> <td> 0.147</td> <td>   -1.501</td> <td>    0.224</td>\n",
       "</tr>\n",
       "<tr>\n",
       "  <th>SIC_10</th>      <td>    0.7445</td> <td>    0.330</td> <td>    2.259</td> <td> 0.024</td> <td>    0.098</td> <td>    1.391</td>\n",
       "</tr>\n",
       "<tr>\n",
       "  <th>SIC_12</th>      <td>   -0.4333</td> <td>    0.441</td> <td>   -0.983</td> <td> 0.326</td> <td>   -1.297</td> <td>    0.431</td>\n",
       "</tr>\n",
       "<tr>\n",
       "  <th>SIC_13</th>      <td>    0.3786</td> <td>    0.146</td> <td>    2.600</td> <td> 0.009</td> <td>    0.093</td> <td>    0.664</td>\n",
       "</tr>\n",
       "<tr>\n",
       "  <th>SIC_14</th>      <td>    0.1221</td> <td>    0.349</td> <td>    0.350</td> <td> 0.726</td> <td>   -0.562</td> <td>    0.806</td>\n",
       "</tr>\n",
       "<tr>\n",
       "  <th>SIC_15</th>      <td>    0.2740</td> <td>    0.235</td> <td>    1.164</td> <td> 0.245</td> <td>   -0.188</td> <td>    0.736</td>\n",
       "</tr>\n",
       "<tr>\n",
       "  <th>SIC_16</th>      <td>   -0.0548</td> <td>    0.286</td> <td>   -0.191</td> <td> 0.848</td> <td>   -0.617</td> <td>    0.507</td>\n",
       "</tr>\n",
       "<tr>\n",
       "  <th>SIC_17</th>      <td>    0.2855</td> <td>    0.401</td> <td>    0.712</td> <td> 0.477</td> <td>   -0.501</td> <td>    1.072</td>\n",
       "</tr>\n",
       "<tr>\n",
       "  <th>SIC_2</th>       <td>   -0.9936</td> <td>    0.977</td> <td>   -1.017</td> <td> 0.309</td> <td>   -2.909</td> <td>    0.922</td>\n",
       "</tr>\n",
       "<tr>\n",
       "  <th>SIC_20</th>      <td>   -0.2233</td> <td>    0.144</td> <td>   -1.548</td> <td> 0.122</td> <td>   -0.506</td> <td>    0.059</td>\n",
       "</tr>\n",
       "<tr>\n",
       "  <th>SIC_21</th>      <td>   -0.2759</td> <td>    0.566</td> <td>   -0.488</td> <td> 0.626</td> <td>   -1.386</td> <td>    0.834</td>\n",
       "</tr>\n",
       "<tr>\n",
       "  <th>SIC_22</th>      <td>   -0.2227</td> <td>    0.490</td> <td>   -0.454</td> <td> 0.650</td> <td>   -1.184</td> <td>    0.738</td>\n",
       "</tr>\n",
       "<tr>\n",
       "  <th>SIC_23</th>      <td>    0.3498</td> <td>    0.256</td> <td>    1.366</td> <td> 0.172</td> <td>   -0.152</td> <td>    0.852</td>\n",
       "</tr>\n",
       "<tr>\n",
       "  <th>SIC_24</th>      <td>    0.2194</td> <td>    0.285</td> <td>    0.769</td> <td> 0.442</td> <td>   -0.340</td> <td>    0.779</td>\n",
       "</tr>\n",
       "<tr>\n",
       "  <th>SIC_25</th>      <td>    0.6424</td> <td>    0.249</td> <td>    2.585</td> <td> 0.010</td> <td>    0.155</td> <td>    1.130</td>\n",
       "</tr>\n",
       "<tr>\n",
       "  <th>SIC_26</th>      <td>   -0.3863</td> <td>    0.235</td> <td>   -1.647</td> <td> 0.100</td> <td>   -0.846</td> <td>    0.074</td>\n",
       "</tr>\n",
       "<tr>\n",
       "  <th>SIC_27</th>      <td>   -0.4891</td> <td>    0.275</td> <td>   -1.778</td> <td> 0.076</td> <td>   -1.029</td> <td>    0.050</td>\n",
       "</tr>\n",
       "<tr>\n",
       "  <th>SIC_28</th>      <td>   -0.2292</td> <td>    0.077</td> <td>   -2.990</td> <td> 0.003</td> <td>   -0.380</td> <td>   -0.079</td>\n",
       "</tr>\n",
       "<tr>\n",
       "  <th>SIC_29</th>      <td>   -0.4356</td> <td>    0.257</td> <td>   -1.695</td> <td> 0.090</td> <td>   -0.940</td> <td>    0.068</td>\n",
       "</tr>\n",
       "<tr>\n",
       "  <th>SIC_30</th>      <td>    1.1315</td> <td>    0.235</td> <td>    4.823</td> <td> 0.000</td> <td>    0.671</td> <td>    1.591</td>\n",
       "</tr>\n",
       "<tr>\n",
       "  <th>SIC_31</th>      <td>    0.1990</td> <td>    0.348</td> <td>    0.572</td> <td> 0.568</td> <td>   -0.483</td> <td>    0.881</td>\n",
       "</tr>\n",
       "<tr>\n",
       "  <th>SIC_32</th>      <td>   -0.1914</td> <td>    0.348</td> <td>   -0.550</td> <td> 0.583</td> <td>   -0.874</td> <td>    0.491</td>\n",
       "</tr>\n",
       "<tr>\n",
       "  <th>SIC_33</th>      <td>   -0.0611</td> <td>    0.213</td> <td>   -0.286</td> <td> 0.775</td> <td>   -0.479</td> <td>    0.357</td>\n",
       "</tr>\n",
       "<tr>\n",
       "  <th>SIC_34</th>      <td>   -0.0990</td> <td>    0.171</td> <td>   -0.579</td> <td> 0.563</td> <td>   -0.435</td> <td>    0.237</td>\n",
       "</tr>\n",
       "<tr>\n",
       "  <th>SIC_35</th>      <td>    0.0540</td> <td>    0.109</td> <td>    0.494</td> <td> 0.621</td> <td>   -0.160</td> <td>    0.268</td>\n",
       "</tr>\n",
       "<tr>\n",
       "  <th>SIC_36</th>      <td>    0.3594</td> <td>    0.097</td> <td>    3.690</td> <td> 0.000</td> <td>    0.168</td> <td>    0.550</td>\n",
       "</tr>\n",
       "<tr>\n",
       "  <th>SIC_37</th>      <td>    0.4037</td> <td>    0.139</td> <td>    2.912</td> <td> 0.004</td> <td>    0.132</td> <td>    0.675</td>\n",
       "</tr>\n",
       "<tr>\n",
       "  <th>SIC_38</th>      <td>   -0.0835</td> <td>    0.099</td> <td>   -0.844</td> <td> 0.399</td> <td>   -0.278</td> <td>    0.111</td>\n",
       "</tr>\n",
       "<tr>\n",
       "  <th>SIC_39</th>      <td>    0.4753</td> <td>    0.265</td> <td>    1.795</td> <td> 0.073</td> <td>   -0.044</td> <td>    0.995</td>\n",
       "</tr>\n",
       "<tr>\n",
       "  <th>SIC_40</th>      <td>   -0.1188</td> <td>    0.490</td> <td>   -0.242</td> <td> 0.809</td> <td>   -1.081</td> <td>    0.843</td>\n",
       "</tr>\n",
       "<tr>\n",
       "  <th>SIC_41</th>      <td>   -0.2779</td> <td>    0.694</td> <td>   -0.401</td> <td> 0.689</td> <td>   -1.638</td> <td>    1.082</td>\n",
       "</tr>\n",
       "<tr>\n",
       "  <th>SIC_42</th>      <td>   -0.2680</td> <td>    0.249</td> <td>   -1.077</td> <td> 0.281</td> <td>   -0.756</td> <td>    0.220</td>\n",
       "</tr>\n",
       "<tr>\n",
       "  <th>SIC_44</th>      <td>   -0.5543</td> <td>    0.223</td> <td>   -2.490</td> <td> 0.013</td> <td>   -0.991</td> <td>   -0.118</td>\n",
       "</tr>\n",
       "<tr>\n",
       "  <th>SIC_45</th>      <td>   -0.0892</td> <td>    0.249</td> <td>   -0.358</td> <td> 0.720</td> <td>   -0.578</td> <td>    0.399</td>\n",
       "</tr>\n",
       "<tr>\n",
       "  <th>SIC_47</th>      <td>    0.0334</td> <td>    0.329</td> <td>    0.102</td> <td> 0.919</td> <td>   -0.611</td> <td>    0.678</td>\n",
       "</tr>\n",
       "<tr>\n",
       "  <th>SIC_48</th>      <td>   -0.2983</td> <td>    0.148</td> <td>   -2.012</td> <td> 0.044</td> <td>   -0.589</td> <td>   -0.008</td>\n",
       "</tr>\n",
       "<tr>\n",
       "  <th>SIC_49</th>      <td>   -0.4732</td> <td>    0.116</td> <td>   -4.086</td> <td> 0.000</td> <td>   -0.700</td> <td>   -0.246</td>\n",
       "</tr>\n",
       "<tr>\n",
       "  <th>SIC_50</th>      <td>   -0.0907</td> <td>    0.163</td> <td>   -0.556</td> <td> 0.578</td> <td>   -0.410</td> <td>    0.229</td>\n",
       "</tr>\n",
       "<tr>\n",
       "  <th>SIC_51</th>      <td>   -0.7370</td> <td>    0.211</td> <td>   -3.492</td> <td> 0.000</td> <td>   -1.151</td> <td>   -0.323</td>\n",
       "</tr>\n",
       "<tr>\n",
       "  <th>SIC_52</th>      <td>    2.2937</td> <td>    0.401</td> <td>    5.716</td> <td> 0.000</td> <td>    1.507</td> <td>    3.081</td>\n",
       "</tr>\n",
       "<tr>\n",
       "  <th>SIC_53</th>      <td>    0.0684</td> <td>    0.266</td> <td>    0.257</td> <td> 0.797</td> <td>   -0.453</td> <td>    0.590</td>\n",
       "</tr>\n",
       "<tr>\n",
       "  <th>SIC_54</th>      <td>   -0.9113</td> <td>    0.352</td> <td>   -2.590</td> <td> 0.010</td> <td>   -1.601</td> <td>   -0.221</td>\n",
       "</tr>\n",
       "<tr>\n",
       "  <th>SIC_55</th>      <td>    0.4285</td> <td>    0.240</td> <td>    1.789</td> <td> 0.074</td> <td>   -0.041</td> <td>    0.898</td>\n",
       "</tr>\n",
       "<tr>\n",
       "  <th>SIC_56</th>      <td>    0.1655</td> <td>    0.214</td> <td>    0.773</td> <td> 0.440</td> <td>   -0.254</td> <td>    0.585</td>\n",
       "</tr>\n",
       "<tr>\n",
       "  <th>SIC_57</th>      <td>    1.6711</td> <td>    0.332</td> <td>    5.031</td> <td> 0.000</td> <td>    1.020</td> <td>    2.322</td>\n",
       "</tr>\n",
       "<tr>\n",
       "  <th>SIC_58</th>      <td>    0.2833</td> <td>    0.176</td> <td>    1.605</td> <td> 0.109</td> <td>   -0.063</td> <td>    0.629</td>\n",
       "</tr>\n",
       "<tr>\n",
       "  <th>SIC_59</th>      <td>    0.8762</td> <td>    0.192</td> <td>    4.573</td> <td> 0.000</td> <td>    0.500</td> <td>    1.252</td>\n",
       "</tr>\n",
       "<tr>\n",
       "  <th>SIC_60</th>      <td>   -0.2222</td> <td>    0.081</td> <td>   -2.727</td> <td> 0.006</td> <td>   -0.382</td> <td>   -0.062</td>\n",
       "</tr>\n",
       "<tr>\n",
       "  <th>SIC_61</th>      <td>    0.3528</td> <td>    0.199</td> <td>    1.776</td> <td> 0.076</td> <td>   -0.037</td> <td>    0.742</td>\n",
       "</tr>\n",
       "<tr>\n",
       "  <th>SIC_62</th>      <td>   -0.0115</td> <td>    0.141</td> <td>   -0.082</td> <td> 0.935</td> <td>   -0.287</td> <td>    0.264</td>\n",
       "</tr>\n",
       "<tr>\n",
       "  <th>SIC_63</th>      <td>   -0.4166</td> <td>    0.118</td> <td>   -3.531</td> <td> 0.000</td> <td>   -0.648</td> <td>   -0.185</td>\n",
       "</tr>\n",
       "<tr>\n",
       "  <th>SIC_64</th>      <td>   -0.1254</td> <td>    0.298</td> <td>   -0.420</td> <td> 0.674</td> <td>   -0.711</td> <td>    0.460</td>\n",
       "</tr>\n",
       "<tr>\n",
       "  <th>SIC_65</th>      <td>    0.2982</td> <td>    0.228</td> <td>    1.305</td> <td> 0.192</td> <td>   -0.150</td> <td>    0.746</td>\n",
       "</tr>\n",
       "<tr>\n",
       "  <th>SIC_67</th>      <td>   -0.2643</td> <td>    0.087</td> <td>   -3.023</td> <td> 0.003</td> <td>   -0.436</td> <td>   -0.093</td>\n",
       "</tr>\n",
       "<tr>\n",
       "  <th>SIC_7</th>       <td>   -0.5009</td> <td>    0.977</td> <td>   -0.513</td> <td> 0.608</td> <td>   -2.416</td> <td>    1.415</td>\n",
       "</tr>\n",
       "<tr>\n",
       "  <th>SIC_70</th>      <td>    0.2579</td> <td>    0.329</td> <td>    0.784</td> <td> 0.433</td> <td>   -0.387</td> <td>    0.903</td>\n",
       "</tr>\n",
       "<tr>\n",
       "  <th>SIC_72</th>      <td>   -0.1065</td> <td>    0.372</td> <td>   -0.287</td> <td> 0.775</td> <td>   -0.836</td> <td>    0.623</td>\n",
       "</tr>\n",
       "<tr>\n",
       "  <th>SIC_73</th>      <td>    0.1405</td> <td>    0.075</td> <td>    1.864</td> <td> 0.062</td> <td>   -0.007</td> <td>    0.288</td>\n",
       "</tr>\n",
       "<tr>\n",
       "  <th>SIC_75</th>      <td>   -0.0542</td> <td>    0.439</td> <td>   -0.123</td> <td> 0.902</td> <td>   -0.915</td> <td>    0.807</td>\n",
       "</tr>\n",
       "<tr>\n",
       "  <th>SIC_78</th>      <td>   -0.7078</td> <td>    0.439</td> <td>   -1.613</td> <td> 0.107</td> <td>   -1.568</td> <td>    0.153</td>\n",
       "</tr>\n",
       "<tr>\n",
       "  <th>SIC_79</th>      <td>    0.5915</td> <td>    0.235</td> <td>    2.517</td> <td> 0.012</td> <td>    0.131</td> <td>    1.052</td>\n",
       "</tr>\n",
       "<tr>\n",
       "  <th>SIC_80</th>      <td>    0.1759</td> <td>    0.172</td> <td>    1.022</td> <td> 0.307</td> <td>   -0.162</td> <td>    0.513</td>\n",
       "</tr>\n",
       "<tr>\n",
       "  <th>SIC_81</th>      <td>   -0.2741</td> <td>    0.977</td> <td>   -0.281</td> <td> 0.779</td> <td>   -2.189</td> <td>    1.641</td>\n",
       "</tr>\n",
       "<tr>\n",
       "  <th>SIC_82</th>      <td>   -0.4496</td> <td>    0.286</td> <td>   -1.574</td> <td> 0.116</td> <td>   -1.010</td> <td>    0.111</td>\n",
       "</tr>\n",
       "<tr>\n",
       "  <th>SIC_83</th>      <td>   -0.0824</td> <td>    0.977</td> <td>   -0.084</td> <td> 0.933</td> <td>   -1.998</td> <td>    1.834</td>\n",
       "</tr>\n",
       "<tr>\n",
       "  <th>SIC_87</th>      <td>   -0.1466</td> <td>    0.176</td> <td>   -0.834</td> <td> 0.405</td> <td>   -0.492</td> <td>    0.198</td>\n",
       "</tr>\n",
       "<tr>\n",
       "  <th>SIC_99</th>      <td>   -0.4897</td> <td>    0.565</td> <td>   -0.866</td> <td> 0.386</td> <td>   -1.598</td> <td>    0.619</td>\n",
       "</tr>\n",
       "</table>\n",
       "<table class=\"simpletable\">\n",
       "<tr>\n",
       "  <th>Omnibus:</th>       <td>2801.713</td> <th>  Durbin-Watson:     </th>  <td>   1.952</td> \n",
       "</tr>\n",
       "<tr>\n",
       "  <th>Prob(Omnibus):</th>  <td> 0.000</td>  <th>  Jarque-Bera (JB):  </th> <td>336446.436</td>\n",
       "</tr>\n",
       "<tr>\n",
       "  <th>Skew:</th>           <td> 4.973</td>  <th>  Prob(JB):          </th>  <td>    0.00</td> \n",
       "</tr>\n",
       "<tr>\n",
       "  <th>Kurtosis:</th>       <td>57.181</td>  <th>  Cond. No.          </th>  <td>3.20e+16</td> \n",
       "</tr>\n",
       "</table><br/><br/>Warnings:<br/>[1] Standard Errors assume that the covariance matrix of the errors is correctly specified.<br/>[2] The smallest eigenvalue is 7.04e-30. This might indicate that there are<br/>strong multicollinearity problems or that the design matrix is singular."
      ],
      "text/plain": [
       "<class 'statsmodels.iolib.summary.Summary'>\n",
       "\"\"\"\n",
       "                            OLS Regression Results                            \n",
       "==============================================================================\n",
       "Dep. Variable:          RET_LATE_2020   R-squared:                       0.168\n",
       "Model:                            OLS   Adj. R-squared:                  0.145\n",
       "Method:                 Least Squares   F-statistic:                     7.468\n",
       "Date:                Thu, 08 Jul 2021   Prob (F-statistic):           7.21e-63\n",
       "Time:                        00:52:33   Log-Likelihood:                -3714.1\n",
       "No. Observations:                2661   AIC:                             7570.\n",
       "Df Residuals:                    2590   BIC:                             7988.\n",
       "Df Model:                          70                                         \n",
       "Covariance Type:            nonrobust                                         \n",
       "===============================================================================\n",
       "                  coef    std err          t      P>|t|      [0.025      0.975]\n",
       "-------------------------------------------------------------------------------\n",
       "const           0.7889      0.056     14.149      0.000       0.680       0.898\n",
       "PRICE__BOOK    -0.0555      0.065     -0.856      0.392      -0.183       0.072\n",
       "P__E           -0.9129      0.212     -4.315      0.000      -1.328      -0.498\n",
       "P__EBIT        -0.6544      0.263     -2.487      0.013      -1.170      -0.138\n",
       "P__SALES        0.1469      0.025      5.941      0.000       0.098       0.195\n",
       "SIC_1          -0.6382      0.440     -1.451      0.147      -1.501       0.224\n",
       "SIC_10          0.7445      0.330      2.259      0.024       0.098       1.391\n",
       "SIC_12         -0.4333      0.441     -0.983      0.326      -1.297       0.431\n",
       "SIC_13          0.3786      0.146      2.600      0.009       0.093       0.664\n",
       "SIC_14          0.1221      0.349      0.350      0.726      -0.562       0.806\n",
       "SIC_15          0.2740      0.235      1.164      0.245      -0.188       0.736\n",
       "SIC_16         -0.0548      0.286     -0.191      0.848      -0.617       0.507\n",
       "SIC_17          0.2855      0.401      0.712      0.477      -0.501       1.072\n",
       "SIC_2          -0.9936      0.977     -1.017      0.309      -2.909       0.922\n",
       "SIC_20         -0.2233      0.144     -1.548      0.122      -0.506       0.059\n",
       "SIC_21         -0.2759      0.566     -0.488      0.626      -1.386       0.834\n",
       "SIC_22         -0.2227      0.490     -0.454      0.650      -1.184       0.738\n",
       "SIC_23          0.3498      0.256      1.366      0.172      -0.152       0.852\n",
       "SIC_24          0.2194      0.285      0.769      0.442      -0.340       0.779\n",
       "SIC_25          0.6424      0.249      2.585      0.010       0.155       1.130\n",
       "SIC_26         -0.3863      0.235     -1.647      0.100      -0.846       0.074\n",
       "SIC_27         -0.4891      0.275     -1.778      0.076      -1.029       0.050\n",
       "SIC_28         -0.2292      0.077     -2.990      0.003      -0.380      -0.079\n",
       "SIC_29         -0.4356      0.257     -1.695      0.090      -0.940       0.068\n",
       "SIC_30          1.1315      0.235      4.823      0.000       0.671       1.591\n",
       "SIC_31          0.1990      0.348      0.572      0.568      -0.483       0.881\n",
       "SIC_32         -0.1914      0.348     -0.550      0.583      -0.874       0.491\n",
       "SIC_33         -0.0611      0.213     -0.286      0.775      -0.479       0.357\n",
       "SIC_34         -0.0990      0.171     -0.579      0.563      -0.435       0.237\n",
       "SIC_35          0.0540      0.109      0.494      0.621      -0.160       0.268\n",
       "SIC_36          0.3594      0.097      3.690      0.000       0.168       0.550\n",
       "SIC_37          0.4037      0.139      2.912      0.004       0.132       0.675\n",
       "SIC_38         -0.0835      0.099     -0.844      0.399      -0.278       0.111\n",
       "SIC_39          0.4753      0.265      1.795      0.073      -0.044       0.995\n",
       "SIC_40         -0.1188      0.490     -0.242      0.809      -1.081       0.843\n",
       "SIC_41         -0.2779      0.694     -0.401      0.689      -1.638       1.082\n",
       "SIC_42         -0.2680      0.249     -1.077      0.281      -0.756       0.220\n",
       "SIC_44         -0.5543      0.223     -2.490      0.013      -0.991      -0.118\n",
       "SIC_45         -0.0892      0.249     -0.358      0.720      -0.578       0.399\n",
       "SIC_47          0.0334      0.329      0.102      0.919      -0.611       0.678\n",
       "SIC_48         -0.2983      0.148     -2.012      0.044      -0.589      -0.008\n",
       "SIC_49         -0.4732      0.116     -4.086      0.000      -0.700      -0.246\n",
       "SIC_50         -0.0907      0.163     -0.556      0.578      -0.410       0.229\n",
       "SIC_51         -0.7370      0.211     -3.492      0.000      -1.151      -0.323\n",
       "SIC_52          2.2937      0.401      5.716      0.000       1.507       3.081\n",
       "SIC_53          0.0684      0.266      0.257      0.797      -0.453       0.590\n",
       "SIC_54         -0.9113      0.352     -2.590      0.010      -1.601      -0.221\n",
       "SIC_55          0.4285      0.240      1.789      0.074      -0.041       0.898\n",
       "SIC_56          0.1655      0.214      0.773      0.440      -0.254       0.585\n",
       "SIC_57          1.6711      0.332      5.031      0.000       1.020       2.322\n",
       "SIC_58          0.2833      0.176      1.605      0.109      -0.063       0.629\n",
       "SIC_59          0.8762      0.192      4.573      0.000       0.500       1.252\n",
       "SIC_60         -0.2222      0.081     -2.727      0.006      -0.382      -0.062\n",
       "SIC_61          0.3528      0.199      1.776      0.076      -0.037       0.742\n",
       "SIC_62         -0.0115      0.141     -0.082      0.935      -0.287       0.264\n",
       "SIC_63         -0.4166      0.118     -3.531      0.000      -0.648      -0.185\n",
       "SIC_64         -0.1254      0.298     -0.420      0.674      -0.711       0.460\n",
       "SIC_65          0.2982      0.228      1.305      0.192      -0.150       0.746\n",
       "SIC_67         -0.2643      0.087     -3.023      0.003      -0.436      -0.093\n",
       "SIC_7          -0.5009      0.977     -0.513      0.608      -2.416       1.415\n",
       "SIC_70          0.2579      0.329      0.784      0.433      -0.387       0.903\n",
       "SIC_72         -0.1065      0.372     -0.287      0.775      -0.836       0.623\n",
       "SIC_73          0.1405      0.075      1.864      0.062      -0.007       0.288\n",
       "SIC_75         -0.0542      0.439     -0.123      0.902      -0.915       0.807\n",
       "SIC_78         -0.7078      0.439     -1.613      0.107      -1.568       0.153\n",
       "SIC_79          0.5915      0.235      2.517      0.012       0.131       1.052\n",
       "SIC_80          0.1759      0.172      1.022      0.307      -0.162       0.513\n",
       "SIC_81         -0.2741      0.977     -0.281      0.779      -2.189       1.641\n",
       "SIC_82         -0.4496      0.286     -1.574      0.116      -1.010       0.111\n",
       "SIC_83         -0.0824      0.977     -0.084      0.933      -1.998       1.834\n",
       "SIC_87         -0.1466      0.176     -0.834      0.405      -0.492       0.198\n",
       "SIC_99         -0.4897      0.565     -0.866      0.386      -1.598       0.619\n",
       "==============================================================================\n",
       "Omnibus:                     2801.713   Durbin-Watson:                   1.952\n",
       "Prob(Omnibus):                  0.000   Jarque-Bera (JB):           336446.436\n",
       "Skew:                           4.973   Prob(JB):                         0.00\n",
       "Kurtosis:                      57.181   Cond. No.                     3.20e+16\n",
       "==============================================================================\n",
       "\n",
       "Warnings:\n",
       "[1] Standard Errors assume that the covariance matrix of the errors is correctly specified.\n",
       "[2] The smallest eigenvalue is 7.04e-30. This might indicate that there are\n",
       "strong multicollinearity problems or that the design matrix is singular.\n",
       "\"\"\""
      ]
     },
     "execution_count": 39,
     "metadata": {
      "tags": []
     },
     "output_type": "execute_result"
    }
   ],
   "source": [
    "x = df_sic_dum.drop(columns=['TICKER', 'RET_EARLY_2020', 'RET_LATE_2020', 'GGROUP', 'NAICS', 'GGROUP_CODE', 'GSECTOR_CODE', 'SIC_CODE', 'GSECTOR'])\n",
    "x = sm.add_constant(x)\n",
    "y = df_sic_dum['RET_LATE_2020']\n",
    "sm.OLS(y, x).fit().summary()"
   ]
  },
  {
   "cell_type": "markdown",
   "metadata": {
    "id": "4JpvDfkyXPEf"
   },
   "source": [
    "## Model Summaries and Interpretation of Results\n",
    "Below are tables summarizing first the regressions on early and late 2020 returns using only industry and sector fixed effects. The next table summarizes regressions on early and late 2020 returns using industry and sector fixed effects as well as the financial ratios as covariates\n",
    "\n",
    "For Table 1, the first column represents the regression of concern (i.e. GSECTOR_EARLY --> Early_Returns ~ GSECTOR Fixed Effects). The 'Adj-R2' column represents the adjusted R-squared value for the regression. The '% Significant FE' represents the percentage of industry/sector code fixed effect coefficients that exhibited statistical significance at at least the 5% level (95% confidence).\n",
    "\n",
    "For Table 2, the first three columns follow the same format as Table 1, but the fourth column '% Significant Ratios', represents the percantage of financial ratio coefficients that exhibited statistical significance at at least the 5% level (95% confidence interval).\n",
    "\n",
    "These tables will help us understand which regressions (i.e. which fixed effects and covariates) yield the model with the highest predictive performance."
   ]
  },
  {
   "cell_type": "markdown",
   "metadata": {
    "id": "lM2MgYQYX1ue"
   },
   "source": [
    "**Table 1: Industry and Sector Fixed Effects Regressions**\n",
    "\n",
    "|               | Adj-R2 | % Significant FE |\n",
    "|---------------|--------|------------------|\n",
    "| GSECTOR_EARLY | 0.116  | 100%             |\n",
    "| GSECTOR_LATE  | 0.089  | 90.9%            |\n",
    "| SIC_EARLY     | 0.105  | 83.5%            |\n",
    "| SIC_LATE      | 0.109  | 71.6%            |"
   ]
  },
  {
   "cell_type": "markdown",
   "metadata": {
    "id": "7daszwXIfL_h"
   },
   "source": [
    "**Table 2: Industry and Sector Fixed Effects & Financial Ratio Covariates Regressions**\n",
    "\n",
    "|               | Adj-R2 | % Significant FE | % Significant Ratios |\n",
    "|---------------|--------|------------------|----------------------|\n",
    "| GSECTOR_EARLY | 0.163  | 63.6%            | 50%                  |\n",
    "| GSECTOR_LATE  | 0.129  | 63.6%            | 75%                  |\n",
    "| SIC_EARLY     | 0.162  | 20.8%            | 75%                  |\n",
    "| SIC_LATE      | 0.145  | 28.3%            | 75%                  |"
   ]
  },
  {
   "cell_type": "markdown",
   "metadata": {
    "id": "UTjsMGLkfhkQ"
   },
   "source": [
    "Overall the model with the best Adj-R2 (percent variation in Early/Late Returns explained by variation in Industry/Sector and Financial Ratio values) is the regression of Early 2020 Returns on GICS Sectors as Fixed effects plus financial ratios as control variables, with an Adj-R2 of 0.163. Only ~16% of the variation in early returns is explained by these regressors, meaning there are other factors at play that may contribute to a companies returns during the Covid-19 Pandemic (i.e. market volatility, or lockdown circumstances) -- these things are difficult to identify, categorize, numeralize and put into a regression. However, we've learned that at a minimum, a company's particular sector can explain some variation in it's early returns during the 2020 pandemic year. This tells us that different industries were affected in various ways by the covid-19 pandemic, some better than others.\n",
    "\n",
    "For both GSECTOR and SIC regressions, the models regressing early returns performed better than the models regressing late returns, meaning variation in early returns can be better explained by industry/sector than variation in late returns for the pandemic year. This makes sense as early returns capture the initial shock of the covid-19 lockdown period, when companies would have been most significantly and immediately affected. Late returns allow for 9 more months of recovery, giving various industries/sectors time to adjust and correct course -- allowing for increased variation in returns due to other factors not included in the models.\n",
    "\n",
    "Both GSECTOR and SIC code fixed effects perform similarly in how they affect the Adj-R2 of the models (meaning one is not necessarily better than the other purely based on Adj-R2), however a higher percentage of the coefficients on GSECTOR fixed effects are statisticaly significant than that of SIC fixed effects. In other words, GSECTOR is a more reliable fixed effect than SIC in terms of significance on the model results.\n",
    "\n",
    "For the models that include financial ratios as controls for the company's and industry's individual financial states at the beginning of the period, at least 50% of the ratio coefficients were significant, 75% were significant for 3/4 of the models. This tells us that controlling for financial states in the same industries helps to improve the model performance. This can be confirmed by looking at the Adj-R2 values in Table two (regressions that include ratios as controls). All of the Adj-R2 values for regressions that include financial ratios are higher than all the models that do not include financial ratios. In other words, keeping financial ratios in the regression improves the model performance from an explanatory power perspective."
   ]
  }
 ],
 "metadata": {
  "colab": {
   "collapsed_sections": [],
   "name": "Project - Jordan Grose.ipynb",
   "provenance": []
  },
  "kernelspec": {
   "display_name": "Python 3",
   "language": "python",
   "name": "python3"
  },
  "language_info": {
   "codemirror_mode": {
    "name": "ipython",
    "version": 3
   },
   "file_extension": ".py",
   "mimetype": "text/x-python",
   "name": "python",
   "nbconvert_exporter": "python",
   "pygments_lexer": "ipython3",
   "version": "3.8.5"
  }
 },
 "nbformat": 4,
 "nbformat_minor": 4
}
